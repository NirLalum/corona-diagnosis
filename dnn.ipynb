{
 "cells": [
  {
   "cell_type": "code",
   "execution_count": 7,
   "source": [
    "# ====== Packages =======\n",
    "import torch\n",
    "import torch.nn as nn\n",
    "import torch.nn.functional as F\n",
    "import torch.optim as optim\n",
    "\n",
    "import numpy as np\n",
    "import pandas as pd\n",
    "\n",
    "# ---- user defined modules ----\n",
    "import pre_proccessing_helpers as hel\n",
    "import models_helpers as mh\n"
   ],
   "outputs": [],
   "metadata": {}
  },
  {
   "cell_type": "code",
   "execution_count": 8,
   "source": [
    "class Net(nn.Module):\n",
    "    def __init__(self, nuerons_num: list):\n",
    "        super().__init__()\n",
    "        self.fc1 = nn.Linear(nuerons_num[0], nuerons_num[1])\n",
    "        self.fc2 = nn.Linear(nuerons_num[1], nuerons_num[2])\n",
    "        self.fc3 = nn.Linear(nuerons_num[2], nuerons_num[3])\n",
    "    \n",
    "    def forward(self, net_input):\n",
    "        z = self.fc1(net_input)\n",
    "        a = F.relu(z)\n",
    "        z = self.fc2(a)\n",
    "        a = F.relu(z)\n",
    "        z = self.fc3(a)\n",
    "        \n",
    "        return F.sigmoid(z)\n",
    "\n",
    "net = Net([3,3,3,3])"
   ],
   "outputs": [],
   "metadata": {}
  },
  {
   "cell_type": "code",
   "execution_count": 19,
   "source": [
    "dataset2 = pd.read_pickle('data_for_tree2.pkl')\n",
    "X_train_raw, y_train_raw, X_test, y_test = mh.data_split(dataset2 ,n_splits=1, test_size=0.4, train_size=0.6)\n",
    "X_train, y_train = mh.up_down_sampling(X_train_raw, y_train_raw, ratio=1, up=True)\n",
    "\n",
    "data_test = pd.concat([X_test, y_test], axis=1)\n",
    "X_test, y_test, X_val, y_val = mh.data_split(data_test , n_splits=1, test_size=0.5, train_size=0.5)\n",
    "\n",
    "X_train, y_train, X_test, y_test, X_val, y_val = (torch.from_numpy(X_train.values), torch.from_numpy(y_train.values), \n",
    "                                                 torch.from_numpy(X_test.values), torch.from_numpy(y_test.values), \n",
    "                                                 torch.from_numpy(X_val.values), torch.from_numpy(y_val.values))\n"
   ],
   "outputs": [],
   "metadata": {}
  },
  {
   "cell_type": "code",
   "execution_count": 22,
   "source": [
    "X_train.size()"
   ],
   "outputs": [
    {
     "output_type": "execute_result",
     "data": {
      "text/plain": [
       "torch.Size([312010, 15])"
      ]
     },
     "metadata": {},
     "execution_count": 22
    }
   ],
   "metadata": {}
  },
  {
   "cell_type": "code",
   "execution_count": 23,
   "source": [
    "loss = nn.CrossEntropyLoss()\n",
    "optimizer = optim.SGD(net.parameters(), lr = 0.01, momentum=0.9)\n",
    "\n",
    "for input, target in zip(X_train, y_train):\n",
    "    print(input)\n",
    "    print(target)"
   ],
   "outputs": [],
   "metadata": {}
  },
  {
   "cell_type": "code",
   "execution_count": null,
   "source": [],
   "outputs": [],
   "metadata": {}
  }
 ],
 "metadata": {
  "orig_nbformat": 4,
  "language_info": {
   "name": "python",
   "version": "3.8.10",
   "mimetype": "text/x-python",
   "codemirror_mode": {
    "name": "ipython",
    "version": 3
   },
   "pygments_lexer": "ipython3",
   "nbconvert_exporter": "python",
   "file_extension": ".py"
  },
  "kernelspec": {
   "name": "python3",
   "display_name": "Python 3.8.10 64-bit"
  },
  "interpreter": {
   "hash": "916dbcbb3f70747c44a77c7bcd40155683ae19c65e1c03b4aa3499c5328201f1"
  }
 },
 "nbformat": 4,
 "nbformat_minor": 2
}