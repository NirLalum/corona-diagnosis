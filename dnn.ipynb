{
 "cells": [
  {
   "cell_type": "code",
   "execution_count": 86,
   "source": [
    "# ====== Packages =======\n",
    "import torch\n",
    "import torch.nn as nn\n",
    "import torch.nn.functional as F\n",
    "import torch.optim as optim\n",
    "import matplotlib.pyplot as plt\n",
    "import numpy as np\n",
    "import pandas as pd\n",
    "from tqdm import tqdm\n",
    "\n",
    "# ---- user defined modules ----\n",
    "import pre_proccessing_helpers as hel\n",
    "import models_helpers as mh\n",
    "\n",
    "%matplotlib inline\n",
    "\n",
    "plt.rcParams['figure.figsize'] = (8.0, 8.0)\n",
    "plt.rcParams['axes.grid'] = True\n",
    "plt.rcParams['font.size'] = 10\n"
   ],
   "outputs": [],
   "metadata": {}
  },
  {
   "cell_type": "code",
   "execution_count": 140,
   "source": [
    "class Net(nn.Module):\n",
    "    def __init__(self, nuerons_num: list):\n",
    "        super().__init__()\n",
    "        self.fc1 = nn.Linear(nuerons_num[0], nuerons_num[1])\n",
    "        self.fc2 = nn.Linear(nuerons_num[1], nuerons_num[2])\n",
    "        self.fc3 = nn.Linear(nuerons_num[2], nuerons_num[3])\n",
    "        self.fc4 = nn.Linear(nuerons_num[3], nuerons_num[4])\n",
    "        \n",
    "    \n",
    "    def forward(self, net_input):\n",
    "        z = self.fc1(net_input)\n",
    "        a = F.relu(z)\n",
    "        z = self.fc2(a)\n",
    "        a = F.relu(z)\n",
    "        z = self.fc3(a)\n",
    "        a = F.relu(z)\n",
    "        z = self.fc4(a)\n",
    "\n",
    "        return torch.sigmoid(z)\n",
    "\n"
   ],
   "outputs": [],
   "metadata": {}
  },
  {
   "cell_type": "code",
   "execution_count": 187,
   "source": [
    "dataset2 = pd.read_pickle('data_for_tree2.pkl')\n",
    "X_train_raw, y_train_raw, X_test, y_test = mh.data_split(dataset2 ,n_splits=1, test_size=0.4, train_size=0.6)\n",
    "X_train, y_train = mh.up_down_sampling(X_train_raw, y_train_raw, ratio=1, up=True)\n",
    "\n",
    "data_test = pd.concat([X_test, y_test], axis=1)\n",
    "X_test, y_test, X_val, y_val = mh.data_split(data_test , n_splits=1, test_size=0.5, train_size=0.5)\n",
    "\n",
    "\n",
    "X_train, y_train, X_test, y_test, X_val, y_val = (torch.from_numpy(X_train.values), torch.from_numpy(y_train.values), \n",
    "                                                 torch.from_numpy(X_test.values), torch.from_numpy(y_test.values), \n",
    "                                                 torch.from_numpy(X_val.values), torch.from_numpy(y_val.values))\n"
   ],
   "outputs": [],
   "metadata": {}
  },
  {
   "cell_type": "code",
   "execution_count": 8,
   "source": [
    "dataset2"
   ],
   "outputs": [
    {
     "output_type": "execute_result",
     "data": {
      "text/html": [
       "<div>\n",
       "<style scoped>\n",
       "    .dataframe tbody tr th:only-of-type {\n",
       "        vertical-align: middle;\n",
       "    }\n",
       "\n",
       "    .dataframe tbody tr th {\n",
       "        vertical-align: top;\n",
       "    }\n",
       "\n",
       "    .dataframe thead th {\n",
       "        text-align: right;\n",
       "    }\n",
       "</style>\n",
       "<table border=\"1\" class=\"dataframe\">\n",
       "  <thead>\n",
       "    <tr style=\"text-align: right;\">\n",
       "      <th></th>\n",
       "      <th>test_week</th>\n",
       "      <th>cough</th>\n",
       "      <th>fever</th>\n",
       "      <th>sore_throat</th>\n",
       "      <th>shortness_of_breath</th>\n",
       "      <th>head_ache</th>\n",
       "      <th>symp_num</th>\n",
       "      <th>test_indication_0</th>\n",
       "      <th>test_indication_1</th>\n",
       "      <th>test_indication_2</th>\n",
       "      <th>corona_result</th>\n",
       "    </tr>\n",
       "  </thead>\n",
       "  <tbody>\n",
       "    <tr>\n",
       "      <th>0</th>\n",
       "      <td>18</td>\n",
       "      <td>0</td>\n",
       "      <td>0</td>\n",
       "      <td>0</td>\n",
       "      <td>0</td>\n",
       "      <td>0</td>\n",
       "      <td>0</td>\n",
       "      <td>1</td>\n",
       "      <td>0</td>\n",
       "      <td>0</td>\n",
       "      <td>0</td>\n",
       "    </tr>\n",
       "    <tr>\n",
       "      <th>1</th>\n",
       "      <td>18</td>\n",
       "      <td>1</td>\n",
       "      <td>0</td>\n",
       "      <td>0</td>\n",
       "      <td>0</td>\n",
       "      <td>0</td>\n",
       "      <td>1</td>\n",
       "      <td>1</td>\n",
       "      <td>0</td>\n",
       "      <td>0</td>\n",
       "      <td>0</td>\n",
       "    </tr>\n",
       "    <tr>\n",
       "      <th>2</th>\n",
       "      <td>18</td>\n",
       "      <td>0</td>\n",
       "      <td>1</td>\n",
       "      <td>0</td>\n",
       "      <td>0</td>\n",
       "      <td>0</td>\n",
       "      <td>1</td>\n",
       "      <td>1</td>\n",
       "      <td>0</td>\n",
       "      <td>0</td>\n",
       "      <td>0</td>\n",
       "    </tr>\n",
       "    <tr>\n",
       "      <th>3</th>\n",
       "      <td>18</td>\n",
       "      <td>1</td>\n",
       "      <td>0</td>\n",
       "      <td>0</td>\n",
       "      <td>0</td>\n",
       "      <td>0</td>\n",
       "      <td>1</td>\n",
       "      <td>1</td>\n",
       "      <td>0</td>\n",
       "      <td>0</td>\n",
       "      <td>0</td>\n",
       "    </tr>\n",
       "    <tr>\n",
       "      <th>4</th>\n",
       "      <td>18</td>\n",
       "      <td>1</td>\n",
       "      <td>0</td>\n",
       "      <td>0</td>\n",
       "      <td>0</td>\n",
       "      <td>0</td>\n",
       "      <td>1</td>\n",
       "      <td>1</td>\n",
       "      <td>0</td>\n",
       "      <td>0</td>\n",
       "      <td>0</td>\n",
       "    </tr>\n",
       "    <tr>\n",
       "      <th>...</th>\n",
       "      <td>...</td>\n",
       "      <td>...</td>\n",
       "      <td>...</td>\n",
       "      <td>...</td>\n",
       "      <td>...</td>\n",
       "      <td>...</td>\n",
       "      <td>...</td>\n",
       "      <td>...</td>\n",
       "      <td>...</td>\n",
       "      <td>...</td>\n",
       "      <td>...</td>\n",
       "    </tr>\n",
       "    <tr>\n",
       "      <th>274697</th>\n",
       "      <td>11</td>\n",
       "      <td>0</td>\n",
       "      <td>0</td>\n",
       "      <td>0</td>\n",
       "      <td>0</td>\n",
       "      <td>0</td>\n",
       "      <td>0</td>\n",
       "      <td>1</td>\n",
       "      <td>0</td>\n",
       "      <td>0</td>\n",
       "      <td>0</td>\n",
       "    </tr>\n",
       "    <tr>\n",
       "      <th>274698</th>\n",
       "      <td>11</td>\n",
       "      <td>0</td>\n",
       "      <td>0</td>\n",
       "      <td>0</td>\n",
       "      <td>0</td>\n",
       "      <td>0</td>\n",
       "      <td>0</td>\n",
       "      <td>1</td>\n",
       "      <td>0</td>\n",
       "      <td>0</td>\n",
       "      <td>0</td>\n",
       "    </tr>\n",
       "    <tr>\n",
       "      <th>274699</th>\n",
       "      <td>11</td>\n",
       "      <td>0</td>\n",
       "      <td>0</td>\n",
       "      <td>0</td>\n",
       "      <td>0</td>\n",
       "      <td>0</td>\n",
       "      <td>0</td>\n",
       "      <td>1</td>\n",
       "      <td>0</td>\n",
       "      <td>0</td>\n",
       "      <td>0</td>\n",
       "    </tr>\n",
       "    <tr>\n",
       "      <th>274700</th>\n",
       "      <td>11</td>\n",
       "      <td>0</td>\n",
       "      <td>0</td>\n",
       "      <td>0</td>\n",
       "      <td>0</td>\n",
       "      <td>0</td>\n",
       "      <td>0</td>\n",
       "      <td>0</td>\n",
       "      <td>1</td>\n",
       "      <td>0</td>\n",
       "      <td>1</td>\n",
       "    </tr>\n",
       "    <tr>\n",
       "      <th>274701</th>\n",
       "      <td>11</td>\n",
       "      <td>0</td>\n",
       "      <td>0</td>\n",
       "      <td>0</td>\n",
       "      <td>0</td>\n",
       "      <td>0</td>\n",
       "      <td>0</td>\n",
       "      <td>1</td>\n",
       "      <td>0</td>\n",
       "      <td>0</td>\n",
       "      <td>0</td>\n",
       "    </tr>\n",
       "  </tbody>\n",
       "</table>\n",
       "<p>274702 rows × 11 columns</p>\n",
       "</div>"
      ],
      "text/plain": [
       "        test_week  cough  fever  sore_throat  shortness_of_breath  head_ache  \\\n",
       "0              18      0      0            0                    0          0   \n",
       "1              18      1      0            0                    0          0   \n",
       "2              18      0      1            0                    0          0   \n",
       "3              18      1      0            0                    0          0   \n",
       "4              18      1      0            0                    0          0   \n",
       "...           ...    ...    ...          ...                  ...        ...   \n",
       "274697         11      0      0            0                    0          0   \n",
       "274698         11      0      0            0                    0          0   \n",
       "274699         11      0      0            0                    0          0   \n",
       "274700         11      0      0            0                    0          0   \n",
       "274701         11      0      0            0                    0          0   \n",
       "\n",
       "        symp_num  test_indication_0  test_indication_1  test_indication_2  \\\n",
       "0              0                  1                  0                  0   \n",
       "1              1                  1                  0                  0   \n",
       "2              1                  1                  0                  0   \n",
       "3              1                  1                  0                  0   \n",
       "4              1                  1                  0                  0   \n",
       "...          ...                ...                ...                ...   \n",
       "274697         0                  1                  0                  0   \n",
       "274698         0                  1                  0                  0   \n",
       "274699         0                  1                  0                  0   \n",
       "274700         0                  0                  1                  0   \n",
       "274701         0                  1                  0                  0   \n",
       "\n",
       "        corona_result  \n",
       "0                   0  \n",
       "1                   0  \n",
       "2                   0  \n",
       "3                   0  \n",
       "4                   0  \n",
       "...               ...  \n",
       "274697              0  \n",
       "274698              0  \n",
       "274699              0  \n",
       "274700              1  \n",
       "274701              0  \n",
       "\n",
       "[274702 rows x 11 columns]"
      ]
     },
     "metadata": {},
     "execution_count": 8
    }
   ],
   "metadata": {}
  },
  {
   "cell_type": "code",
   "execution_count": 147,
   "source": [
    "X_train.size()"
   ],
   "outputs": [
    {
     "output_type": "execute_result",
     "data": {
      "text/plain": [
       "torch.Size([312010, 10])"
      ]
     },
     "metadata": {},
     "execution_count": 147
    }
   ],
   "metadata": {}
  },
  {
   "cell_type": "markdown",
   "source": [
    "### Split the data to batches:\n",
    "\n",
    "#### Note: the smaller the batch size the noisier the learning proccess and vise versa. a balance between them should be found. according to Google's TabNet's documentation the batch size should be up to 10% of the size of the training set."
   ],
   "metadata": {}
  },
  {
   "cell_type": "code",
   "execution_count": 148,
   "source": [
    "batch_size = 2**14\n",
    "y_train = torch.reshape(y_train, (y_train.size()[0], 1))\n",
    "train_set = torch.cat((X_train, y_train), dim=1)\n",
    "\n",
    "# Shuffle the data before spliting so we wont get batches of all ones and all zeros\n",
    "train_set = train_set[torch.randperm(train_set.size()[0]),:].float()\n",
    "batches = torch.split(train_set, batch_size)\n"
   ],
   "outputs": [],
   "metadata": {}
  },
  {
   "cell_type": "code",
   "execution_count": 150,
   "source": [
    "batches[2][:,-1]"
   ],
   "outputs": [
    {
     "output_type": "execute_result",
     "data": {
      "text/plain": [
       "tensor([0., 1., 1.,  ..., 0., 1., 0.])"
      ]
     },
     "metadata": {},
     "execution_count": 150
    }
   ],
   "metadata": {}
  },
  {
   "cell_type": "markdown",
   "source": [
    "## Train the model:"
   ],
   "metadata": {}
  },
  {
   "cell_type": "code",
   "execution_count": 192,
   "source": [
    "net = Net([10, 30, 60,30,1])\n",
    "loss_func = nn.BCELoss()\n",
    "#optimizer = optim.SGD(net.parameters(), lr = 0.01, momentum=0.9)\n",
    "optimizer = optim.Adam(net.parameters(), lr = 0.01, weight_decay = 0.)\n",
    "epoches = 100\n",
    "cost_train_list = []\n",
    "cost_val_list = []\n",
    "iter_list = []\n",
    "j = 0\n",
    "i = 0\n",
    " \n",
    "for epoch in tqdm(range(epoches), desc='epoch'):\n",
    "    j = i + j \n",
    "    for i, batch in enumerate(tqdm(batches, desc='batch')):\n",
    "        # get inputs and targets\n",
    "        inputs, targets = batch[:,:-1], batch[:, -1]\n",
    "        targets = torch.reshape(targets, (inputs.size()[0], 1))\n",
    "        y_val = torch.reshape(y_val, (X_val.size()[0], 1))\n",
    "        # zero the parameters gradients \n",
    "        optimizer.zero_grad()\n",
    "\n",
    "        # forward + backward + optimize\n",
    "        outputs = net.forward(inputs)\n",
    "        cost = loss_func(outputs, targets)\n",
    "        cost.backward()\n",
    "        optimizer.step()\n",
    "\n",
    "        # get statistics\n",
    "        if i % 40 == 0: # print every 10 mini-batches\n",
    "            cost_val = loss_func(net.forward(X_val.float()), y_val.float())\n",
    "            cost_val_list.append(cost_val.detach().numpy())\n",
    "            cost_train_list.append(cost.detach().numpy())\n",
    "\n",
    "            iter_list.append(j+i+1)\n",
    "        \n",
    "\n",
    "print('Finished Training')"
   ],
   "outputs": [
    {
     "output_type": "stream",
     "name": "stderr",
     "text": [
      "batch: 100%|██████████| 20/20 [00:01<00:00, 13.48it/s]\n",
      "batch: 100%|██████████| 20/20 [00:01<00:00, 11.40it/s]\n",
      "batch: 100%|██████████| 20/20 [00:01<00:00, 12.76it/s]\n",
      "batch: 100%|██████████| 20/20 [00:01<00:00, 10.39it/s]\n",
      "batch: 100%|██████████| 20/20 [00:01<00:00, 10.59it/s]\n",
      "batch: 100%|██████████| 20/20 [00:01<00:00, 11.34it/s]\n",
      "batch: 100%|██████████| 20/20 [00:00<00:00, 35.55it/s]\n",
      "batch: 100%|██████████| 20/20 [00:00<00:00, 27.00it/s]\n",
      "batch: 100%|██████████| 20/20 [00:00<00:00, 34.73it/s]\n",
      "batch: 100%|██████████| 20/20 [00:00<00:00, 37.56it/s]\n",
      "batch: 100%|██████████| 20/20 [00:00<00:00, 26.60it/s]\n",
      "batch: 100%|██████████| 20/20 [00:00<00:00, 25.15it/s]\n",
      "batch: 100%|██████████| 20/20 [00:00<00:00, 30.01it/s]\n",
      "batch: 100%|██████████| 20/20 [00:00<00:00, 31.80it/s]\n",
      "batch: 100%|██████████| 20/20 [00:00<00:00, 26.36it/s]\n",
      "batch: 100%|██████████| 20/20 [00:00<00:00, 29.06it/s]\n",
      "batch: 100%|██████████| 20/20 [00:00<00:00, 34.26it/s]\n",
      "batch: 100%|██████████| 20/20 [00:00<00:00, 34.74it/s]\n",
      "batch: 100%|██████████| 20/20 [00:00<00:00, 28.88it/s]\n",
      "batch: 100%|██████████| 20/20 [00:00<00:00, 33.42it/s]\n",
      "batch: 100%|██████████| 20/20 [00:00<00:00, 30.51it/s]\n",
      "batch: 100%|██████████| 20/20 [00:00<00:00, 26.24it/s]\n",
      "batch: 100%|██████████| 20/20 [00:00<00:00, 29.12it/s]\n",
      "batch: 100%|██████████| 20/20 [00:00<00:00, 29.80it/s]\n",
      "batch: 100%|██████████| 20/20 [00:00<00:00, 30.88it/s]\n",
      "batch: 100%|██████████| 20/20 [00:00<00:00, 30.48it/s]\n",
      "batch: 100%|██████████| 20/20 [00:00<00:00, 23.02it/s]\n",
      "batch: 100%|██████████| 20/20 [00:00<00:00, 28.72it/s]\n",
      "batch: 100%|██████████| 20/20 [00:00<00:00, 32.68it/s]\n",
      "batch: 100%|██████████| 20/20 [00:00<00:00, 26.12it/s]\n",
      "batch: 100%|██████████| 20/20 [00:00<00:00, 28.70it/s]\n",
      "batch: 100%|██████████| 20/20 [00:00<00:00, 27.73it/s]\n",
      "batch: 100%|██████████| 20/20 [00:00<00:00, 31.90it/s]\n",
      "batch: 100%|██████████| 20/20 [00:00<00:00, 27.65it/s]\n",
      "batch: 100%|██████████| 20/20 [00:00<00:00, 27.23it/s]\n",
      "batch: 100%|██████████| 20/20 [00:00<00:00, 27.22it/s]\n",
      "batch: 100%|██████████| 20/20 [00:00<00:00, 20.71it/s]\n",
      "batch: 100%|██████████| 20/20 [00:00<00:00, 27.66it/s]\n",
      "batch: 100%|██████████| 20/20 [00:00<00:00, 30.13it/s]\n",
      "batch: 100%|██████████| 20/20 [00:00<00:00, 27.76it/s]\n",
      "batch: 100%|██████████| 20/20 [00:00<00:00, 30.01it/s]\n",
      "batch: 100%|██████████| 20/20 [00:00<00:00, 24.74it/s]\n",
      "batch: 100%|██████████| 20/20 [00:00<00:00, 21.74it/s]\n",
      "batch: 100%|██████████| 20/20 [00:00<00:00, 30.92it/s]\n",
      "batch: 100%|██████████| 20/20 [00:00<00:00, 28.67it/s]\n",
      "batch: 100%|██████████| 20/20 [00:00<00:00, 28.53it/s]\n",
      "batch: 100%|██████████| 20/20 [00:00<00:00, 27.31it/s]\n",
      "batch: 100%|██████████| 20/20 [00:00<00:00, 20.78it/s]\n",
      "batch: 100%|██████████| 20/20 [00:00<00:00, 33.59it/s]\n",
      "batch: 100%|██████████| 20/20 [00:00<00:00, 33.45it/s]\n",
      "batch: 100%|██████████| 20/20 [00:00<00:00, 34.76it/s]\n",
      "batch: 100%|██████████| 20/20 [00:00<00:00, 36.98it/s]\n",
      "batch: 100%|██████████| 20/20 [00:00<00:00, 31.01it/s]\n",
      "batch: 100%|██████████| 20/20 [00:00<00:00, 30.19it/s]\n",
      "batch: 100%|██████████| 20/20 [00:02<00:00,  8.87it/s]\n",
      "batch: 100%|██████████| 20/20 [00:00<00:00, 32.39it/s]\n",
      "batch: 100%|██████████| 20/20 [00:00<00:00, 31.97it/s]\n",
      "batch: 100%|██████████| 20/20 [00:00<00:00, 28.18it/s]\n",
      "batch: 100%|██████████| 20/20 [00:00<00:00, 25.57it/s]\n",
      "batch: 100%|██████████| 20/20 [00:00<00:00, 36.07it/s]\n",
      "batch: 100%|██████████| 20/20 [00:00<00:00, 32.82it/s]\n",
      "batch: 100%|██████████| 20/20 [00:00<00:00, 32.46it/s]\n",
      "batch: 100%|██████████| 20/20 [00:00<00:00, 35.44it/s]\n",
      "batch: 100%|██████████| 20/20 [00:00<00:00, 34.13it/s]\n",
      "batch: 100%|██████████| 20/20 [00:00<00:00, 35.67it/s]\n",
      "batch: 100%|██████████| 20/20 [00:00<00:00, 26.70it/s]\n",
      "batch: 100%|██████████| 20/20 [00:00<00:00, 24.69it/s]\n",
      "batch: 100%|██████████| 20/20 [00:00<00:00, 26.31it/s]\n",
      "batch: 100%|██████████| 20/20 [00:00<00:00, 30.17it/s]\n",
      "batch: 100%|██████████| 20/20 [00:00<00:00, 34.41it/s]\n",
      "batch: 100%|██████████| 20/20 [00:00<00:00, 34.57it/s]\n",
      "batch: 100%|██████████| 20/20 [00:00<00:00, 36.00it/s]\n",
      "batch: 100%|██████████| 20/20 [00:00<00:00, 34.26it/s]\n",
      "batch: 100%|██████████| 20/20 [00:00<00:00, 36.81it/s]\n",
      "batch: 100%|██████████| 20/20 [00:00<00:00, 35.30it/s]\n",
      "batch: 100%|██████████| 20/20 [00:00<00:00, 27.00it/s]\n",
      "batch: 100%|██████████| 20/20 [00:00<00:00, 35.31it/s]\n",
      "batch: 100%|██████████| 20/20 [00:00<00:00, 29.48it/s]\n",
      "batch: 100%|██████████| 20/20 [00:00<00:00, 30.51it/s]\n",
      "batch: 100%|██████████| 20/20 [00:00<00:00, 26.66it/s]\n",
      "batch: 100%|██████████| 20/20 [00:00<00:00, 27.74it/s]\n",
      "batch: 100%|██████████| 20/20 [00:00<00:00, 30.16it/s]\n",
      "batch: 100%|██████████| 20/20 [00:00<00:00, 29.44it/s]\n",
      "batch: 100%|██████████| 20/20 [00:00<00:00, 28.61it/s]\n",
      "batch: 100%|██████████| 20/20 [00:00<00:00, 23.68it/s]\n",
      "batch: 100%|██████████| 20/20 [00:00<00:00, 31.59it/s]\n",
      "batch: 100%|██████████| 20/20 [00:00<00:00, 22.81it/s]\n",
      "batch: 100%|██████████| 20/20 [00:00<00:00, 29.13it/s]\n",
      "batch: 100%|██████████| 20/20 [00:00<00:00, 35.23it/s]\n",
      "batch: 100%|██████████| 20/20 [00:00<00:00, 30.33it/s]\n",
      "batch: 100%|██████████| 20/20 [00:00<00:00, 31.62it/s]\n",
      "batch: 100%|██████████| 20/20 [00:00<00:00, 26.89it/s]\n",
      "batch: 100%|██████████| 20/20 [00:00<00:00, 33.31it/s]\n",
      "batch: 100%|██████████| 20/20 [00:00<00:00, 28.42it/s]\n",
      "batch: 100%|██████████| 20/20 [00:00<00:00, 25.37it/s]\n",
      "batch: 100%|██████████| 20/20 [00:00<00:00, 23.17it/s]\n",
      "batch: 100%|██████████| 20/20 [00:00<00:00, 29.18it/s]\n",
      "batch: 100%|██████████| 20/20 [00:00<00:00, 26.24it/s]\n",
      "batch: 100%|██████████| 20/20 [00:00<00:00, 22.81it/s]\n",
      "batch: 100%|██████████| 20/20 [00:00<00:00, 31.43it/s]\n",
      "epoch: 100%|██████████| 100/100 [01:17<00:00,  1.29it/s]"
     ]
    },
    {
     "output_type": "stream",
     "name": "stdout",
     "text": [
      "Finished Training\n"
     ]
    },
    {
     "output_type": "stream",
     "name": "stderr",
     "text": [
      "\n"
     ]
    }
   ],
   "metadata": {}
  },
  {
   "cell_type": "markdown",
   "source": [
    "## Google's TabNet:"
   ],
   "metadata": {}
  },
  {
   "cell_type": "code",
   "execution_count": 185,
   "source": [
    "import pytorch_tabnet\n",
    "from pytorch_tabnet.tab_model import TabNetClassifier\n",
    "import torch\n",
    "\n",
    "# define the model\n",
    "clf1_nopreproc = TabNetClassifier(optimizer_fn=torch.optim.Adam,\n",
    "                       optimizer_params=dict(lr=2e-2),\n",
    "                       scheduler_params={\"step_size\":10, # how to use learning rate scheduler\n",
    "                                         \"gamma\":0.9},\n",
    "                       scheduler_fn=torch.optim.lr_scheduler.StepLR,\n",
    "                       mask_type='entmax' # \"sparsemax\"\n",
    "                      )\n",
    "\n",
    "\n",
    "# fit the model \n",
    "clf1_nopreproc.fit(\n",
    "    X_train.values,y_train.values,\n",
    "    eval_set=[(X_train.values, y_train.values), (X_val.values, y_val.values)],\n",
    "    eval_name=['train', 'valid'],\n",
    "    eval_metric=['auc','accuracy'],\n",
    "    max_epochs=1000 , patience=50,\n",
    "    batch_size=256, virtual_batch_size=128,\n",
    "    num_workers=0,\n",
    "    weights=1,\n",
    "    drop_last=False)"
   ],
   "outputs": [
    {
     "output_type": "stream",
     "name": "stdout",
     "text": [
      "Device used : cpu\n",
      "epoch 0  | loss: 0.35184 | train_auc: 0.90906 | train_accuracy: 0.8646  | valid_auc: 0.90648 | valid_accuracy: 0.92945 |  0:01:44s\n",
      "epoch 1  | loss: 0.34437 | train_auc: 0.90882 | train_accuracy: 0.86496 | valid_auc: 0.90713 | valid_accuracy: 0.93129 |  0:03:22s\n",
      "epoch 2  | loss: 0.34357 | train_auc: 0.90921 | train_accuracy: 0.8624  | valid_auc: 0.90751 | valid_accuracy: 0.94283 |  0:05:06s\n",
      "epoch 3  | loss: 0.34144 | train_auc: 0.90824 | train_accuracy: 0.86397 | valid_auc: 0.90612 | valid_accuracy: 0.9328  |  0:06:50s\n",
      "epoch 4  | loss: 0.3408  | train_auc: 0.90952 | train_accuracy: 0.86546 | valid_auc: 0.90806 | valid_accuracy: 0.92889 |  0:08:48s\n",
      "epoch 5  | loss: 0.34291 | train_auc: 0.90936 | train_accuracy: 0.86461 | valid_auc: 0.90703 | valid_accuracy: 0.92128 |  0:10:30s\n",
      "epoch 6  | loss: 0.34333 | train_auc: 0.90908 | train_accuracy: 0.8643  | valid_auc: 0.90731 | valid_accuracy: 0.93371 |  0:12:17s\n",
      "epoch 7  | loss: 0.3414  | train_auc: 0.90944 | train_accuracy: 0.8647  | valid_auc: 0.90816 | valid_accuracy: 0.92798 |  0:14:08s\n",
      "epoch 8  | loss: 0.34289 | train_auc: 0.90963 | train_accuracy: 0.86532 | valid_auc: 0.90781 | valid_accuracy: 0.92794 |  0:15:55s\n"
     ]
    },
    {
     "output_type": "error",
     "ename": "KeyboardInterrupt",
     "evalue": "",
     "traceback": [
      "\u001b[0;31m---------------------------------------------------------------------------\u001b[0m",
      "\u001b[0;31mKeyboardInterrupt\u001b[0m                         Traceback (most recent call last)",
      "\u001b[0;32m/tmp/ipykernel_2227/319602119.py\u001b[0m in \u001b[0;36m<module>\u001b[0;34m\u001b[0m\n\u001b[1;32m     14\u001b[0m \u001b[0;34m\u001b[0m\u001b[0m\n\u001b[1;32m     15\u001b[0m \u001b[0;31m# fit the model\u001b[0m\u001b[0;34m\u001b[0m\u001b[0;34m\u001b[0m\u001b[0;34m\u001b[0m\u001b[0m\n\u001b[0;32m---> 16\u001b[0;31m clf1_nopreproc.fit(\n\u001b[0m\u001b[1;32m     17\u001b[0m     \u001b[0mX_train\u001b[0m\u001b[0;34m.\u001b[0m\u001b[0mvalues\u001b[0m\u001b[0;34m,\u001b[0m\u001b[0my_train\u001b[0m\u001b[0;34m.\u001b[0m\u001b[0mvalues\u001b[0m\u001b[0;34m,\u001b[0m\u001b[0;34m\u001b[0m\u001b[0;34m\u001b[0m\u001b[0m\n\u001b[1;32m     18\u001b[0m     \u001b[0meval_set\u001b[0m\u001b[0;34m=\u001b[0m\u001b[0;34m[\u001b[0m\u001b[0;34m(\u001b[0m\u001b[0mX_train\u001b[0m\u001b[0;34m.\u001b[0m\u001b[0mvalues\u001b[0m\u001b[0;34m,\u001b[0m \u001b[0my_train\u001b[0m\u001b[0;34m.\u001b[0m\u001b[0mvalues\u001b[0m\u001b[0;34m)\u001b[0m\u001b[0;34m,\u001b[0m \u001b[0;34m(\u001b[0m\u001b[0mX_val\u001b[0m\u001b[0;34m.\u001b[0m\u001b[0mvalues\u001b[0m\u001b[0;34m,\u001b[0m \u001b[0my_val\u001b[0m\u001b[0;34m.\u001b[0m\u001b[0mvalues\u001b[0m\u001b[0;34m)\u001b[0m\u001b[0;34m]\u001b[0m\u001b[0;34m,\u001b[0m\u001b[0;34m\u001b[0m\u001b[0;34m\u001b[0m\u001b[0m\n",
      "\u001b[0;32m~/.local/lib/python3.8/site-packages/pytorch_tabnet/abstract_model.py\u001b[0m in \u001b[0;36mfit\u001b[0;34m(self, X_train, y_train, eval_set, eval_name, eval_metric, loss_fn, weights, max_epochs, patience, batch_size, virtual_batch_size, num_workers, drop_last, callbacks, pin_memory, from_unsupervised)\u001b[0m\n\u001b[1;32m    221\u001b[0m             \u001b[0mself\u001b[0m\u001b[0;34m.\u001b[0m\u001b[0m_callback_container\u001b[0m\u001b[0;34m.\u001b[0m\u001b[0mon_epoch_begin\u001b[0m\u001b[0;34m(\u001b[0m\u001b[0mepoch_idx\u001b[0m\u001b[0;34m)\u001b[0m\u001b[0;34m\u001b[0m\u001b[0;34m\u001b[0m\u001b[0m\n\u001b[1;32m    222\u001b[0m \u001b[0;34m\u001b[0m\u001b[0m\n\u001b[0;32m--> 223\u001b[0;31m             \u001b[0mself\u001b[0m\u001b[0;34m.\u001b[0m\u001b[0m_train_epoch\u001b[0m\u001b[0;34m(\u001b[0m\u001b[0mtrain_dataloader\u001b[0m\u001b[0;34m)\u001b[0m\u001b[0;34m\u001b[0m\u001b[0;34m\u001b[0m\u001b[0m\n\u001b[0m\u001b[1;32m    224\u001b[0m \u001b[0;34m\u001b[0m\u001b[0m\n\u001b[1;32m    225\u001b[0m             \u001b[0;31m# Apply predict epoch to all eval sets\u001b[0m\u001b[0;34m\u001b[0m\u001b[0;34m\u001b[0m\u001b[0;34m\u001b[0m\u001b[0m\n",
      "\u001b[0;32m~/.local/lib/python3.8/site-packages/pytorch_tabnet/abstract_model.py\u001b[0m in \u001b[0;36m_train_epoch\u001b[0;34m(self, train_loader)\u001b[0m\n\u001b[1;32m    429\u001b[0m         \u001b[0mself\u001b[0m\u001b[0;34m.\u001b[0m\u001b[0mnetwork\u001b[0m\u001b[0;34m.\u001b[0m\u001b[0mtrain\u001b[0m\u001b[0;34m(\u001b[0m\u001b[0;34m)\u001b[0m\u001b[0;34m\u001b[0m\u001b[0;34m\u001b[0m\u001b[0m\n\u001b[1;32m    430\u001b[0m \u001b[0;34m\u001b[0m\u001b[0m\n\u001b[0;32m--> 431\u001b[0;31m         \u001b[0;32mfor\u001b[0m \u001b[0mbatch_idx\u001b[0m\u001b[0;34m,\u001b[0m \u001b[0;34m(\u001b[0m\u001b[0mX\u001b[0m\u001b[0;34m,\u001b[0m \u001b[0my\u001b[0m\u001b[0;34m)\u001b[0m \u001b[0;32min\u001b[0m \u001b[0menumerate\u001b[0m\u001b[0;34m(\u001b[0m\u001b[0mtrain_loader\u001b[0m\u001b[0;34m)\u001b[0m\u001b[0;34m:\u001b[0m\u001b[0;34m\u001b[0m\u001b[0;34m\u001b[0m\u001b[0m\n\u001b[0m\u001b[1;32m    432\u001b[0m             \u001b[0mself\u001b[0m\u001b[0;34m.\u001b[0m\u001b[0m_callback_container\u001b[0m\u001b[0;34m.\u001b[0m\u001b[0mon_batch_begin\u001b[0m\u001b[0;34m(\u001b[0m\u001b[0mbatch_idx\u001b[0m\u001b[0;34m)\u001b[0m\u001b[0;34m\u001b[0m\u001b[0;34m\u001b[0m\u001b[0m\n\u001b[1;32m    433\u001b[0m \u001b[0;34m\u001b[0m\u001b[0m\n",
      "\u001b[0;32m~/.local/lib/python3.8/site-packages/torch/utils/data/dataloader.py\u001b[0m in \u001b[0;36m__next__\u001b[0;34m(self)\u001b[0m\n\u001b[1;32m    519\u001b[0m             \u001b[0;32mif\u001b[0m \u001b[0mself\u001b[0m\u001b[0;34m.\u001b[0m\u001b[0m_sampler_iter\u001b[0m \u001b[0;32mis\u001b[0m \u001b[0;32mNone\u001b[0m\u001b[0;34m:\u001b[0m\u001b[0;34m\u001b[0m\u001b[0;34m\u001b[0m\u001b[0m\n\u001b[1;32m    520\u001b[0m                 \u001b[0mself\u001b[0m\u001b[0;34m.\u001b[0m\u001b[0m_reset\u001b[0m\u001b[0;34m(\u001b[0m\u001b[0;34m)\u001b[0m\u001b[0;34m\u001b[0m\u001b[0;34m\u001b[0m\u001b[0m\n\u001b[0;32m--> 521\u001b[0;31m             \u001b[0mdata\u001b[0m \u001b[0;34m=\u001b[0m \u001b[0mself\u001b[0m\u001b[0;34m.\u001b[0m\u001b[0m_next_data\u001b[0m\u001b[0;34m(\u001b[0m\u001b[0;34m)\u001b[0m\u001b[0;34m\u001b[0m\u001b[0;34m\u001b[0m\u001b[0m\n\u001b[0m\u001b[1;32m    522\u001b[0m             \u001b[0mself\u001b[0m\u001b[0;34m.\u001b[0m\u001b[0m_num_yielded\u001b[0m \u001b[0;34m+=\u001b[0m \u001b[0;36m1\u001b[0m\u001b[0;34m\u001b[0m\u001b[0;34m\u001b[0m\u001b[0m\n\u001b[1;32m    523\u001b[0m             \u001b[0;32mif\u001b[0m \u001b[0mself\u001b[0m\u001b[0;34m.\u001b[0m\u001b[0m_dataset_kind\u001b[0m \u001b[0;34m==\u001b[0m \u001b[0m_DatasetKind\u001b[0m\u001b[0;34m.\u001b[0m\u001b[0mIterable\u001b[0m \u001b[0;32mand\u001b[0m\u001b[0;31m \u001b[0m\u001b[0;31m\\\u001b[0m\u001b[0;34m\u001b[0m\u001b[0;34m\u001b[0m\u001b[0m\n",
      "\u001b[0;32m~/.local/lib/python3.8/site-packages/torch/utils/data/dataloader.py\u001b[0m in \u001b[0;36m_next_data\u001b[0;34m(self)\u001b[0m\n\u001b[1;32m    559\u001b[0m     \u001b[0;32mdef\u001b[0m \u001b[0m_next_data\u001b[0m\u001b[0;34m(\u001b[0m\u001b[0mself\u001b[0m\u001b[0;34m)\u001b[0m\u001b[0;34m:\u001b[0m\u001b[0;34m\u001b[0m\u001b[0;34m\u001b[0m\u001b[0m\n\u001b[1;32m    560\u001b[0m         \u001b[0mindex\u001b[0m \u001b[0;34m=\u001b[0m \u001b[0mself\u001b[0m\u001b[0;34m.\u001b[0m\u001b[0m_next_index\u001b[0m\u001b[0;34m(\u001b[0m\u001b[0;34m)\u001b[0m  \u001b[0;31m# may raise StopIteration\u001b[0m\u001b[0;34m\u001b[0m\u001b[0;34m\u001b[0m\u001b[0m\n\u001b[0;32m--> 561\u001b[0;31m         \u001b[0mdata\u001b[0m \u001b[0;34m=\u001b[0m \u001b[0mself\u001b[0m\u001b[0;34m.\u001b[0m\u001b[0m_dataset_fetcher\u001b[0m\u001b[0;34m.\u001b[0m\u001b[0mfetch\u001b[0m\u001b[0;34m(\u001b[0m\u001b[0mindex\u001b[0m\u001b[0;34m)\u001b[0m  \u001b[0;31m# may raise StopIteration\u001b[0m\u001b[0;34m\u001b[0m\u001b[0;34m\u001b[0m\u001b[0m\n\u001b[0m\u001b[1;32m    562\u001b[0m         \u001b[0;32mif\u001b[0m \u001b[0mself\u001b[0m\u001b[0;34m.\u001b[0m\u001b[0m_pin_memory\u001b[0m\u001b[0;34m:\u001b[0m\u001b[0;34m\u001b[0m\u001b[0;34m\u001b[0m\u001b[0m\n\u001b[1;32m    563\u001b[0m             \u001b[0mdata\u001b[0m \u001b[0;34m=\u001b[0m \u001b[0m_utils\u001b[0m\u001b[0;34m.\u001b[0m\u001b[0mpin_memory\u001b[0m\u001b[0;34m.\u001b[0m\u001b[0mpin_memory\u001b[0m\u001b[0;34m(\u001b[0m\u001b[0mdata\u001b[0m\u001b[0;34m)\u001b[0m\u001b[0;34m\u001b[0m\u001b[0;34m\u001b[0m\u001b[0m\n",
      "\u001b[0;32m~/.local/lib/python3.8/site-packages/torch/utils/data/_utils/fetch.py\u001b[0m in \u001b[0;36mfetch\u001b[0;34m(self, possibly_batched_index)\u001b[0m\n\u001b[1;32m     50\u001b[0m         \u001b[0;32melse\u001b[0m\u001b[0;34m:\u001b[0m\u001b[0;34m\u001b[0m\u001b[0;34m\u001b[0m\u001b[0m\n\u001b[1;32m     51\u001b[0m             \u001b[0mdata\u001b[0m \u001b[0;34m=\u001b[0m \u001b[0mself\u001b[0m\u001b[0;34m.\u001b[0m\u001b[0mdataset\u001b[0m\u001b[0;34m[\u001b[0m\u001b[0mpossibly_batched_index\u001b[0m\u001b[0;34m]\u001b[0m\u001b[0;34m\u001b[0m\u001b[0;34m\u001b[0m\u001b[0m\n\u001b[0;32m---> 52\u001b[0;31m         \u001b[0;32mreturn\u001b[0m \u001b[0mself\u001b[0m\u001b[0;34m.\u001b[0m\u001b[0mcollate_fn\u001b[0m\u001b[0;34m(\u001b[0m\u001b[0mdata\u001b[0m\u001b[0;34m)\u001b[0m\u001b[0;34m\u001b[0m\u001b[0;34m\u001b[0m\u001b[0m\n\u001b[0m",
      "\u001b[0;32m~/.local/lib/python3.8/site-packages/torch/utils/data/_utils/collate.py\u001b[0m in \u001b[0;36mdefault_collate\u001b[0;34m(batch)\u001b[0m\n\u001b[1;32m     82\u001b[0m             \u001b[0;32mraise\u001b[0m \u001b[0mRuntimeError\u001b[0m\u001b[0;34m(\u001b[0m\u001b[0;34m'each element in list of batch should be of equal size'\u001b[0m\u001b[0;34m)\u001b[0m\u001b[0;34m\u001b[0m\u001b[0;34m\u001b[0m\u001b[0m\n\u001b[1;32m     83\u001b[0m         \u001b[0mtransposed\u001b[0m \u001b[0;34m=\u001b[0m \u001b[0mzip\u001b[0m\u001b[0;34m(\u001b[0m\u001b[0;34m*\u001b[0m\u001b[0mbatch\u001b[0m\u001b[0;34m)\u001b[0m\u001b[0;34m\u001b[0m\u001b[0;34m\u001b[0m\u001b[0m\n\u001b[0;32m---> 84\u001b[0;31m         \u001b[0;32mreturn\u001b[0m \u001b[0;34m[\u001b[0m\u001b[0mdefault_collate\u001b[0m\u001b[0;34m(\u001b[0m\u001b[0msamples\u001b[0m\u001b[0;34m)\u001b[0m \u001b[0;32mfor\u001b[0m \u001b[0msamples\u001b[0m \u001b[0;32min\u001b[0m \u001b[0mtransposed\u001b[0m\u001b[0;34m]\u001b[0m\u001b[0;34m\u001b[0m\u001b[0;34m\u001b[0m\u001b[0m\n\u001b[0m\u001b[1;32m     85\u001b[0m \u001b[0;34m\u001b[0m\u001b[0m\n\u001b[1;32m     86\u001b[0m     \u001b[0;32mraise\u001b[0m \u001b[0mTypeError\u001b[0m\u001b[0;34m(\u001b[0m\u001b[0mdefault_collate_err_msg_format\u001b[0m\u001b[0;34m.\u001b[0m\u001b[0mformat\u001b[0m\u001b[0;34m(\u001b[0m\u001b[0melem_type\u001b[0m\u001b[0;34m)\u001b[0m\u001b[0;34m)\u001b[0m\u001b[0;34m\u001b[0m\u001b[0;34m\u001b[0m\u001b[0m\n",
      "\u001b[0;32m~/.local/lib/python3.8/site-packages/torch/utils/data/_utils/collate.py\u001b[0m in \u001b[0;36m<listcomp>\u001b[0;34m(.0)\u001b[0m\n\u001b[1;32m     82\u001b[0m             \u001b[0;32mraise\u001b[0m \u001b[0mRuntimeError\u001b[0m\u001b[0;34m(\u001b[0m\u001b[0;34m'each element in list of batch should be of equal size'\u001b[0m\u001b[0;34m)\u001b[0m\u001b[0;34m\u001b[0m\u001b[0;34m\u001b[0m\u001b[0m\n\u001b[1;32m     83\u001b[0m         \u001b[0mtransposed\u001b[0m \u001b[0;34m=\u001b[0m \u001b[0mzip\u001b[0m\u001b[0;34m(\u001b[0m\u001b[0;34m*\u001b[0m\u001b[0mbatch\u001b[0m\u001b[0;34m)\u001b[0m\u001b[0;34m\u001b[0m\u001b[0;34m\u001b[0m\u001b[0m\n\u001b[0;32m---> 84\u001b[0;31m         \u001b[0;32mreturn\u001b[0m \u001b[0;34m[\u001b[0m\u001b[0mdefault_collate\u001b[0m\u001b[0;34m(\u001b[0m\u001b[0msamples\u001b[0m\u001b[0;34m)\u001b[0m \u001b[0;32mfor\u001b[0m \u001b[0msamples\u001b[0m \u001b[0;32min\u001b[0m \u001b[0mtransposed\u001b[0m\u001b[0;34m]\u001b[0m\u001b[0;34m\u001b[0m\u001b[0;34m\u001b[0m\u001b[0m\n\u001b[0m\u001b[1;32m     85\u001b[0m \u001b[0;34m\u001b[0m\u001b[0m\n\u001b[1;32m     86\u001b[0m     \u001b[0;32mraise\u001b[0m \u001b[0mTypeError\u001b[0m\u001b[0;34m(\u001b[0m\u001b[0mdefault_collate_err_msg_format\u001b[0m\u001b[0;34m.\u001b[0m\u001b[0mformat\u001b[0m\u001b[0;34m(\u001b[0m\u001b[0melem_type\u001b[0m\u001b[0;34m)\u001b[0m\u001b[0;34m)\u001b[0m\u001b[0;34m\u001b[0m\u001b[0;34m\u001b[0m\u001b[0m\n",
      "\u001b[0;32m~/.local/lib/python3.8/site-packages/torch/utils/data/_utils/collate.py\u001b[0m in \u001b[0;36mdefault_collate\u001b[0;34m(batch)\u001b[0m\n\u001b[1;32m     62\u001b[0m                 \u001b[0;32mraise\u001b[0m \u001b[0mTypeError\u001b[0m\u001b[0;34m(\u001b[0m\u001b[0mdefault_collate_err_msg_format\u001b[0m\u001b[0;34m.\u001b[0m\u001b[0mformat\u001b[0m\u001b[0;34m(\u001b[0m\u001b[0melem\u001b[0m\u001b[0;34m.\u001b[0m\u001b[0mdtype\u001b[0m\u001b[0;34m)\u001b[0m\u001b[0;34m)\u001b[0m\u001b[0;34m\u001b[0m\u001b[0;34m\u001b[0m\u001b[0m\n\u001b[1;32m     63\u001b[0m \u001b[0;34m\u001b[0m\u001b[0m\n\u001b[0;32m---> 64\u001b[0;31m             \u001b[0;32mreturn\u001b[0m \u001b[0mdefault_collate\u001b[0m\u001b[0;34m(\u001b[0m\u001b[0;34m[\u001b[0m\u001b[0mtorch\u001b[0m\u001b[0;34m.\u001b[0m\u001b[0mas_tensor\u001b[0m\u001b[0;34m(\u001b[0m\u001b[0mb\u001b[0m\u001b[0;34m)\u001b[0m \u001b[0;32mfor\u001b[0m \u001b[0mb\u001b[0m \u001b[0;32min\u001b[0m \u001b[0mbatch\u001b[0m\u001b[0;34m]\u001b[0m\u001b[0;34m)\u001b[0m\u001b[0;34m\u001b[0m\u001b[0;34m\u001b[0m\u001b[0m\n\u001b[0m\u001b[1;32m     65\u001b[0m         \u001b[0;32melif\u001b[0m \u001b[0melem\u001b[0m\u001b[0;34m.\u001b[0m\u001b[0mshape\u001b[0m \u001b[0;34m==\u001b[0m \u001b[0;34m(\u001b[0m\u001b[0;34m)\u001b[0m\u001b[0;34m:\u001b[0m  \u001b[0;31m# scalars\u001b[0m\u001b[0;34m\u001b[0m\u001b[0;34m\u001b[0m\u001b[0m\n\u001b[1;32m     66\u001b[0m             \u001b[0;32mreturn\u001b[0m \u001b[0mtorch\u001b[0m\u001b[0;34m.\u001b[0m\u001b[0mas_tensor\u001b[0m\u001b[0;34m(\u001b[0m\u001b[0mbatch\u001b[0m\u001b[0;34m)\u001b[0m\u001b[0;34m\u001b[0m\u001b[0;34m\u001b[0m\u001b[0m\n",
      "\u001b[0;32m~/.local/lib/python3.8/site-packages/torch/utils/data/_utils/collate.py\u001b[0m in \u001b[0;36m<listcomp>\u001b[0;34m(.0)\u001b[0m\n\u001b[1;32m     62\u001b[0m                 \u001b[0;32mraise\u001b[0m \u001b[0mTypeError\u001b[0m\u001b[0;34m(\u001b[0m\u001b[0mdefault_collate_err_msg_format\u001b[0m\u001b[0;34m.\u001b[0m\u001b[0mformat\u001b[0m\u001b[0;34m(\u001b[0m\u001b[0melem\u001b[0m\u001b[0;34m.\u001b[0m\u001b[0mdtype\u001b[0m\u001b[0;34m)\u001b[0m\u001b[0;34m)\u001b[0m\u001b[0;34m\u001b[0m\u001b[0;34m\u001b[0m\u001b[0m\n\u001b[1;32m     63\u001b[0m \u001b[0;34m\u001b[0m\u001b[0m\n\u001b[0;32m---> 64\u001b[0;31m             \u001b[0;32mreturn\u001b[0m \u001b[0mdefault_collate\u001b[0m\u001b[0;34m(\u001b[0m\u001b[0;34m[\u001b[0m\u001b[0mtorch\u001b[0m\u001b[0;34m.\u001b[0m\u001b[0mas_tensor\u001b[0m\u001b[0;34m(\u001b[0m\u001b[0mb\u001b[0m\u001b[0;34m)\u001b[0m \u001b[0;32mfor\u001b[0m \u001b[0mb\u001b[0m \u001b[0;32min\u001b[0m \u001b[0mbatch\u001b[0m\u001b[0;34m]\u001b[0m\u001b[0;34m)\u001b[0m\u001b[0;34m\u001b[0m\u001b[0;34m\u001b[0m\u001b[0m\n\u001b[0m\u001b[1;32m     65\u001b[0m         \u001b[0;32melif\u001b[0m \u001b[0melem\u001b[0m\u001b[0;34m.\u001b[0m\u001b[0mshape\u001b[0m \u001b[0;34m==\u001b[0m \u001b[0;34m(\u001b[0m\u001b[0;34m)\u001b[0m\u001b[0;34m:\u001b[0m  \u001b[0;31m# scalars\u001b[0m\u001b[0;34m\u001b[0m\u001b[0;34m\u001b[0m\u001b[0m\n\u001b[1;32m     66\u001b[0m             \u001b[0;32mreturn\u001b[0m \u001b[0mtorch\u001b[0m\u001b[0;34m.\u001b[0m\u001b[0mas_tensor\u001b[0m\u001b[0;34m(\u001b[0m\u001b[0mbatch\u001b[0m\u001b[0;34m)\u001b[0m\u001b[0;34m\u001b[0m\u001b[0;34m\u001b[0m\u001b[0m\n",
      "\u001b[0;31mKeyboardInterrupt\u001b[0m: "
     ]
    }
   ],
   "metadata": {}
  },
  {
   "cell_type": "markdown",
   "source": [
    "### Hyper parameters Tuning:"
   ],
   "metadata": {}
  },
  {
   "cell_type": "markdown",
   "source": [
    "## Evaluation:"
   ],
   "metadata": {}
  },
  {
   "cell_type": "markdown",
   "source": [
    "### Plot cost function:"
   ],
   "metadata": {}
  },
  {
   "cell_type": "code",
   "execution_count": 193,
   "source": [
    "fig = plt.figure()\n",
    "ax = fig.add_subplot(1,1,1)\n",
    "ax.plot(iter_list, cost_train_list, label = 'Training Cost')\n",
    "ax.plot(iter_list, cost_val_list, label = 'Validation Cost')\n",
    "ax.set_xlabel('iteration')\n",
    "ax.set_ylabel('cost')\n",
    "ax.legend()\n"
   ],
   "outputs": [
    {
     "output_type": "execute_result",
     "data": {
      "text/plain": [
       "<matplotlib.legend.Legend at 0x7fe148364190>"
      ]
     },
     "metadata": {},
     "execution_count": 193
    },
    {
     "output_type": "display_data",
     "data": {
      "image/png": "[encoded data removed]",
      "text/plain": [
       "<Figure size 576x576 with 1 Axes>"
      ]
     },
     "metadata": {
      "needs_background": "light"
     }
    }
   ],
   "metadata": {}
  },
  {
   "cell_type": "markdown",
   "source": [
    "### Check model performance on training set:"
   ],
   "metadata": {}
  },
  {
   "cell_type": "code",
   "execution_count": 194,
   "source": [
    "y_pred = 1*(net.forward(X_train.float())>0.5)\n",
    "mh.model_evaluation(y_train.detach().numpy(), y_pred.detach().numpy())"
   ],
   "outputs": [
    {
     "output_type": "stream",
     "name": "stdout",
     "text": [
      "+--------------+--------------------+\n",
      "|    Metric    |       Score        |\n",
      "+--------------+--------------------+\n",
      "|   accuracy   | 0.865677382135188  |\n",
      "|    recall    | 0.7893336752027179 |\n",
      "|  presicion   | 0.9315731739607368 |\n",
      "|   f1 score   | 0.8545751067004407 |\n",
      "| f_beta score | 0.8141972084289314 |\n",
      "+--------------+--------------------+\n"
     ]
    },
    {
     "output_type": "display_data",
     "data": {
      "image/png": "[encoded data removed]",
      "text/plain": [
       "<Figure size 576x576 with 2 Axes>"
      ]
     },
     "metadata": {
      "needs_background": "light"
     }
    }
   ],
   "metadata": {}
  },
  {
   "cell_type": "markdown",
   "source": [
    "### Check model performance on test set:"
   ],
   "metadata": {}
  },
  {
   "cell_type": "code",
   "execution_count": 195,
   "source": [
    "y_pred = 1*(net.forward(X_test.float())>0.5)\n",
    "mh.model_evaluation(y_test.detach().numpy(), y_pred.detach().numpy())"
   ],
   "outputs": [
    {
     "output_type": "stream",
     "name": "stdout",
     "text": [
      "+--------------+--------------------+\n",
      "|    Metric    |       Score        |\n",
      "+--------------+--------------------+\n",
      "|   accuracy   | 0.9337095012741172 |\n",
      "|    recall    | 0.7733923103096291 |\n",
      "|  presicion   | 0.4330348637835778 |\n",
      "|   f1 score   | 0.5552027357107963 |\n",
      "| f_beta score | 0.6683328432813878 |\n",
      "+--------------+--------------------+\n"
     ]
    },
    {
     "output_type": "display_data",
     "data": {
      "image/png": "[encoded data removed]",
      "text/plain": [
       "<Figure size 576x576 with 2 Axes>"
      ]
     },
     "metadata": {
      "needs_background": "light"
     }
    }
   ],
   "metadata": {}
  },
  {
   "cell_type": "code",
   "execution_count": null,
   "source": [],
   "outputs": [],
   "metadata": {}
  }
 ],
 "metadata": {
  "orig_nbformat": 4,
  "language_info": {
   "name": "python",
   "version": "3.8.10",
   "mimetype": "text/x-python",
   "codemirror_mode": {
    "name": "ipython",
    "version": 3
   },
   "pygments_lexer": "ipython3",
   "nbconvert_exporter": "python",
   "file_extension": ".py"
  },
  "kernelspec": {
   "name": "python3",
   "display_name": "Python 3.8.10 64-bit"
  },
  "interpreter": {
   "hash": "916dbcbb3f70747c44a77c7bcd40155683ae19c65e1c03b4aa3499c5328201f1"
  }
 },
 "nbformat": 4,
 "nbformat_minor": 2
}