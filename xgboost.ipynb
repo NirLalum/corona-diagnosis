{
 "cells": [
  {
   "cell_type": "code",
   "execution_count": 5,
   "source": [
    "# ====== Packages =======\n",
    "import numpy as np\n",
    "import pandas as pd\n",
    "import matplotlib.pyplot as plt\n",
    "import seaborn as sns\n",
    "import sklearn as sk\n",
    "from prettytable import PrettyTable\n",
    "from tqdm import tqdm\n",
    "\n",
    "\n",
    "# ---- data manipulators ----\n",
    "from sklearn.model_selection import StratifiedShuffleSplit\n",
    "from sklearn.utils import resample\n",
    "\n",
    "# ---- algorithms ----\n",
    "import xgboost as xgb\n",
    "from sklearn.model_selection import GridSearchCV\n",
    "\n",
    "# ---- evaluation ------\n",
    "from sklearn.metrics import accuracy_score, f1_score, recall_score, precision_score, RocCurveDisplay, roc_curve, precision_recall_curve\n",
    "\n",
    "# ---- user defined modules ----\n",
    "import pre_proccessing_helpers as hel\n",
    "import models_helpers as mh\n",
    "\n",
    "\n",
    "# This line makes matplotlib plot the figures inside the norebook\n",
    "%matplotlib inline\n",
    "\n",
    "plt.rcParams['figure.figsize'] = (8.0, 8.0)\n",
    "plt.rcParams['axes.grid'] = True\n",
    "plt.rcParams['font.size'] = 10"
   ],
   "outputs": [],
   "metadata": {}
  },
  {
   "cell_type": "code",
   "execution_count": 9,
   "source": [
    "dataset = pd.read_pickle('data_for_tree.pkl')\n",
    "X_train_raw, y_train_raw, X_test, y_test = mh.data_split(dataset ,n_splits=1, test_size=0.2, train_size=0.8)\n",
    "X_train, y_train = mh.up_down_sampling(X_train_raw, y_train_raw, ratio=1, up=True)"
   ],
   "outputs": [
    {
     "output_type": "execute_result",
     "data": {
      "text/plain": [
       "0    208006\n",
       "1    208006\n",
       "Name: corona_result, dtype: int64"
      ]
     },
     "metadata": {},
     "execution_count": 9
    }
   ],
   "metadata": {}
  },
  {
   "cell_type": "code",
   "execution_count": null,
   "source": [],
   "outputs": [],
   "metadata": {}
  }
 ],
 "metadata": {
  "orig_nbformat": 4,
  "language_info": {
   "name": "python",
   "version": "3.8.10",
   "mimetype": "text/x-python",
   "codemirror_mode": {
    "name": "ipython",
    "version": 3
   },
   "pygments_lexer": "ipython3",
   "nbconvert_exporter": "python",
   "file_extension": ".py"
  },
  "kernelspec": {
   "name": "python3",
   "display_name": "Python 3.8.10 64-bit"
  },
  "interpreter": {
   "hash": "916dbcbb3f70747c44a77c7bcd40155683ae19c65e1c03b4aa3499c5328201f1"
  }
 },
 "nbformat": 4,
 "nbformat_minor": 2
}