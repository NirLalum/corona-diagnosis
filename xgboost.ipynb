{
 "cells": [
  {
   "cell_type": "code",
   "execution_count": 1,
   "source": [
    "# ====== Packages =======\n",
    "import numpy as np\n",
    "import pandas as pd\n",
    "import matplotlib.pyplot as plt\n",
    "import seaborn as sns\n",
    "import sklearn as sk\n",
    "from prettytable import PrettyTable\n",
    "from tqdm import tqdm\n",
    "\n",
    "\n",
    "# ---- data manipulators ----\n",
    "from sklearn.model_selection import StratifiedShuffleSplit\n",
    "from sklearn.utils import resample\n",
    "\n",
    "# ---- algorithms ----\n",
    "import xgboost as xgb\n",
    "from sklearn.model_selection import GridSearchCV\n",
    "\n",
    "# ---- evaluation ------\n",
    "from sklearn.metrics import accuracy_score, f1_score, recall_score, precision_score, RocCurveDisplay, roc_curve, precision_recall_curve\n",
    "\n",
    "# ---- user defined modules ----\n",
    "import pre_proccessing_helpers as hel\n",
    "import models_helpers as mh\n",
    "\n",
    "\n",
    "# This line makes matplotlib plot the figures inside the norebook\n",
    "%matplotlib inline\n",
    "\n",
    "plt.rcParams['figure.figsize'] = (8.0, 8.0)\n",
    "plt.rcParams['axes.grid'] = True\n",
    "plt.rcParams['font.size'] = 10"
   ],
   "outputs": [],
   "metadata": {}
  },
  {
   "cell_type": "markdown",
   "source": [
    "## Load the dataset and one_hot_encode the test_indication column (we dont want the algorhithem to \"think\" that 2 is more related to 1 than 0)"
   ],
   "metadata": {}
  },
  {
   "cell_type": "code",
   "execution_count": 2,
   "source": [
    "dataset = pd.read_pickle('data_for_tree.pkl')\n",
    "dataset = dataset.reset_index()\n",
    "dataset_hot_encoded = pd.get_dummies(dataset, columns=['test_indication'])\n",
    "columns_names = [column for column in dataset_hot_encoded.columns]\n",
    "columns_names.remove('corona_result')\n",
    "columns_names.append('corona_result')\n",
    "\n",
    "dataset_hot_encoded = dataset_hot_encoded.reindex(columns=columns_names)\n",
    "dataset_hot_encoded.drop(columns='index', inplace=True)\n"
   ],
   "outputs": [],
   "metadata": {}
  },
  {
   "cell_type": "code",
   "execution_count": 4,
   "source": [
    "dataset_hot_encoded"
   ],
   "outputs": [
    {
     "output_type": "execute_result",
     "data": {
      "text/html": [
       "<div>\n",
       "<style scoped>\n",
       "    .dataframe tbody tr th:only-of-type {\n",
       "        vertical-align: middle;\n",
       "    }\n",
       "\n",
       "    .dataframe tbody tr th {\n",
       "        vertical-align: top;\n",
       "    }\n",
       "\n",
       "    .dataframe thead th {\n",
       "        text-align: right;\n",
       "    }\n",
       "</style>\n",
       "<table border=\"1\" class=\"dataframe\">\n",
       "  <thead>\n",
       "    <tr style=\"text-align: right;\">\n",
       "      <th></th>\n",
       "      <th>test_week</th>\n",
       "      <th>cough</th>\n",
       "      <th>fever</th>\n",
       "      <th>sore_throat</th>\n",
       "      <th>shortness_of_breath</th>\n",
       "      <th>head_ache</th>\n",
       "      <th>test_indication_0</th>\n",
       "      <th>test_indication_1</th>\n",
       "      <th>test_indication_2</th>\n",
       "      <th>corona_result</th>\n",
       "    </tr>\n",
       "  </thead>\n",
       "  <tbody>\n",
       "    <tr>\n",
       "      <th>0</th>\n",
       "      <td>18</td>\n",
       "      <td>0</td>\n",
       "      <td>0</td>\n",
       "      <td>0</td>\n",
       "      <td>0</td>\n",
       "      <td>0</td>\n",
       "      <td>1</td>\n",
       "      <td>0</td>\n",
       "      <td>0</td>\n",
       "      <td>0</td>\n",
       "    </tr>\n",
       "    <tr>\n",
       "      <th>1</th>\n",
       "      <td>18</td>\n",
       "      <td>1</td>\n",
       "      <td>0</td>\n",
       "      <td>0</td>\n",
       "      <td>0</td>\n",
       "      <td>0</td>\n",
       "      <td>1</td>\n",
       "      <td>0</td>\n",
       "      <td>0</td>\n",
       "      <td>0</td>\n",
       "    </tr>\n",
       "    <tr>\n",
       "      <th>2</th>\n",
       "      <td>18</td>\n",
       "      <td>0</td>\n",
       "      <td>1</td>\n",
       "      <td>0</td>\n",
       "      <td>0</td>\n",
       "      <td>0</td>\n",
       "      <td>1</td>\n",
       "      <td>0</td>\n",
       "      <td>0</td>\n",
       "      <td>0</td>\n",
       "    </tr>\n",
       "    <tr>\n",
       "      <th>3</th>\n",
       "      <td>18</td>\n",
       "      <td>1</td>\n",
       "      <td>0</td>\n",
       "      <td>0</td>\n",
       "      <td>0</td>\n",
       "      <td>0</td>\n",
       "      <td>1</td>\n",
       "      <td>0</td>\n",
       "      <td>0</td>\n",
       "      <td>0</td>\n",
       "    </tr>\n",
       "    <tr>\n",
       "      <th>4</th>\n",
       "      <td>18</td>\n",
       "      <td>1</td>\n",
       "      <td>0</td>\n",
       "      <td>0</td>\n",
       "      <td>0</td>\n",
       "      <td>0</td>\n",
       "      <td>1</td>\n",
       "      <td>0</td>\n",
       "      <td>0</td>\n",
       "      <td>0</td>\n",
       "    </tr>\n",
       "    <tr>\n",
       "      <th>...</th>\n",
       "      <td>...</td>\n",
       "      <td>...</td>\n",
       "      <td>...</td>\n",
       "      <td>...</td>\n",
       "      <td>...</td>\n",
       "      <td>...</td>\n",
       "      <td>...</td>\n",
       "      <td>...</td>\n",
       "      <td>...</td>\n",
       "      <td>...</td>\n",
       "    </tr>\n",
       "    <tr>\n",
       "      <th>274697</th>\n",
       "      <td>11</td>\n",
       "      <td>0</td>\n",
       "      <td>0</td>\n",
       "      <td>0</td>\n",
       "      <td>0</td>\n",
       "      <td>0</td>\n",
       "      <td>1</td>\n",
       "      <td>0</td>\n",
       "      <td>0</td>\n",
       "      <td>0</td>\n",
       "    </tr>\n",
       "    <tr>\n",
       "      <th>274698</th>\n",
       "      <td>11</td>\n",
       "      <td>0</td>\n",
       "      <td>0</td>\n",
       "      <td>0</td>\n",
       "      <td>0</td>\n",
       "      <td>0</td>\n",
       "      <td>1</td>\n",
       "      <td>0</td>\n",
       "      <td>0</td>\n",
       "      <td>0</td>\n",
       "    </tr>\n",
       "    <tr>\n",
       "      <th>274699</th>\n",
       "      <td>11</td>\n",
       "      <td>0</td>\n",
       "      <td>0</td>\n",
       "      <td>0</td>\n",
       "      <td>0</td>\n",
       "      <td>0</td>\n",
       "      <td>1</td>\n",
       "      <td>0</td>\n",
       "      <td>0</td>\n",
       "      <td>0</td>\n",
       "    </tr>\n",
       "    <tr>\n",
       "      <th>274700</th>\n",
       "      <td>11</td>\n",
       "      <td>0</td>\n",
       "      <td>0</td>\n",
       "      <td>0</td>\n",
       "      <td>0</td>\n",
       "      <td>0</td>\n",
       "      <td>0</td>\n",
       "      <td>1</td>\n",
       "      <td>0</td>\n",
       "      <td>1</td>\n",
       "    </tr>\n",
       "    <tr>\n",
       "      <th>274701</th>\n",
       "      <td>11</td>\n",
       "      <td>0</td>\n",
       "      <td>0</td>\n",
       "      <td>0</td>\n",
       "      <td>0</td>\n",
       "      <td>0</td>\n",
       "      <td>1</td>\n",
       "      <td>0</td>\n",
       "      <td>0</td>\n",
       "      <td>0</td>\n",
       "    </tr>\n",
       "  </tbody>\n",
       "</table>\n",
       "<p>274702 rows × 10 columns</p>\n",
       "</div>"
      ],
      "text/plain": [
       "        test_week  cough  fever  sore_throat  shortness_of_breath  head_ache  \\\n",
       "0              18      0      0            0                    0          0   \n",
       "1              18      1      0            0                    0          0   \n",
       "2              18      0      1            0                    0          0   \n",
       "3              18      1      0            0                    0          0   \n",
       "4              18      1      0            0                    0          0   \n",
       "...           ...    ...    ...          ...                  ...        ...   \n",
       "274697         11      0      0            0                    0          0   \n",
       "274698         11      0      0            0                    0          0   \n",
       "274699         11      0      0            0                    0          0   \n",
       "274700         11      0      0            0                    0          0   \n",
       "274701         11      0      0            0                    0          0   \n",
       "\n",
       "        test_indication_0  test_indication_1  test_indication_2  corona_result  \n",
       "0                       1                  0                  0              0  \n",
       "1                       1                  0                  0              0  \n",
       "2                       1                  0                  0              0  \n",
       "3                       1                  0                  0              0  \n",
       "4                       1                  0                  0              0  \n",
       "...                   ...                ...                ...            ...  \n",
       "274697                  1                  0                  0              0  \n",
       "274698                  1                  0                  0              0  \n",
       "274699                  1                  0                  0              0  \n",
       "274700                  0                  1                  0              1  \n",
       "274701                  1                  0                  0              0  \n",
       "\n",
       "[274702 rows x 10 columns]"
      ]
     },
     "metadata": {},
     "execution_count": 4
    }
   ],
   "metadata": {}
  },
  {
   "cell_type": "markdown",
   "source": [
    "## Split the Data:\n",
    "* Split the data to test,train and validation sets\n",
    "* up/down sample the train data\n"
   ],
   "metadata": {}
  },
  {
   "cell_type": "code",
   "execution_count": 3,
   "source": [
    "X_train_raw, y_train_raw, X_test, y_test = mh.data_split(dataset_hot_encoded ,n_splits=1, test_size=0.4, train_size=0.6)\n",
    "X_train, y_train = mh.up_down_sampling(X_train_raw, y_train_raw, ratio=1, up=True)\n",
    "\n",
    "data_test = pd.concat([X_test, y_test], axis=1)\n",
    "X_test, y_test, X_val, y_val = mh.data_split(data_test , n_splits=1, test_size=0.5, train_size=0.5)\n"
   ],
   "outputs": [],
   "metadata": {}
  },
  {
   "cell_type": "code",
   "execution_count": 4,
   "source": [
    "y_train.value_counts()"
   ],
   "outputs": [
    {
     "output_type": "execute_result",
     "data": {
      "text/plain": [
       "0    156005\n",
       "1    156005\n",
       "Name: corona_result, dtype: int64"
      ]
     },
     "metadata": {},
     "execution_count": 4
    }
   ],
   "metadata": {}
  },
  {
   "cell_type": "markdown",
   "source": [
    "## Xgboost Classifier:"
   ],
   "metadata": {}
  },
  {
   "cell_type": "code",
   "execution_count": 5,
   "source": [
    "clf_xgb = xgb.XGBClassifier(objective='binary:logistic', eta=0.1, max_depth=6, reg_lambda=100)\n",
    "clf_xgb.fit(X_train, y_train,verbose=False, early_stopping_rounds=10, eval_metric='aucpr', eval_set=[(X_val, y_val)])\n",
    "xgb_pred = clf_xgb.predict(X_test)\n",
    "\n",
    "mh.model_evaluation(y_test, xgb_pred)"
   ],
   "outputs": [
    {
     "output_type": "stream",
     "name": "stderr",
     "text": [
      "/home/nirlalum/.local/lib/python3.8/site-packages/xgboost/sklearn.py:1224: UserWarning: The use of label encoder in XGBClassifier is deprecated and will be removed in a future release. To remove this warning, do the following: 1) Pass option use_label_encoder=False when constructing XGBClassifier object; and 2) Encode your labels (y) as integers starting with 0, i.e. 0, 1, 2, ..., [num_class - 1].\n",
      "  warnings.warn(label_encoder_deprecation_msg, UserWarning)\n"
     ]
    },
    {
     "output_type": "stream",
     "name": "stdout",
     "text": [
      "+--------------+--------------------+\n",
      "|    Metric    |       Score        |\n",
      "+--------------+--------------------+\n",
      "|   accuracy   | 0.918511103021478  |\n",
      "|    recall    | 0.8115005103776795 |\n",
      "|  presicion   | 0.3780913126188966 |\n",
      "|   f1 score   | 0.5158429761003569 |\n",
      "| f_beta score | 0.6601527900797166 |\n",
      "+--------------+--------------------+\n"
     ]
    },
    {
     "output_type": "display_data",
     "data": {
      "image/png": "[encoded data removed]",
      "text/plain": [
       "<Figure size 576x576 with 2 Axes>"
      ]
     },
     "metadata": {
      "needs_background": "light"
     }
    }
   ],
   "metadata": {}
  },
  {
   "cell_type": "markdown",
   "source": [
    "## Hyperparameters optimization with GridSearchCV:\n",
    "* Note: we wiil do 2 rounds of optimization to speed up the search."
   ],
   "metadata": {}
  },
  {
   "cell_type": "code",
   "execution_count": 5,
   "source": [
    "\n",
    "# Round1:\n",
    "params1 = {\n",
    "           'max_depth': [3, 4, 5],\n",
    "           'learning_rate': [0.1, 0.01, 0.05],\n",
    "           'gamma': [0, 0.25, 1.0],\n",
    "           'reg_lambda': [0, 1.0, 10.0],\n",
    "           'scale_pos_weight': [1, 3, 5]\n",
    "         }\n",
    "\n",
    "\n",
    "#Round2:\n",
    "params2 = {\n",
    "           'max_depth': [5, 6, 7],\n",
    "           'learning_rate': [0.1, 0.2, 0.3],\n",
    "           'gamma': [1.0, 2.0, 3.0]\n",
    "         }\n",
    "\n",
    "optimal_params = GridSearchCV(estimator=xgb.XGBClassifier(objective='binary:logistic',subsample=0.9, use_label_encoder=False),\n",
    "                              param_grid=params2,\n",
    "                              scoring='roc_auc',\n",
    "                              verbose=10,\n",
    "                              n_jobs=10,\n",
    "                              cv=3\n",
    "                             )\n"
   ],
   "outputs": [],
   "metadata": {}
  },
  {
   "cell_type": "markdown",
   "source": [
    "## GridSearchCV results:\n",
    "* round 1: gamma=1, learning_rate=0.1, max_depth=5, reg_lambda=0, scale_pos_weight=3 (max_score=0.91)\n",
    "* round 2: gamma=2, learning_rate=0.3, max_depth=6, reg_lambda=0, scale_pos_weight=3 (max_score=0.959)"
   ],
   "metadata": {}
  },
  {
   "cell_type": "code",
   "execution_count": 6,
   "source": [
    "#optimal_params.fit(X_train, y_train,verbose=0, early_stopping_rounds=10, eval_metric='aucpr', eval_set=[(X_val, y_val)])"
   ],
   "outputs": [
    {
     "output_type": "stream",
     "name": "stdout",
     "text": [
      "Fitting 3 folds for each of 27 candidates, totalling 81 fits\n",
      "[CV 1/3; 2/27] START gamma=1.0, learning_rate=0.1, max_depth=6..................\n",
      "[CV 3/3; 1/27] START gamma=1.0, learning_rate=0.1, max_depth=5..................\n",
      "[CV 2/3; 1/27] START gamma=1.0, learning_rate=0.1, max_depth=5..................\n",
      "[CV 1/3; 1/27] START gamma=1.0, learning_rate=0.1, max_depth=5..................\n",
      "[CV 2/3; 2/27] START gamma=1.0, learning_rate=0.1, max_depth=6..................\n",
      "[CV 1/3; 1/27] END gamma=1.0, learning_rate=0.1, max_depth=5;, score=0.929 total time= 2.3min\n",
      "[CV 3/3; 1/27] END gamma=1.0, learning_rate=0.1, max_depth=5;, score=0.931 total time= 2.4min\n",
      "[CV 2/3; 4/27] START gamma=1.0, learning_rate=0.2, max_depth=5..................\n",
      "[CV 3/3; 4/27] START gamma=1.0, learning_rate=0.2, max_depth=5..................\n",
      "[CV 2/3; 1/27] END gamma=1.0, learning_rate=0.1, max_depth=5;, score=0.928 total time= 2.4min\n",
      "[CV 1/3; 5/27] START gamma=1.0, learning_rate=0.2, max_depth=6..................\n",
      "[CV 3/3; 3/27] START gamma=1.0, learning_rate=0.1, max_depth=7..................\n",
      "[CV 2/3; 3/27] START gamma=1.0, learning_rate=0.1, max_depth=7..................\n",
      "[CV 1/3; 3/27] START gamma=1.0, learning_rate=0.1, max_depth=7..................\n",
      "[CV 3/3; 2/27] START gamma=1.0, learning_rate=0.1, max_depth=6..................\n",
      "[CV 1/3; 4/27] START gamma=1.0, learning_rate=0.2, max_depth=5..................\n",
      "[CV 1/3; 2/27] END gamma=1.0, learning_rate=0.1, max_depth=6;, score=0.935 total time= 3.0min\n",
      "[CV 2/3; 5/27] START gamma=1.0, learning_rate=0.2, max_depth=6..................\n",
      "[CV 2/3; 2/27] END gamma=1.0, learning_rate=0.1, max_depth=6;, score=0.934 total time= 3.2min\n",
      "[CV 3/3; 5/27] START gamma=1.0, learning_rate=0.2, max_depth=6..................\n",
      "[CV 2/3; 4/27] END gamma=1.0, learning_rate=0.2, max_depth=5;, score=0.938 total time= 3.6min\n",
      "[CV 1/3; 6/27] START gamma=1.0, learning_rate=0.2, max_depth=7..................\n",
      "[CV 1/3; 4/27] END gamma=1.0, learning_rate=0.2, max_depth=5;, score=0.943 total time= 3.6min\n",
      "[CV 2/3; 6/27] START gamma=1.0, learning_rate=0.2, max_depth=7..................\n",
      "[CV 3/3; 4/27] END gamma=1.0, learning_rate=0.2, max_depth=5;, score=0.941 total time= 3.7min\n",
      "[CV 3/3; 6/27] START gamma=1.0, learning_rate=0.2, max_depth=7..................\n",
      "[CV 2/3; 5/27] END gamma=1.0, learning_rate=0.2, max_depth=6;, score=0.941 total time= 3.5min\n",
      "[CV 1/3; 7/27] START gamma=1.0, learning_rate=0.3, max_depth=5..................\n",
      "[CV 1/3; 5/27] END gamma=1.0, learning_rate=0.2, max_depth=6;, score=0.953 total time= 4.3min\n",
      "[CV 2/3; 7/27] START gamma=1.0, learning_rate=0.3, max_depth=5..................\n",
      "[CV 3/3; 2/27] END gamma=1.0, learning_rate=0.1, max_depth=6;, score=0.937 total time= 4.3min\n",
      "[CV 3/3; 7/27] START gamma=1.0, learning_rate=0.3, max_depth=5..................\n",
      "[CV 1/3; 3/27] END gamma=1.0, learning_rate=0.1, max_depth=7;, score=0.941 total time= 5.0min\n",
      "[CV 1/3; 8/27] START gamma=1.0, learning_rate=0.3, max_depth=6..................\n",
      "[CV 3/3; 5/27] END gamma=1.0, learning_rate=0.2, max_depth=6;, score=0.952 total time= 4.3min\n",
      "[CV 2/3; 8/27] START gamma=1.0, learning_rate=0.3, max_depth=6..................\n",
      "[CV 3/3; 3/27] END gamma=1.0, learning_rate=0.1, max_depth=7;, score=0.943 total time= 5.2min\n",
      "[CV 3/3; 8/27] START gamma=1.0, learning_rate=0.3, max_depth=6..................\n",
      "[CV 2/3; 3/27] END gamma=1.0, learning_rate=0.1, max_depth=7;, score=0.940 total time= 5.2min\n",
      "[CV 1/3; 9/27] START gamma=1.0, learning_rate=0.3, max_depth=7..................\n",
      "[CV 1/3; 7/27] END gamma=1.0, learning_rate=0.3, max_depth=5;, score=0.946 total time= 3.3min\n",
      "[CV 2/3; 9/27] START gamma=1.0, learning_rate=0.3, max_depth=7..................\n",
      "[CV 3/3; 7/27] END gamma=1.0, learning_rate=0.3, max_depth=5;, score=0.945 total time= 3.2min\n",
      "[CV 3/3; 9/27] START gamma=1.0, learning_rate=0.3, max_depth=7..................\n",
      "[CV 2/3; 7/27] END gamma=1.0, learning_rate=0.3, max_depth=5;, score=0.948 total time= 3.8min\n",
      "[CV 1/3; 10/27] START gamma=2.0, learning_rate=0.1, max_depth=5.................\n",
      "[CV 1/3; 6/27] END gamma=1.0, learning_rate=0.2, max_depth=7;, score=0.953 total time= 4.5min\n",
      "[CV 2/3; 10/27] START gamma=2.0, learning_rate=0.1, max_depth=5.................\n",
      "[CV 2/3; 8/27] END gamma=1.0, learning_rate=0.3, max_depth=6;, score=0.949 total time= 3.4min\n",
      "[CV 3/3; 10/27] START gamma=2.0, learning_rate=0.1, max_depth=5.................\n",
      "[CV 3/3; 8/27] END gamma=1.0, learning_rate=0.3, max_depth=6;, score=0.952 total time= 3.3min\n",
      "[CV 1/3; 11/27] START gamma=2.0, learning_rate=0.1, max_depth=6.................\n",
      "[CV 1/3; 9/27] END gamma=1.0, learning_rate=0.3, max_depth=7;, score=0.953 total time= 3.3min\n",
      "[CV 2/3; 11/27] START gamma=2.0, learning_rate=0.1, max_depth=6.................\n",
      "[CV 3/3; 6/27] END gamma=1.0, learning_rate=0.2, max_depth=7;, score=0.958 total time= 4.9min\n",
      "[CV 3/3; 11/27] START gamma=2.0, learning_rate=0.1, max_depth=6.................\n",
      "[CV 2/3; 6/27] END gamma=1.0, learning_rate=0.2, max_depth=7;, score=0.957 total time= 5.1min\n",
      "[CV 1/3; 12/27] START gamma=2.0, learning_rate=0.1, max_depth=7.................\n",
      "[CV 1/3; 8/27] END gamma=1.0, learning_rate=0.3, max_depth=6;, score=0.961 total time= 4.3min\n",
      "[CV 2/3; 12/27] START gamma=2.0, learning_rate=0.1, max_depth=7.................\n",
      "[CV 3/3; 9/27] END gamma=1.0, learning_rate=0.3, max_depth=7;, score=0.943 total time= 2.4min\n",
      "[CV 3/3; 12/27] START gamma=2.0, learning_rate=0.1, max_depth=7.................\n",
      "[CV 2/3; 9/27] END gamma=1.0, learning_rate=0.3, max_depth=7;, score=0.947 total time= 2.8min\n",
      "[CV 1/3; 13/27] START gamma=2.0, learning_rate=0.2, max_depth=5.................\n",
      "[CV 1/3; 10/27] END gamma=2.0, learning_rate=0.1, max_depth=5;, score=0.927 total time= 3.5min\n",
      "[CV 2/3; 13/27] START gamma=2.0, learning_rate=0.2, max_depth=5.................\n",
      "[CV 2/3; 10/27] END gamma=2.0, learning_rate=0.1, max_depth=5;, score=0.928 total time= 3.8min\n",
      "[CV 3/3; 13/27] START gamma=2.0, learning_rate=0.2, max_depth=5.................\n",
      "[CV 3/3; 10/27] END gamma=2.0, learning_rate=0.1, max_depth=5;, score=0.930 total time= 3.8min\n",
      "[CV 1/3; 14/27] START gamma=2.0, learning_rate=0.2, max_depth=6.................\n",
      "[CV 1/3; 11/27] END gamma=2.0, learning_rate=0.1, max_depth=6;, score=0.936 total time= 4.4min\n",
      "[CV 2/3; 14/27] START gamma=2.0, learning_rate=0.2, max_depth=6.................\n",
      "[CV 2/3; 11/27] END gamma=2.0, learning_rate=0.1, max_depth=6;, score=0.933 total time= 4.5min\n",
      "[CV 3/3; 14/27] START gamma=2.0, learning_rate=0.2, max_depth=6.................\n",
      "[CV 3/3; 11/27] END gamma=2.0, learning_rate=0.1, max_depth=6;, score=0.937 total time= 4.4min\n",
      "[CV 1/3; 15/27] START gamma=2.0, learning_rate=0.2, max_depth=7.................\n",
      "[CV 1/3; 13/27] END gamma=2.0, learning_rate=0.2, max_depth=5;, score=0.943 total time= 3.6min\n",
      "[CV 2/3; 15/27] START gamma=2.0, learning_rate=0.2, max_depth=7.................\n",
      "[CV 1/3; 12/27] END gamma=2.0, learning_rate=0.1, max_depth=7;, score=0.944 total time= 4.9min\n",
      "[CV 3/3; 15/27] START gamma=2.0, learning_rate=0.2, max_depth=7.................\n",
      "[CV 3/3; 12/27] END gamma=2.0, learning_rate=0.1, max_depth=7;, score=0.932 total time= 3.8min\n",
      "[CV 1/3; 16/27] START gamma=2.0, learning_rate=0.3, max_depth=5.................\n",
      "[CV 2/3; 12/27] END gamma=2.0, learning_rate=0.1, max_depth=7;, score=0.943 total time= 5.0min\n",
      "[CV 2/3; 16/27] START gamma=2.0, learning_rate=0.3, max_depth=5.................\n",
      "[CV 2/3; 13/27] END gamma=2.0, learning_rate=0.2, max_depth=5;, score=0.941 total time= 3.8min\n",
      "[CV 3/3; 16/27] START gamma=2.0, learning_rate=0.3, max_depth=5.................\n",
      "[CV 1/3; 16/27] END gamma=2.0, learning_rate=0.3, max_depth=5;, score=0.927 total time= 1.8min\n",
      "[CV 1/3; 17/27] START gamma=2.0, learning_rate=0.3, max_depth=6.................\n",
      "[CV 3/3; 13/27] END gamma=2.0, learning_rate=0.2, max_depth=5;, score=0.944 total time= 3.9min\n",
      "[CV 2/3; 17/27] START gamma=2.0, learning_rate=0.3, max_depth=6.................\n",
      "[CV 3/3; 14/27] END gamma=2.0, learning_rate=0.2, max_depth=6;, score=0.942 total time= 3.6min\n",
      "[CV 3/3; 17/27] START gamma=2.0, learning_rate=0.3, max_depth=6.................\n",
      "[CV 1/3; 14/27] END gamma=2.0, learning_rate=0.2, max_depth=6;, score=0.951 total time= 4.7min\n",
      "[CV 1/3; 18/27] START gamma=2.0, learning_rate=0.3, max_depth=7.................\n",
      "[CV 2/3; 14/27] END gamma=2.0, learning_rate=0.2, max_depth=6;, score=0.951 total time= 4.7min\n",
      "[CV 2/3; 18/27] START gamma=2.0, learning_rate=0.3, max_depth=7.................\n",
      "[CV 2/3; 16/27] END gamma=2.0, learning_rate=0.3, max_depth=5;, score=0.941 total time= 3.4min\n",
      "[CV 3/3; 18/27] START gamma=2.0, learning_rate=0.3, max_depth=7.................\n",
      "[CV 3/3; 15/27] END gamma=2.0, learning_rate=0.2, max_depth=7;, score=0.951 total time= 4.3min\n",
      "[CV 1/3; 19/27] START gamma=3.0, learning_rate=0.1, max_depth=5.................\n",
      "[CV 2/3; 15/27] END gamma=2.0, learning_rate=0.2, max_depth=7;, score=0.950 total time= 4.5min\n",
      "[CV 2/3; 19/27] START gamma=3.0, learning_rate=0.1, max_depth=5.................\n",
      "[CV 1/3; 15/27] END gamma=2.0, learning_rate=0.2, max_depth=7;, score=0.958 total time= 5.3min\n",
      "[CV 3/3; 19/27] START gamma=3.0, learning_rate=0.1, max_depth=5.................\n",
      "[CV 3/3; 16/27] END gamma=2.0, learning_rate=0.3, max_depth=5;, score=0.952 total time= 4.0min\n",
      "[CV 1/3; 20/27] START gamma=3.0, learning_rate=0.1, max_depth=6.................\n",
      "[CV 3/3; 18/27] END gamma=2.0, learning_rate=0.3, max_depth=7;, score=0.931 total time= 1.9min\n",
      "[CV 2/3; 20/27] START gamma=3.0, learning_rate=0.1, max_depth=6.................\n",
      "[CV 1/3; 17/27] END gamma=2.0, learning_rate=0.3, max_depth=6;, score=0.961 total time= 4.7min\n",
      "[CV 3/3; 20/27] START gamma=3.0, learning_rate=0.1, max_depth=6.................\n",
      "[CV 2/3; 17/27] END gamma=2.0, learning_rate=0.3, max_depth=6;, score=0.957 total time= 4.7min\n",
      "[CV 1/3; 21/27] START gamma=3.0, learning_rate=0.1, max_depth=7.................\n",
      "[CV 1/3; 18/27] END gamma=2.0, learning_rate=0.3, max_depth=7;, score=0.957 total time= 3.7min\n",
      "[CV 2/3; 21/27] START gamma=3.0, learning_rate=0.1, max_depth=7.................\n",
      "[CV 3/3; 17/27] END gamma=2.0, learning_rate=0.3, max_depth=6;, score=0.960 total time= 4.6min\n",
      "[CV 3/3; 21/27] START gamma=3.0, learning_rate=0.1, max_depth=7.................\n",
      "[CV 1/3; 19/27] END gamma=3.0, learning_rate=0.1, max_depth=5;, score=0.930 total time= 4.0min\n",
      "[CV 1/3; 22/27] START gamma=3.0, learning_rate=0.2, max_depth=5.................\n",
      "[CV 2/3; 19/27] END gamma=3.0, learning_rate=0.1, max_depth=5;, score=0.930 total time= 4.0min\n",
      "[CV 2/3; 22/27] START gamma=3.0, learning_rate=0.2, max_depth=5.................\n",
      "[CV 3/3; 19/27] END gamma=3.0, learning_rate=0.1, max_depth=5;, score=0.930 total time= 4.0min\n",
      "[CV 3/3; 22/27] START gamma=3.0, learning_rate=0.2, max_depth=5.................\n",
      "[CV 2/3; 18/27] END gamma=2.0, learning_rate=0.3, max_depth=7;, score=0.966 total time= 5.1min\n",
      "[CV 1/3; 23/27] START gamma=3.0, learning_rate=0.2, max_depth=6.................\n",
      "[CV 1/3; 20/27] END gamma=3.0, learning_rate=0.1, max_depth=6;, score=0.935 total time= 4.6min\n",
      "[CV 2/3; 23/27] START gamma=3.0, learning_rate=0.2, max_depth=6.................\n",
      "[CV 2/3; 20/27] END gamma=3.0, learning_rate=0.1, max_depth=6;, score=0.935 total time= 4.6min\n",
      "[CV 3/3; 23/27] START gamma=3.0, learning_rate=0.2, max_depth=6.................\n",
      "[CV 3/3; 20/27] END gamma=3.0, learning_rate=0.1, max_depth=6;, score=0.937 total time= 4.6min\n",
      "[CV 1/3; 24/27] START gamma=3.0, learning_rate=0.2, max_depth=7.................\n",
      "[CV 3/3; 21/27] END gamma=3.0, learning_rate=0.1, max_depth=7;, score=0.932 total time= 4.1min\n",
      "[CV 2/3; 24/27] START gamma=3.0, learning_rate=0.2, max_depth=7.................\n",
      "[CV 2/3; 22/27] END gamma=3.0, learning_rate=0.2, max_depth=5;, score=0.935 total time= 3.1min\n",
      "[CV 3/3; 24/27] START gamma=3.0, learning_rate=0.2, max_depth=7.................\n",
      "[CV 3/3; 22/27] END gamma=3.0, learning_rate=0.2, max_depth=5;, score=0.937 total time= 3.3min\n",
      "[CV 1/3; 25/27] START gamma=3.0, learning_rate=0.3, max_depth=5.................\n",
      "[CV 2/3; 21/27] END gamma=3.0, learning_rate=0.1, max_depth=7;, score=0.941 total time= 5.2min\n",
      "[CV 2/3; 25/27] START gamma=3.0, learning_rate=0.3, max_depth=5.................\n",
      "[CV 1/3; 22/27] END gamma=3.0, learning_rate=0.2, max_depth=5;, score=0.940 total time= 3.8min\n",
      "[CV 3/3; 25/27] START gamma=3.0, learning_rate=0.3, max_depth=5.................\n",
      "[CV 1/3; 21/27] END gamma=3.0, learning_rate=0.1, max_depth=7;, score=0.942 total time= 5.3min\n",
      "[CV 1/3; 26/27] START gamma=3.0, learning_rate=0.3, max_depth=6.................\n",
      "[CV 1/3; 23/27] END gamma=3.0, learning_rate=0.2, max_depth=6;, score=0.947 total time= 4.0min\n",
      "[CV 2/3; 26/27] START gamma=3.0, learning_rate=0.3, max_depth=6.................\n",
      "[CV 2/3; 23/27] END gamma=3.0, learning_rate=0.2, max_depth=6;, score=0.951 total time= 4.4min\n",
      "[CV 3/3; 26/27] START gamma=3.0, learning_rate=0.3, max_depth=6.................\n",
      "[CV 3/3; 23/27] END gamma=3.0, learning_rate=0.2, max_depth=6;, score=0.950 total time= 4.3min\n",
      "[CV 1/3; 27/27] START gamma=3.0, learning_rate=0.3, max_depth=7.................\n",
      "[CV 2/3; 25/27] END gamma=3.0, learning_rate=0.3, max_depth=5;, score=0.940 total time= 2.8min\n",
      "[CV 2/3; 27/27] START gamma=3.0, learning_rate=0.3, max_depth=7.................\n",
      "[CV 3/3; 25/27] END gamma=3.0, learning_rate=0.3, max_depth=5;, score=0.945 total time= 3.0min\n",
      "[CV 3/3; 27/27] START gamma=3.0, learning_rate=0.3, max_depth=7.................\n",
      "[CV 1/3; 25/27] END gamma=3.0, learning_rate=0.3, max_depth=5;, score=0.946 total time= 3.3min\n",
      "[CV 1/3; 26/27] END gamma=3.0, learning_rate=0.3, max_depth=6;, score=0.954 total time= 3.5min\n",
      "[CV 2/3; 26/27] END gamma=3.0, learning_rate=0.3, max_depth=6;, score=0.944 total time= 2.7min\n",
      "[CV 1/3; 24/27] END gamma=3.0, learning_rate=0.2, max_depth=7;, score=0.961 total time= 4.7min\n",
      "[CV 2/3; 24/27] END gamma=3.0, learning_rate=0.2, max_depth=7;, score=0.955 total time= 4.6min\n",
      "[CV 3/3; 24/27] END gamma=3.0, learning_rate=0.2, max_depth=7;, score=0.960 total time= 4.6min\n",
      "[CV 3/3; 27/27] END gamma=3.0, learning_rate=0.3, max_depth=7;, score=0.944 total time= 1.6min\n",
      "[CV 3/3; 26/27] END gamma=3.0, learning_rate=0.3, max_depth=6;, score=0.961 total time= 2.5min\n",
      "[CV 2/3; 27/27] END gamma=3.0, learning_rate=0.3, max_depth=7;, score=0.961 total time= 2.4min\n",
      "[CV 1/3; 27/27] END gamma=3.0, learning_rate=0.3, max_depth=7;, score=0.964 total time= 2.4min\n"
     ]
    },
    {
     "output_type": "execute_result",
     "data": {
      "text/plain": [
       "GridSearchCV(cv=3,\n",
       "             estimator=XGBClassifier(base_score=None, booster=None,\n",
       "                                     colsample_bylevel=None,\n",
       "                                     colsample_bynode=None,\n",
       "                                     colsample_bytree=None,\n",
       "                                     enable_categorical=False, gamma=None,\n",
       "                                     gpu_id=None, importance_type=None,\n",
       "                                     interaction_constraints=None,\n",
       "                                     learning_rate=None, max_delta_step=None,\n",
       "                                     max_depth=None, min_child_weight=None,\n",
       "                                     missing=nan, monotone_constraints=None,\n",
       "                                     n_estimators=100, n_jobs=None,\n",
       "                                     num_parallel_tree=None, predictor=None,\n",
       "                                     random_state=None, reg_alpha=None,\n",
       "                                     reg_lambda=None, scale_pos_weight=None,\n",
       "                                     subsample=0.9, tree_method=None,\n",
       "                                     use_label_encoder=False,\n",
       "                                     validate_parameters=None, verbosity=None),\n",
       "             n_jobs=10,\n",
       "             param_grid={'gamma': [1.0, 2.0, 3.0],\n",
       "                         'learning_rate': [0.1, 0.2, 0.3],\n",
       "                         'max_depth': [5, 6, 7]},\n",
       "             scoring='roc_auc', verbose=10)"
      ]
     },
     "metadata": {},
     "execution_count": 6
    }
   ],
   "metadata": {}
  },
  {
   "cell_type": "code",
   "execution_count": 7,
   "source": [
    "print(f\"best parameters: {optimal_params.best_params_},\\nROC_AUC score: {optimal_params.best_score_}\")"
   ],
   "outputs": [
    {
     "output_type": "stream",
     "name": "stdout",
     "text": [
      "best parameters: {'gamma': 2.0, 'learning_rate': 0.3, 'max_depth': 6},\n",
      "ROC_AUC score: 0.9595241207359106\n"
     ]
    }
   ],
   "metadata": {}
  },
  {
   "cell_type": "code",
   "execution_count": 91,
   "source": [
    "X_train"
   ],
   "outputs": [
    {
     "output_type": "execute_result",
     "data": {
      "text/html": [
       "<div>\n",
       "<style scoped>\n",
       "    .dataframe tbody tr th:only-of-type {\n",
       "        vertical-align: middle;\n",
       "    }\n",
       "\n",
       "    .dataframe tbody tr th {\n",
       "        vertical-align: top;\n",
       "    }\n",
       "\n",
       "    .dataframe thead th {\n",
       "        text-align: right;\n",
       "    }\n",
       "</style>\n",
       "<table border=\"1\" class=\"dataframe\">\n",
       "  <thead>\n",
       "    <tr style=\"text-align: right;\">\n",
       "      <th></th>\n",
       "      <th>test_week</th>\n",
       "      <th>cough</th>\n",
       "      <th>fever</th>\n",
       "      <th>sore_throat</th>\n",
       "      <th>shortness_of_breath</th>\n",
       "      <th>head_ache</th>\n",
       "      <th>test_indication_0</th>\n",
       "      <th>test_indication_1</th>\n",
       "      <th>test_indication_2</th>\n",
       "    </tr>\n",
       "  </thead>\n",
       "  <tbody>\n",
       "    <tr>\n",
       "      <th>74721</th>\n",
       "      <td>17</td>\n",
       "      <td>0</td>\n",
       "      <td>0</td>\n",
       "      <td>0</td>\n",
       "      <td>0</td>\n",
       "      <td>0</td>\n",
       "      <td>1</td>\n",
       "      <td>0</td>\n",
       "      <td>0</td>\n",
       "    </tr>\n",
       "    <tr>\n",
       "      <th>51756</th>\n",
       "      <td>17</td>\n",
       "      <td>0</td>\n",
       "      <td>0</td>\n",
       "      <td>0</td>\n",
       "      <td>0</td>\n",
       "      <td>0</td>\n",
       "      <td>1</td>\n",
       "      <td>0</td>\n",
       "      <td>0</td>\n",
       "    </tr>\n",
       "    <tr>\n",
       "      <th>52814</th>\n",
       "      <td>17</td>\n",
       "      <td>0</td>\n",
       "      <td>0</td>\n",
       "      <td>0</td>\n",
       "      <td>0</td>\n",
       "      <td>0</td>\n",
       "      <td>1</td>\n",
       "      <td>0</td>\n",
       "      <td>0</td>\n",
       "    </tr>\n",
       "    <tr>\n",
       "      <th>51845</th>\n",
       "      <td>17</td>\n",
       "      <td>1</td>\n",
       "      <td>0</td>\n",
       "      <td>0</td>\n",
       "      <td>0</td>\n",
       "      <td>0</td>\n",
       "      <td>1</td>\n",
       "      <td>0</td>\n",
       "      <td>0</td>\n",
       "    </tr>\n",
       "    <tr>\n",
       "      <th>159005</th>\n",
       "      <td>15</td>\n",
       "      <td>0</td>\n",
       "      <td>0</td>\n",
       "      <td>0</td>\n",
       "      <td>0</td>\n",
       "      <td>0</td>\n",
       "      <td>0</td>\n",
       "      <td>1</td>\n",
       "      <td>0</td>\n",
       "    </tr>\n",
       "    <tr>\n",
       "      <th>...</th>\n",
       "      <td>...</td>\n",
       "      <td>...</td>\n",
       "      <td>...</td>\n",
       "      <td>...</td>\n",
       "      <td>...</td>\n",
       "      <td>...</td>\n",
       "      <td>...</td>\n",
       "      <td>...</td>\n",
       "      <td>...</td>\n",
       "    </tr>\n",
       "    <tr>\n",
       "      <th>271790</th>\n",
       "      <td>11</td>\n",
       "      <td>0</td>\n",
       "      <td>0</td>\n",
       "      <td>1</td>\n",
       "      <td>0</td>\n",
       "      <td>0</td>\n",
       "      <td>1</td>\n",
       "      <td>0</td>\n",
       "      <td>0</td>\n",
       "    </tr>\n",
       "    <tr>\n",
       "      <th>238572</th>\n",
       "      <td>13</td>\n",
       "      <td>0</td>\n",
       "      <td>0</td>\n",
       "      <td>0</td>\n",
       "      <td>0</td>\n",
       "      <td>0</td>\n",
       "      <td>0</td>\n",
       "      <td>1</td>\n",
       "      <td>0</td>\n",
       "    </tr>\n",
       "    <tr>\n",
       "      <th>212349</th>\n",
       "      <td>14</td>\n",
       "      <td>0</td>\n",
       "      <td>0</td>\n",
       "      <td>0</td>\n",
       "      <td>0</td>\n",
       "      <td>0</td>\n",
       "      <td>0</td>\n",
       "      <td>1</td>\n",
       "      <td>0</td>\n",
       "    </tr>\n",
       "    <tr>\n",
       "      <th>255078</th>\n",
       "      <td>13</td>\n",
       "      <td>1</td>\n",
       "      <td>1</td>\n",
       "      <td>0</td>\n",
       "      <td>0</td>\n",
       "      <td>0</td>\n",
       "      <td>1</td>\n",
       "      <td>0</td>\n",
       "      <td>0</td>\n",
       "    </tr>\n",
       "    <tr>\n",
       "      <th>40155</th>\n",
       "      <td>17</td>\n",
       "      <td>0</td>\n",
       "      <td>0</td>\n",
       "      <td>0</td>\n",
       "      <td>0</td>\n",
       "      <td>0</td>\n",
       "      <td>1</td>\n",
       "      <td>0</td>\n",
       "      <td>0</td>\n",
       "    </tr>\n",
       "  </tbody>\n",
       "</table>\n",
       "<p>312010 rows × 9 columns</p>\n",
       "</div>"
      ],
      "text/plain": [
       "        test_week  cough  fever  sore_throat  shortness_of_breath  head_ache  \\\n",
       "74721          17      0      0            0                    0          0   \n",
       "51756          17      0      0            0                    0          0   \n",
       "52814          17      0      0            0                    0          0   \n",
       "51845          17      1      0            0                    0          0   \n",
       "159005         15      0      0            0                    0          0   \n",
       "...           ...    ...    ...          ...                  ...        ...   \n",
       "271790         11      0      0            1                    0          0   \n",
       "238572         13      0      0            0                    0          0   \n",
       "212349         14      0      0            0                    0          0   \n",
       "255078         13      1      1            0                    0          0   \n",
       "40155          17      0      0            0                    0          0   \n",
       "\n",
       "        test_indication_0  test_indication_1  test_indication_2  \n",
       "74721                   1                  0                  0  \n",
       "51756                   1                  0                  0  \n",
       "52814                   1                  0                  0  \n",
       "51845                   1                  0                  0  \n",
       "159005                  0                  1                  0  \n",
       "...                   ...                ...                ...  \n",
       "271790                  1                  0                  0  \n",
       "238572                  0                  1                  0  \n",
       "212349                  0                  1                  0  \n",
       "255078                  1                  0                  0  \n",
       "40155                   1                  0                  0  \n",
       "\n",
       "[312010 rows x 9 columns]"
      ]
     },
     "metadata": {},
     "execution_count": 91
    }
   ],
   "metadata": {}
  },
  {
   "cell_type": "markdown",
   "source": [
    "## Run the Xgboost again with the optimized hyperparameters:"
   ],
   "metadata": {}
  },
  {
   "cell_type": "code",
   "execution_count": 6,
   "source": [
    "xgb_post_val = xgb.XGBClassifier(objective='binary:logistic', learning_rate=0.3, max_depth=6, reg_lambda=0, gamma=2.0, scale_pos_weight=3)\n",
    "xgb_post_val.fit(X_train, y_train,verbose=False, early_stopping_rounds=10, eval_metric='aucpr', eval_set=[(X_val, y_val)])\n",
    "xgb_post_val_pred = xgb_post_val.predict(X_test)\n",
    "\n",
    "mh.model_evaluation(y_test, xgb_post_val_pred)"
   ],
   "outputs": [
    {
     "output_type": "stream",
     "name": "stderr",
     "text": [
      "/home/nirlalum/.local/lib/python3.8/site-packages/xgboost/sklearn.py:1224: UserWarning: The use of label encoder in XGBClassifier is deprecated and will be removed in a future release. To remove this warning, do the following: 1) Pass option use_label_encoder=False when constructing XGBClassifier object; and 2) Encode your labels (y) as integers starting with 0, i.e. 0, 1, 2, ..., [num_class - 1].\n",
      "  warnings.warn(label_encoder_deprecation_msg, UserWarning)\n"
     ]
    },
    {
     "output_type": "stream",
     "name": "stdout",
     "text": [
      "+--------------+---------------------+\n",
      "|    Metric    |        Score        |\n",
      "+--------------+---------------------+\n",
      "|   accuracy   |  0.8704586821987623 |\n",
      "|    recall    |  0.8407621640013611 |\n",
      "|  presicion   | 0.27094298245614035 |\n",
      "|   f1 score   |  0.4098183929015673 |\n",
      "| f_beta score |  0.5918279363862808 |\n",
      "+--------------+---------------------+\n"
     ]
    },
    {
     "output_type": "display_data",
     "data": {
      "image/png": "[encoded data removed]",
      "text/plain": [
       "<Figure size 576x576 with 2 Axes>"
      ]
     },
     "metadata": {
      "needs_background": "light"
     }
    }
   ],
   "metadata": {}
  },
  {
   "cell_type": "markdown",
   "source": [
    "# Check the missclassified examples:"
   ],
   "metadata": {}
  },
  {
   "cell_type": "markdown",
   "source": [
    "# false negative examples:"
   ],
   "metadata": {}
  },
  {
   "cell_type": "code",
   "execution_count": 7,
   "source": [
    "X_test_no_dummies = dataset.iloc[y_test.index] # so we will have the not hot encoded test indication feature\n",
    "\n",
    "y_test_aux = y_test.reset_index()\n",
    "X_test_aux = X_test_no_dummies.reset_index()\n",
    "\n",
    "# Get all indexes of the negative prediction of the classifier\n",
    "negative_indexes = xgb_post_val_pred == 0 \n",
    "\n",
    "# Get the examples that were predicted as negative\n",
    "negative_pred_exm = y_test_aux.iloc[negative_indexes] \n",
    "negative_pred_exm.drop(columns=['index'],inplace=True)\n",
    "\n",
    "# Get all the false negative examples\n",
    "false_neg_pred = X_test_no_dummies.iloc[negative_pred_exm[negative_pred_exm['corona_result']==1].index]"
   ],
   "outputs": [
    {
     "output_type": "stream",
     "name": "stderr",
     "text": [
      "/home/nirlalum/.local/lib/python3.8/site-packages/pandas/core/frame.py:4906: SettingWithCopyWarning: \n",
      "A value is trying to be set on a copy of a slice from a DataFrame\n",
      "\n",
      "See the caveats in the documentation: https://pandas.pydata.org/pandas-docs/stable/user_guide/indexing.html#returning-a-view-versus-a-copy\n",
      "  return super().drop(\n"
     ]
    }
   ],
   "metadata": {}
  },
  {
   "cell_type": "code",
   "execution_count": 8,
   "source": [
    "false_neg_pred.head()"
   ],
   "outputs": [
    {
     "output_type": "execute_result",
     "data": {
      "text/html": [
       "<div>\n",
       "<style scoped>\n",
       "    .dataframe tbody tr th:only-of-type {\n",
       "        vertical-align: middle;\n",
       "    }\n",
       "\n",
       "    .dataframe tbody tr th {\n",
       "        vertical-align: top;\n",
       "    }\n",
       "\n",
       "    .dataframe thead th {\n",
       "        text-align: right;\n",
       "    }\n",
       "</style>\n",
       "<table border=\"1\" class=\"dataframe\">\n",
       "  <thead>\n",
       "    <tr style=\"text-align: right;\">\n",
       "      <th></th>\n",
       "      <th>index</th>\n",
       "      <th>test_week</th>\n",
       "      <th>cough</th>\n",
       "      <th>fever</th>\n",
       "      <th>sore_throat</th>\n",
       "      <th>shortness_of_breath</th>\n",
       "      <th>head_ache</th>\n",
       "      <th>test_indication</th>\n",
       "      <th>corona_result</th>\n",
       "    </tr>\n",
       "  </thead>\n",
       "  <tbody>\n",
       "    <tr>\n",
       "      <th>210933</th>\n",
       "      <td>213967</td>\n",
       "      <td>14</td>\n",
       "      <td>0</td>\n",
       "      <td>0</td>\n",
       "      <td>0</td>\n",
       "      <td>0</td>\n",
       "      <td>0</td>\n",
       "      <td>0</td>\n",
       "      <td>1</td>\n",
       "    </tr>\n",
       "    <tr>\n",
       "      <th>140269</th>\n",
       "      <td>142459</td>\n",
       "      <td>15</td>\n",
       "      <td>0</td>\n",
       "      <td>0</td>\n",
       "      <td>0</td>\n",
       "      <td>0</td>\n",
       "      <td>0</td>\n",
       "      <td>0</td>\n",
       "      <td>1</td>\n",
       "    </tr>\n",
       "    <tr>\n",
       "      <th>246576</th>\n",
       "      <td>250244</td>\n",
       "      <td>13</td>\n",
       "      <td>0</td>\n",
       "      <td>0</td>\n",
       "      <td>0</td>\n",
       "      <td>0</td>\n",
       "      <td>0</td>\n",
       "      <td>0</td>\n",
       "      <td>1</td>\n",
       "    </tr>\n",
       "    <tr>\n",
       "      <th>115624</th>\n",
       "      <td>117055</td>\n",
       "      <td>16</td>\n",
       "      <td>0</td>\n",
       "      <td>0</td>\n",
       "      <td>0</td>\n",
       "      <td>0</td>\n",
       "      <td>0</td>\n",
       "      <td>0</td>\n",
       "      <td>1</td>\n",
       "    </tr>\n",
       "    <tr>\n",
       "      <th>249704</th>\n",
       "      <td>253420</td>\n",
       "      <td>13</td>\n",
       "      <td>0</td>\n",
       "      <td>0</td>\n",
       "      <td>0</td>\n",
       "      <td>0</td>\n",
       "      <td>0</td>\n",
       "      <td>0</td>\n",
       "      <td>1</td>\n",
       "    </tr>\n",
       "  </tbody>\n",
       "</table>\n",
       "</div>"
      ],
      "text/plain": [
       "         index  test_week  cough  fever  sore_throat  shortness_of_breath  \\\n",
       "210933  213967         14      0      0            0                    0   \n",
       "140269  142459         15      0      0            0                    0   \n",
       "246576  250244         13      0      0            0                    0   \n",
       "115624  117055         16      0      0            0                    0   \n",
       "249704  253420         13      0      0            0                    0   \n",
       "\n",
       "        head_ache  test_indication  corona_result  \n",
       "210933          0                0              1  \n",
       "140269          0                0              1  \n",
       "246576          0                0              1  \n",
       "115624          0                0              1  \n",
       "249704          0                0              1  "
      ]
     },
     "metadata": {},
     "execution_count": 8
    }
   ],
   "metadata": {}
  },
  {
   "cell_type": "code",
   "execution_count": 9,
   "source": [
    "hel.plot_dataset(false_neg_pred[false_neg_pred.columns[1:8]], sns.countplot, 'countplot')"
   ],
   "outputs": [
    {
     "output_type": "stream",
     "name": "stderr",
     "text": [
      "100%|██████████| 7/7 [00:00<00:00, 67.77it/s]\n"
     ]
    },
    {
     "output_type": "display_data",
     "data": {
      "image/png": "[encoded data removed]",
      "text/plain": [
       "<Figure size 1584x1152 with 8 Axes>"
      ]
     },
     "metadata": {
      "needs_background": "light"
     }
    }
   ],
   "metadata": {}
  },
  {
   "cell_type": "code",
   "execution_count": 11,
   "source": [
    "# count how many people are with no sympthoms at all and test_indication = other\n",
    "asympthomatic_exm = false_neg_pred.loc[(false_neg_pred['cough']==0) \n",
    "                                      & (false_neg_pred['fever']==0)\n",
    "                                      & (false_neg_pred['sore_throat']==0)\n",
    "                                      & (false_neg_pred['shortness_of_breath']==0)\n",
    "                                      & (false_neg_pred['head_ache']==0)\n",
    "                                      & (false_neg_pred['test_indication']==0)\n",
    "                                      ]\n",
    "\n",
    "asympthomatic_exm.head()\n",
    "len(asympthomatic_exm)\n",
    "\n",
    "print(f\"The percentage of the false negative without sympthoms and test indication is other is: {100*len(asympthomatic_exm)/len(false_neg_pred)}\")"
   ],
   "outputs": [
    {
     "output_type": "stream",
     "name": "stdout",
     "text": [
      "The percentage of the false negative without sympthoms and test indication is other is: 94.73684210526316\n"
     ]
    }
   ],
   "metadata": {}
  },
  {
   "cell_type": "markdown",
   "source": [
    "* It seems that most of the false negative are people without sympthoms. its makes sense that the model will infere that people with no sympthoms are not sick.\n",
    "* The problem with corona that many people who are sick have no sympthoms at all and I think that in this area AI models are prone to fail.\n",
    "* Also most oh the false negative made the test at the end of the corona wave so it decreases the chance to be sick"
   ],
   "metadata": {}
  },
  {
   "cell_type": "markdown",
   "source": [
    "## False positive examples:"
   ],
   "metadata": {}
  },
  {
   "cell_type": "code",
   "execution_count": 10,
   "source": [
    "X_test_no_dummies = dataset.iloc[y_test.index] # so we will have the not encoded test indication feature\n",
    "\n",
    "y_test_aux = y_test.reset_index()\n",
    "X_test_aux = X_test_no_dummies.reset_index()\n",
    "\n",
    "positive_indexes = xgb_post_val_pred == 1\n",
    "positive_pred_exm = y_test_aux.iloc[positive_indexes]\n",
    "\n",
    "positive_pred_exm.drop(columns=['index'],inplace=True)\n",
    "false_positive_pred = X_test_no_dummies.iloc[positive_pred_exm[positive_pred_exm['corona_result']==0].index]"
   ],
   "outputs": [
    {
     "output_type": "stream",
     "name": "stderr",
     "text": [
      "/home/nirlalum/.local/lib/python3.8/site-packages/pandas/core/frame.py:4906: SettingWithCopyWarning: \n",
      "A value is trying to be set on a copy of a slice from a DataFrame\n",
      "\n",
      "See the caveats in the documentation: https://pandas.pydata.org/pandas-docs/stable/user_guide/indexing.html#returning-a-view-versus-a-copy\n",
      "  return super().drop(\n"
     ]
    }
   ],
   "metadata": {}
  },
  {
   "cell_type": "code",
   "execution_count": 11,
   "source": [
    "len(false_positive_pred)"
   ],
   "outputs": [
    {
     "output_type": "execute_result",
     "data": {
      "text/plain": [
       "6649"
      ]
     },
     "metadata": {},
     "execution_count": 11
    }
   ],
   "metadata": {}
  },
  {
   "cell_type": "code",
   "execution_count": 12,
   "source": [
    "hel.plot_dataset(false_positive_pred[false_positive_pred.columns[1:8]], sns.countplot, 'countplot')"
   ],
   "outputs": [
    {
     "output_type": "stream",
     "name": "stderr",
     "text": [
      "100%|██████████| 7/7 [00:00<00:00, 48.96it/s]\n"
     ]
    },
    {
     "output_type": "display_data",
     "data": {
      "image/png": "[encoded data removed]",
      "text/plain": [
       "<Figure size 1584x1152 with 8 Axes>"
      ]
     },
     "metadata": {
      "needs_background": "light"
     }
    }
   ],
   "metadata": {}
  },
  {
   "cell_type": "code",
   "execution_count": 13,
   "source": [
    "cough_fever_gr = false_positive_pred.groupby(['cough', 'fever'])\n",
    "sub_group = cough_fever_gr.get_group((1,0))\n",
    "len(sub_group)\n"
   ],
   "outputs": [
    {
     "output_type": "execute_result",
     "data": {
      "text/plain": [
       "3596"
      ]
     },
     "metadata": {},
     "execution_count": 13
    }
   ],
   "metadata": {}
  },
  {
   "cell_type": "markdown",
   "source": [
    "## To do: \n",
    "\n",
    "## 1. It would be intresting to check the distribution of Pr('positive'|number of sympthoms) because here it seems that the model gave to much weight to people with cough (even to people who has only cough). The examine will be implemented in covid_data_pre_proccessing.ipynb. -> did not omprove preformance\n",
    "\n",
    "## 2. Finding an optimal threshold (it will be harder to predict positive so the false positive will be reduced) -> didnt work well\n",
    "\n",
    "## 3. Remove from the training set samples of people with no sympthoms at all (maybe they act as noise to the model)"
   ],
   "metadata": {}
  },
  {
   "cell_type": "markdown",
   "source": [
    "## Try with new feature: number of sympthoms:\n"
   ],
   "metadata": {}
  },
  {
   "cell_type": "code",
   "execution_count": 114,
   "source": [
    "dataset2 = pd.read_pickle('data_for_tree2.pkl')\n",
    "X_train_raw, y_train_raw, X_test, y_test = mh.data_split(dataset2 ,n_splits=1, test_size=0.4, train_size=0.6)\n",
    "X_train, y_train = mh.up_down_sampling(X_train_raw, y_train_raw, ratio=1, up=True)\n",
    "\n",
    "data_test = pd.concat([X_test, y_test], axis=1)\n",
    "X_test, y_test, X_val, y_val = mh.data_split(data_test , n_splits=1, test_size=0.5, train_size=0.5)"
   ],
   "outputs": [],
   "metadata": {}
  },
  {
   "cell_type": "code",
   "execution_count": 115,
   "source": [
    "xgb_new_feature = xgb.XGBClassifier(objective='binary:logistic', learning_rate=0.3, max_depth=6, reg_lambda=0, gamma=2.0, scale_pos_weight=3)\n",
    "xgb_new_feature.fit(X_train, y_train,verbose=False, early_stopping_rounds=10, eval_metric='aucpr', eval_set=[(X_val, y_val)])\n",
    "xgb_new_feature_pred = xgb_new_feature.predict(X_test)\n",
    "\n",
    "mh.model_evaluation(y_test, xgb_new_feature_pred)"
   ],
   "outputs": [
    {
     "output_type": "stream",
     "name": "stderr",
     "text": [
      "/home/nirlalum/.local/lib/python3.8/site-packages/xgboost/sklearn.py:1224: UserWarning: The use of label encoder in XGBClassifier is deprecated and will be removed in a future release. To remove this warning, do the following: 1) Pass option use_label_encoder=False when constructing XGBClassifier object; and 2) Encode your labels (y) as integers starting with 0, i.e. 0, 1, 2, ..., [num_class - 1].\n",
      "  warnings.warn(label_encoder_deprecation_msg, UserWarning)\n"
     ]
    },
    {
     "output_type": "stream",
     "name": "stdout",
     "text": [
      "+--------------+---------------------+\n",
      "|    Metric    |        Score        |\n",
      "+--------------+---------------------+\n",
      "|   accuracy   |  0.8725882781215872 |\n",
      "|    recall    |  0.8431439265056142 |\n",
      "|  presicion   |  0.2748142397693246 |\n",
      "|   f1 score   | 0.41451990632318503 |\n",
      "| f_beta score |  0.5964473114138544 |\n",
      "+--------------+---------------------+\n"
     ]
    },
    {
     "output_type": "display_data",
     "data": {
      "image/png": "[encoded data removed]",
      "text/plain": [
       "<Figure size 576x576 with 2 Axes>"
      ]
     },
     "metadata": {
      "needs_background": "light"
     }
    }
   ],
   "metadata": {}
  },
  {
   "cell_type": "markdown",
   "source": [
    "## Remove samples of sick people with no sympthoms from the training set:"
   ],
   "metadata": {}
  },
  {
   "cell_type": "code",
   "execution_count": 137,
   "source": [
    "dataset2 = pd.read_pickle('data_for_tree2.pkl')\n",
    "X_train, y_train, X_test, y_test = mh.data_split(dataset2 ,n_splits=1, test_size=0.4, train_size=0.6)\n",
    "#X_train, y_train = mh.up_down_sampling(X_train_raw, y_train_raw, ratio=1, up=True)\n",
    "\n",
    "data_test = pd.concat([X_test, y_test], axis=1)\n",
    "X_test, y_test, X_val, y_val = mh.data_split(data_test , n_splits=1, test_size=0.5, train_size=0.5)\n",
    "\n"
   ],
   "outputs": [],
   "metadata": {}
  },
  {
   "cell_type": "code",
   "execution_count": 138,
   "source": [
    "asympthomatic_samples = X_train.loc[(X_train['cough']==0) \n",
    "                                      & (X_train['fever']==0)\n",
    "                                      & (X_train['sore_throat']==0)\n",
    "                                      & (X_train['shortness_of_breath']==0)\n",
    "                                      & (X_train['head_ache']==0)\n",
    "                                      & (X_train['test_indication_0']!=0)\n",
    "                                      & (y_train==1)\n",
    "                                      ]\n",
    "\n"
   ],
   "outputs": [],
   "metadata": {}
  },
  {
   "cell_type": "code",
   "execution_count": 139,
   "source": [
    "len(asympthomatic_samples)"
   ],
   "outputs": [
    {
     "output_type": "execute_result",
     "data": {
      "text/plain": [
       "1348"
      ]
     },
     "metadata": {},
     "execution_count": 139
    }
   ],
   "metadata": {}
  },
  {
   "cell_type": "code",
   "execution_count": 140,
   "source": [
    "y_train = dataset2.iloc[X_train.index]['corona_result']"
   ],
   "outputs": [],
   "metadata": {}
  },
  {
   "cell_type": "code",
   "execution_count": 142,
   "source": [
    "X_train, y_train = mh.up_down_sampling(X_train, y_train, ratio=1, up=True)\n",
    "\n",
    "xgb_new_feature = xgb.XGBClassifier(objective='binary:logistic', learning_rate=0.3, max_depth=6, reg_lambda=0, gamma=2.0, scale_pos_weight=3)\n",
    "xgb_new_feature.fit(X_train, y_train,verbose=False, early_stopping_rounds=10, eval_metric='aucpr', eval_set=[(X_val, y_val)])\n",
    "xgb_new_feature_pred = xgb_new_feature.predict(X_test)\n",
    "\n",
    "mh.model_evaluation(y_test, xgb_new_feature_pred)"
   ],
   "outputs": [
    {
     "output_type": "stream",
     "name": "stderr",
     "text": [
      "/home/nirlalum/.local/lib/python3.8/site-packages/xgboost/sklearn.py:1224: UserWarning: The use of label encoder in XGBClassifier is deprecated and will be removed in a future release. To remove this warning, do the following: 1) Pass option use_label_encoder=False when constructing XGBClassifier object; and 2) Encode your labels (y) as integers starting with 0, i.e. 0, 1, 2, ..., [num_class - 1].\n",
      "  warnings.warn(label_encoder_deprecation_msg, UserWarning)\n"
     ]
    },
    {
     "output_type": "stream",
     "name": "stdout",
     "text": [
      "+--------------+---------------------+\n",
      "|    Metric    |        Score        |\n",
      "+--------------+---------------------+\n",
      "|   accuracy   |  0.8675282125955588 |\n",
      "|    recall    |  0.8376998979244641 |\n",
      "|  presicion   | 0.26578862139695564 |\n",
      "|   f1 score   |  0.4035404032125881 |\n",
      "| f_beta score |  0.5856605927969932 |\n",
      "+--------------+---------------------+\n"
     ]
    },
    {
     "output_type": "display_data",
     "data": {
      "image/png": "[encoded data removed]",
      "text/plain": [
       "<Figure size 576x576 with 2 Axes>"
      ]
     },
     "metadata": {
      "needs_background": "light"
     }
    }
   ],
   "metadata": {}
  },
  {
   "cell_type": "markdown",
   "source": [
    "## Didnt help much"
   ],
   "metadata": {}
  },
  {
   "cell_type": "markdown",
   "source": [
    "## Trying new feature: number of positives at test day:"
   ],
   "metadata": {}
  },
  {
   "cell_type": "code",
   "execution_count": 159,
   "source": [
    "dataset3 = pd.read_pickle('data_for_tree3.pkl')\n",
    "X_train_raw, y_train_raw, X_test, y_test = mh.data_split(dataset3 ,n_splits=1, test_size=0.4, train_size=0.6)\n",
    "X_train, y_train = mh.up_down_sampling(X_train_raw, y_train_raw, ratio=1, up=True)\n",
    "\n",
    "data_test = pd.concat([X_test, y_test], axis=1)\n",
    "X_test, y_test, X_val, y_val = mh.data_split(data_test , n_splits=1, test_size=0.5, train_size=0.5)"
   ],
   "outputs": [],
   "metadata": {}
  },
  {
   "cell_type": "code",
   "execution_count": 161,
   "source": [
    "xgb_new_feature = xgb.XGBClassifier(objective='binary:logistic', learning_rate=0.3, max_depth=6, reg_lambda=0, gamma=2.0, scale_pos_weight=3)\n",
    "xgb_new_feature.fit(X_train, y_train,verbose=False, early_stopping_rounds=10, eval_metric='aucpr', eval_set=[(X_val, y_val)])\n",
    "xgb_new_feature_pred = xgb_new_feature.predict(X_test)\n",
    "\n",
    "mh.model_evaluation(y_test, xgb_new_feature_pred)"
   ],
   "outputs": [
    {
     "output_type": "stream",
     "name": "stderr",
     "text": [
      "/home/nirlalum/.local/lib/python3.8/site-packages/xgboost/sklearn.py:1224: UserWarning: The use of label encoder in XGBClassifier is deprecated and will be removed in a future release. To remove this warning, do the following: 1) Pass option use_label_encoder=False when constructing XGBClassifier object; and 2) Encode your labels (y) as integers starting with 0, i.e. 0, 1, 2, ..., [num_class - 1].\n",
      "  warnings.warn(label_encoder_deprecation_msg, UserWarning)\n"
     ]
    },
    {
     "output_type": "stream",
     "name": "stdout",
     "text": [
      "+--------------+---------------------+\n",
      "|    Metric    |        Score        |\n",
      "+--------------+---------------------+\n",
      "|   accuracy   |  0.7938660356752821 |\n",
      "|    recall    |  0.8652602926165363 |\n",
      "|  presicion   | 0.18876187648456058 |\n",
      "|   f1 score   | 0.30991408201815857 |\n",
      "| f_beta score |  0.5040034881877279 |\n",
      "+--------------+---------------------+\n"
     ]
    },
    {
     "output_type": "display_data",
     "data": {
      "image/png": "[encoded data removed]",
      "text/plain": [
       "<Figure size 576x576 with 2 Axes>"
      ]
     },
     "metadata": {
      "needs_background": "light"
     }
    }
   ],
   "metadata": {}
  },
  {
   "cell_type": "markdown",
   "source": [
    "## Improved recall but reduced precision"
   ],
   "metadata": {}
  }
 ],
 "metadata": {
  "orig_nbformat": 4,
  "language_info": {
   "name": "python",
   "version": "3.8.10",
   "mimetype": "text/x-python",
   "codemirror_mode": {
    "name": "ipython",
    "version": 3
   },
   "pygments_lexer": "ipython3",
   "nbconvert_exporter": "python",
   "file_extension": ".py"
  },
  "kernelspec": {
   "name": "python3",
   "display_name": "Python 3.8.10 64-bit"
  },
  "interpreter": {
   "hash": "916dbcbb3f70747c44a77c7bcd40155683ae19c65e1c03b4aa3499c5328201f1"
  }
 },
 "nbformat": 4,
 "nbformat_minor": 2
}