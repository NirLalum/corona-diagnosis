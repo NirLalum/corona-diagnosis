{
 "cells": [
  {
   "cell_type": "code",
   "execution_count": 73,
   "source": [
    "# ====== Packages =======\n",
    "import numpy as np\n",
    "import pandas as pd\n",
    "import matplotlib.pyplot as plt\n",
    "import seaborn as sns\n",
    "import sklearn as sk\n",
    "from prettytable import PrettyTable\n",
    "from tqdm import tqdm\n",
    "\n",
    "\n",
    "# ---- data manipulators ----\n",
    "from sklearn.model_selection import StratifiedShuffleSplit\n",
    "from sklearn.utils import resample\n",
    "\n",
    "# ---- algorithms ----\n",
    "import xgboost as xgb\n",
    "from sklearn.model_selection import GridSearchCV\n",
    "\n",
    "# ---- evaluation ------\n",
    "from sklearn.metrics import accuracy_score, f1_score, recall_score, precision_score, RocCurveDisplay, roc_curve, precision_recall_curve\n",
    "\n",
    "# ---- user defined modules ----\n",
    "import pre_proccessing_helpers as hel\n",
    "import models_helpers as mh\n",
    "\n",
    "\n",
    "# This line makes matplotlib plot the figures inside the norebook\n",
    "%matplotlib inline\n",
    "\n",
    "plt.rcParams['figure.figsize'] = (8.0, 8.0)\n",
    "plt.rcParams['axes.grid'] = True\n",
    "plt.rcParams['font.size'] = 10"
   ],
   "outputs": [],
   "metadata": {}
  },
  {
   "cell_type": "markdown",
   "source": [
    "## Load the dataset and one_hot_encode the test_indication column (we dont want the algorhithem to \"think\" that 2 is more related to 1 than 0)"
   ],
   "metadata": {}
  },
  {
   "cell_type": "code",
   "execution_count": 86,
   "source": [
    "dataset = pd.read_pickle('data_for_tree.pkl')\n",
    "dataset = dataset.reset_index()\n",
    "dataset_hot_encoded = pd.get_dummies(dataset, columns=['test_indication'])\n",
    "columns_names = [column for column in dataset_hot_encoded.columns]\n",
    "columns_names.remove('corona_result')\n",
    "columns_names.append('corona_result')\n",
    "\n",
    "dataset_hot_encoded = dataset_hot_encoded.reindex(columns=columns_names)\n",
    "dataset_hot_encoded.drop(columns='index', inplace=True)\n"
   ],
   "outputs": [],
   "metadata": {}
  },
  {
   "cell_type": "code",
   "execution_count": 87,
   "source": [
    "dataset_hot_encoded"
   ],
   "outputs": [
    {
     "output_type": "execute_result",
     "data": {
      "text/html": [
       "<div>\n",
       "<style scoped>\n",
       "    .dataframe tbody tr th:only-of-type {\n",
       "        vertical-align: middle;\n",
       "    }\n",
       "\n",
       "    .dataframe tbody tr th {\n",
       "        vertical-align: top;\n",
       "    }\n",
       "\n",
       "    .dataframe thead th {\n",
       "        text-align: right;\n",
       "    }\n",
       "</style>\n",
       "<table border=\"1\" class=\"dataframe\">\n",
       "  <thead>\n",
       "    <tr style=\"text-align: right;\">\n",
       "      <th></th>\n",
       "      <th>test_week</th>\n",
       "      <th>cough</th>\n",
       "      <th>fever</th>\n",
       "      <th>sore_throat</th>\n",
       "      <th>shortness_of_breath</th>\n",
       "      <th>head_ache</th>\n",
       "      <th>test_indication_0</th>\n",
       "      <th>test_indication_1</th>\n",
       "      <th>test_indication_2</th>\n",
       "      <th>corona_result</th>\n",
       "    </tr>\n",
       "  </thead>\n",
       "  <tbody>\n",
       "    <tr>\n",
       "      <th>0</th>\n",
       "      <td>18</td>\n",
       "      <td>0</td>\n",
       "      <td>0</td>\n",
       "      <td>0</td>\n",
       "      <td>0</td>\n",
       "      <td>0</td>\n",
       "      <td>1</td>\n",
       "      <td>0</td>\n",
       "      <td>0</td>\n",
       "      <td>0</td>\n",
       "    </tr>\n",
       "    <tr>\n",
       "      <th>1</th>\n",
       "      <td>18</td>\n",
       "      <td>1</td>\n",
       "      <td>0</td>\n",
       "      <td>0</td>\n",
       "      <td>0</td>\n",
       "      <td>0</td>\n",
       "      <td>1</td>\n",
       "      <td>0</td>\n",
       "      <td>0</td>\n",
       "      <td>0</td>\n",
       "    </tr>\n",
       "    <tr>\n",
       "      <th>2</th>\n",
       "      <td>18</td>\n",
       "      <td>0</td>\n",
       "      <td>1</td>\n",
       "      <td>0</td>\n",
       "      <td>0</td>\n",
       "      <td>0</td>\n",
       "      <td>1</td>\n",
       "      <td>0</td>\n",
       "      <td>0</td>\n",
       "      <td>0</td>\n",
       "    </tr>\n",
       "    <tr>\n",
       "      <th>3</th>\n",
       "      <td>18</td>\n",
       "      <td>1</td>\n",
       "      <td>0</td>\n",
       "      <td>0</td>\n",
       "      <td>0</td>\n",
       "      <td>0</td>\n",
       "      <td>1</td>\n",
       "      <td>0</td>\n",
       "      <td>0</td>\n",
       "      <td>0</td>\n",
       "    </tr>\n",
       "    <tr>\n",
       "      <th>4</th>\n",
       "      <td>18</td>\n",
       "      <td>1</td>\n",
       "      <td>0</td>\n",
       "      <td>0</td>\n",
       "      <td>0</td>\n",
       "      <td>0</td>\n",
       "      <td>1</td>\n",
       "      <td>0</td>\n",
       "      <td>0</td>\n",
       "      <td>0</td>\n",
       "    </tr>\n",
       "    <tr>\n",
       "      <th>...</th>\n",
       "      <td>...</td>\n",
       "      <td>...</td>\n",
       "      <td>...</td>\n",
       "      <td>...</td>\n",
       "      <td>...</td>\n",
       "      <td>...</td>\n",
       "      <td>...</td>\n",
       "      <td>...</td>\n",
       "      <td>...</td>\n",
       "      <td>...</td>\n",
       "    </tr>\n",
       "    <tr>\n",
       "      <th>274697</th>\n",
       "      <td>11</td>\n",
       "      <td>0</td>\n",
       "      <td>0</td>\n",
       "      <td>0</td>\n",
       "      <td>0</td>\n",
       "      <td>0</td>\n",
       "      <td>1</td>\n",
       "      <td>0</td>\n",
       "      <td>0</td>\n",
       "      <td>0</td>\n",
       "    </tr>\n",
       "    <tr>\n",
       "      <th>274698</th>\n",
       "      <td>11</td>\n",
       "      <td>0</td>\n",
       "      <td>0</td>\n",
       "      <td>0</td>\n",
       "      <td>0</td>\n",
       "      <td>0</td>\n",
       "      <td>1</td>\n",
       "      <td>0</td>\n",
       "      <td>0</td>\n",
       "      <td>0</td>\n",
       "    </tr>\n",
       "    <tr>\n",
       "      <th>274699</th>\n",
       "      <td>11</td>\n",
       "      <td>0</td>\n",
       "      <td>0</td>\n",
       "      <td>0</td>\n",
       "      <td>0</td>\n",
       "      <td>0</td>\n",
       "      <td>1</td>\n",
       "      <td>0</td>\n",
       "      <td>0</td>\n",
       "      <td>0</td>\n",
       "    </tr>\n",
       "    <tr>\n",
       "      <th>274700</th>\n",
       "      <td>11</td>\n",
       "      <td>0</td>\n",
       "      <td>0</td>\n",
       "      <td>0</td>\n",
       "      <td>0</td>\n",
       "      <td>0</td>\n",
       "      <td>0</td>\n",
       "      <td>1</td>\n",
       "      <td>0</td>\n",
       "      <td>1</td>\n",
       "    </tr>\n",
       "    <tr>\n",
       "      <th>274701</th>\n",
       "      <td>11</td>\n",
       "      <td>0</td>\n",
       "      <td>0</td>\n",
       "      <td>0</td>\n",
       "      <td>0</td>\n",
       "      <td>0</td>\n",
       "      <td>1</td>\n",
       "      <td>0</td>\n",
       "      <td>0</td>\n",
       "      <td>0</td>\n",
       "    </tr>\n",
       "  </tbody>\n",
       "</table>\n",
       "<p>274702 rows × 10 columns</p>\n",
       "</div>"
      ],
      "text/plain": [
       "        test_week  cough  fever  sore_throat  shortness_of_breath  head_ache  \\\n",
       "0              18      0      0            0                    0          0   \n",
       "1              18      1      0            0                    0          0   \n",
       "2              18      0      1            0                    0          0   \n",
       "3              18      1      0            0                    0          0   \n",
       "4              18      1      0            0                    0          0   \n",
       "...           ...    ...    ...          ...                  ...        ...   \n",
       "274697         11      0      0            0                    0          0   \n",
       "274698         11      0      0            0                    0          0   \n",
       "274699         11      0      0            0                    0          0   \n",
       "274700         11      0      0            0                    0          0   \n",
       "274701         11      0      0            0                    0          0   \n",
       "\n",
       "        test_indication_0  test_indication_1  test_indication_2  corona_result  \n",
       "0                       1                  0                  0              0  \n",
       "1                       1                  0                  0              0  \n",
       "2                       1                  0                  0              0  \n",
       "3                       1                  0                  0              0  \n",
       "4                       1                  0                  0              0  \n",
       "...                   ...                ...                ...            ...  \n",
       "274697                  1                  0                  0              0  \n",
       "274698                  1                  0                  0              0  \n",
       "274699                  1                  0                  0              0  \n",
       "274700                  0                  1                  0              1  \n",
       "274701                  1                  0                  0              0  \n",
       "\n",
       "[274702 rows x 10 columns]"
      ]
     },
     "metadata": {},
     "execution_count": 87
    }
   ],
   "metadata": {}
  },
  {
   "cell_type": "markdown",
   "source": [
    "## Split the Data:\n",
    "* Split the data to test,train and validation sets\n",
    "* up/down sample the train data\n"
   ],
   "metadata": {}
  },
  {
   "cell_type": "code",
   "execution_count": 88,
   "source": [
    "X_train_raw, y_train_raw, X_test, y_test = mh.data_split(dataset_hot_encoded ,n_splits=1, test_size=0.4, train_size=0.6)\n",
    "X_train, y_train = mh.up_down_sampling(X_train_raw, y_train_raw, ratio=1, up=True)\n",
    "\n",
    "data_test = pd.concat([X_test, y_test], axis=1)\n",
    "X_test, y_test, X_val, y_val = mh.data_split(data_test , n_splits=1, test_size=0.5, train_size=0.5)\n"
   ],
   "outputs": [],
   "metadata": {}
  },
  {
   "cell_type": "code",
   "execution_count": 89,
   "source": [
    "y_train.value_counts()"
   ],
   "outputs": [
    {
     "output_type": "execute_result",
     "data": {
      "text/plain": [
       "0    156005\n",
       "1    156005\n",
       "Name: corona_result, dtype: int64"
      ]
     },
     "metadata": {},
     "execution_count": 89
    }
   ],
   "metadata": {}
  },
  {
   "cell_type": "markdown",
   "source": [
    "## Xgboost Classifier:"
   ],
   "metadata": {}
  },
  {
   "cell_type": "code",
   "execution_count": 90,
   "source": [
    "clf_xgb = xgb.XGBClassifier(objective='binary:logistic', eta=0.1, max_depth=6, reg_lambda=100)\n",
    "clf_xgb.fit(X_train, y_train,verbose=True, early_stopping_rounds=10, eval_metric='aucpr', eval_set=[(X_val, y_val)])\n",
    "xgb_pred = clf_xgb.predict(X_test)\n",
    "\n",
    "mh.model_evaluation(y_test, xgb_pred)"
   ],
   "outputs": [
    {
     "output_type": "stream",
     "name": "stderr",
     "text": [
      "/home/nirlalum/.local/lib/python3.8/site-packages/xgboost/sklearn.py:1224: UserWarning: The use of label encoder in XGBClassifier is deprecated and will be removed in a future release. To remove this warning, do the following: 1) Pass option use_label_encoder=False when constructing XGBClassifier object; and 2) Encode your labels (y) as integers starting with 0, i.e. 0, 1, 2, ..., [num_class - 1].\n",
      "  warnings.warn(label_encoder_deprecation_msg, UserWarning)\n"
     ]
    },
    {
     "output_type": "stream",
     "name": "stdout",
     "text": [
      "[0]\tvalidation_0-aucpr:0.56051\n",
      "[1]\tvalidation_0-aucpr:0.56617\n",
      "[2]\tvalidation_0-aucpr:0.56669\n",
      "[3]\tvalidation_0-aucpr:0.56760\n",
      "[4]\tvalidation_0-aucpr:0.57900\n",
      "[5]\tvalidation_0-aucpr:0.57958\n",
      "[6]\tvalidation_0-aucpr:0.58057\n",
      "[7]\tvalidation_0-aucpr:0.58174\n",
      "[8]\tvalidation_0-aucpr:0.58308\n",
      "[9]\tvalidation_0-aucpr:0.58407\n",
      "[10]\tvalidation_0-aucpr:0.58501\n",
      "[11]\tvalidation_0-aucpr:0.58554\n",
      "[12]\tvalidation_0-aucpr:0.58654\n",
      "[13]\tvalidation_0-aucpr:0.58755\n",
      "[14]\tvalidation_0-aucpr:0.58793\n",
      "[15]\tvalidation_0-aucpr:0.61595\n",
      "[16]\tvalidation_0-aucpr:0.61610\n",
      "[17]\tvalidation_0-aucpr:0.61646\n",
      "[18]\tvalidation_0-aucpr:0.65136\n",
      "[19]\tvalidation_0-aucpr:0.65285\n",
      "[20]\tvalidation_0-aucpr:0.65438\n",
      "[21]\tvalidation_0-aucpr:0.65557\n",
      "[22]\tvalidation_0-aucpr:0.65841\n",
      "[23]\tvalidation_0-aucpr:0.65903\n",
      "[24]\tvalidation_0-aucpr:0.66229\n",
      "[25]\tvalidation_0-aucpr:0.66253\n",
      "[26]\tvalidation_0-aucpr:0.66495\n",
      "[27]\tvalidation_0-aucpr:0.66537\n",
      "[28]\tvalidation_0-aucpr:0.67361\n",
      "[29]\tvalidation_0-aucpr:0.68182\n",
      "[30]\tvalidation_0-aucpr:0.68288\n",
      "[31]\tvalidation_0-aucpr:0.68348\n",
      "[32]\tvalidation_0-aucpr:0.68525\n",
      "[33]\tvalidation_0-aucpr:0.68648\n",
      "[34]\tvalidation_0-aucpr:0.68823\n",
      "[35]\tvalidation_0-aucpr:0.68847\n",
      "[36]\tvalidation_0-aucpr:0.68887\n",
      "[37]\tvalidation_0-aucpr:0.68987\n",
      "[38]\tvalidation_0-aucpr:0.69078\n",
      "[39]\tvalidation_0-aucpr:0.69187\n",
      "[40]\tvalidation_0-aucpr:0.69628\n",
      "[41]\tvalidation_0-aucpr:0.69657\n",
      "[42]\tvalidation_0-aucpr:0.69737\n",
      "[43]\tvalidation_0-aucpr:0.69835\n",
      "[44]\tvalidation_0-aucpr:0.69892\n",
      "[45]\tvalidation_0-aucpr:0.70065\n",
      "[46]\tvalidation_0-aucpr:0.70206\n",
      "[47]\tvalidation_0-aucpr:0.70261\n",
      "[48]\tvalidation_0-aucpr:0.70288\n",
      "[49]\tvalidation_0-aucpr:0.70350\n",
      "[50]\tvalidation_0-aucpr:0.70410\n",
      "[51]\tvalidation_0-aucpr:0.70441\n",
      "[52]\tvalidation_0-aucpr:0.70480\n",
      "[53]\tvalidation_0-aucpr:0.70468\n",
      "[54]\tvalidation_0-aucpr:0.70518\n",
      "[55]\tvalidation_0-aucpr:0.70535\n",
      "[56]\tvalidation_0-aucpr:0.70557\n",
      "[57]\tvalidation_0-aucpr:0.70548\n",
      "[58]\tvalidation_0-aucpr:0.70575\n",
      "[59]\tvalidation_0-aucpr:0.70588\n",
      "[60]\tvalidation_0-aucpr:0.70587\n",
      "[61]\tvalidation_0-aucpr:0.70598\n",
      "[62]\tvalidation_0-aucpr:0.70596\n",
      "[63]\tvalidation_0-aucpr:0.70629\n",
      "[64]\tvalidation_0-aucpr:0.70672\n",
      "[65]\tvalidation_0-aucpr:0.70672\n",
      "[66]\tvalidation_0-aucpr:0.70674\n",
      "[67]\tvalidation_0-aucpr:0.70703\n",
      "[68]\tvalidation_0-aucpr:0.70709\n",
      "[69]\tvalidation_0-aucpr:0.70703\n",
      "[70]\tvalidation_0-aucpr:0.70735\n",
      "[71]\tvalidation_0-aucpr:0.70743\n",
      "[72]\tvalidation_0-aucpr:0.70779\n",
      "[73]\tvalidation_0-aucpr:0.70787\n",
      "[74]\tvalidation_0-aucpr:0.70797\n",
      "[75]\tvalidation_0-aucpr:0.70879\n",
      "[76]\tvalidation_0-aucpr:0.70895\n",
      "[77]\tvalidation_0-aucpr:0.70900\n",
      "[78]\tvalidation_0-aucpr:0.70917\n",
      "[79]\tvalidation_0-aucpr:0.70959\n",
      "[80]\tvalidation_0-aucpr:0.70960\n",
      "[81]\tvalidation_0-aucpr:0.70967\n",
      "[82]\tvalidation_0-aucpr:0.70970\n",
      "[83]\tvalidation_0-aucpr:0.70963\n",
      "[84]\tvalidation_0-aucpr:0.70949\n",
      "[85]\tvalidation_0-aucpr:0.70946\n",
      "[86]\tvalidation_0-aucpr:0.70952\n",
      "[87]\tvalidation_0-aucpr:0.70951\n",
      "[88]\tvalidation_0-aucpr:0.70981\n",
      "[89]\tvalidation_0-aucpr:0.70992\n",
      "[90]\tvalidation_0-aucpr:0.71000\n",
      "[91]\tvalidation_0-aucpr:0.71010\n",
      "[92]\tvalidation_0-aucpr:0.71034\n",
      "[93]\tvalidation_0-aucpr:0.71062\n",
      "[94]\tvalidation_0-aucpr:0.71089\n",
      "[95]\tvalidation_0-aucpr:0.71068\n",
      "[96]\tvalidation_0-aucpr:0.71088\n",
      "[97]\tvalidation_0-aucpr:0.71085\n",
      "[98]\tvalidation_0-aucpr:0.71105\n",
      "[99]\tvalidation_0-aucpr:0.71110\n",
      "+-----------+---------------------+\n",
      "|   Metric  |        Score        |\n",
      "+-----------+---------------------+\n",
      "|  accuracy |  0.9273025118310885 |\n",
      "|   recall  |  0.7784960871044573 |\n",
      "|  f1 score |  0.5339556592765461 |\n",
      "| presicion | 0.40632214526727045 |\n",
      "+-----------+---------------------+\n"
     ]
    },
    {
     "output_type": "display_data",
     "data": {
      "image/png": "[encoded data removed]",
      "text/plain": [
       "<Figure size 576x576 with 2 Axes>"
      ]
     },
     "metadata": {
      "needs_background": "light"
     }
    }
   ],
   "metadata": {}
  },
  {
   "cell_type": "markdown",
   "source": [
    "## Hyperparameters optimization with GridSearchCV:\n",
    "* Note: we wiil do 2 rounds of optimization to speed up the search."
   ],
   "metadata": {}
  },
  {
   "cell_type": "code",
   "execution_count": 5,
   "source": [
    "\n",
    "# Round1:\n",
    "params1 = {\n",
    "           'max_depth': [3, 4, 5],\n",
    "           'learning_rate': [0.1, 0.01, 0.05],\n",
    "           'gamma': [0, 0.25, 1.0],\n",
    "           'reg_lambda': [0, 1.0, 10.0],\n",
    "           'scale_pos_weight': [1, 3, 5]\n",
    "         }\n",
    "\n",
    "\n",
    "#Round2:\n",
    "params2 = {\n",
    "           'max_depth': [5, 6, 7],\n",
    "           'learning_rate': [0.1, 0.2, 0.3],\n",
    "           'gamma': [1.0, 2.0, 3.0]\n",
    "         }\n",
    "\n",
    "optimal_params = GridSearchCV(estimator=xgb.XGBClassifier(objective='binary:logistic',subsample=0.9, use_label_encoder=False),\n",
    "                              param_grid=params2,\n",
    "                              scoring='roc_auc',\n",
    "                              verbose=10,\n",
    "                              n_jobs=10,\n",
    "                              cv=3\n",
    "                             )\n"
   ],
   "outputs": [],
   "metadata": {}
  },
  {
   "cell_type": "markdown",
   "source": [
    "## GridSearchCV results:\n",
    "* round 1: gamma=1, learning_rate=0.1, max_depth=5, reg_lambda=0, scale_pos_weight=3 (max_score=0.91)\n",
    "* round 2: gamma=2, learning_rate=0.3, max_depth=6, reg_lambda=0, scale_pos_weight=3 (max_score=0.959)"
   ],
   "metadata": {}
  },
  {
   "cell_type": "code",
   "execution_count": 6,
   "source": [
    "#optimal_params.fit(X_train, y_train,verbose=0, early_stopping_rounds=10, eval_metric='aucpr', eval_set=[(X_val, y_val)])"
   ],
   "outputs": [
    {
     "output_type": "stream",
     "name": "stdout",
     "text": [
      "Fitting 3 folds for each of 27 candidates, totalling 81 fits\n",
      "[CV 1/3; 2/27] START gamma=1.0, learning_rate=0.1, max_depth=6..................\n",
      "[CV 3/3; 1/27] START gamma=1.0, learning_rate=0.1, max_depth=5..................\n",
      "[CV 2/3; 1/27] START gamma=1.0, learning_rate=0.1, max_depth=5..................\n",
      "[CV 1/3; 1/27] START gamma=1.0, learning_rate=0.1, max_depth=5..................\n",
      "[CV 2/3; 2/27] START gamma=1.0, learning_rate=0.1, max_depth=6..................\n",
      "[CV 1/3; 1/27] END gamma=1.0, learning_rate=0.1, max_depth=5;, score=0.929 total time= 2.3min\n",
      "[CV 3/3; 1/27] END gamma=1.0, learning_rate=0.1, max_depth=5;, score=0.931 total time= 2.4min\n",
      "[CV 2/3; 4/27] START gamma=1.0, learning_rate=0.2, max_depth=5..................\n",
      "[CV 3/3; 4/27] START gamma=1.0, learning_rate=0.2, max_depth=5..................\n",
      "[CV 2/3; 1/27] END gamma=1.0, learning_rate=0.1, max_depth=5;, score=0.928 total time= 2.4min\n",
      "[CV 1/3; 5/27] START gamma=1.0, learning_rate=0.2, max_depth=6..................\n",
      "[CV 3/3; 3/27] START gamma=1.0, learning_rate=0.1, max_depth=7..................\n",
      "[CV 2/3; 3/27] START gamma=1.0, learning_rate=0.1, max_depth=7..................\n",
      "[CV 1/3; 3/27] START gamma=1.0, learning_rate=0.1, max_depth=7..................\n",
      "[CV 3/3; 2/27] START gamma=1.0, learning_rate=0.1, max_depth=6..................\n",
      "[CV 1/3; 4/27] START gamma=1.0, learning_rate=0.2, max_depth=5..................\n",
      "[CV 1/3; 2/27] END gamma=1.0, learning_rate=0.1, max_depth=6;, score=0.935 total time= 3.0min\n",
      "[CV 2/3; 5/27] START gamma=1.0, learning_rate=0.2, max_depth=6..................\n",
      "[CV 2/3; 2/27] END gamma=1.0, learning_rate=0.1, max_depth=6;, score=0.934 total time= 3.2min\n",
      "[CV 3/3; 5/27] START gamma=1.0, learning_rate=0.2, max_depth=6..................\n",
      "[CV 2/3; 4/27] END gamma=1.0, learning_rate=0.2, max_depth=5;, score=0.938 total time= 3.6min\n",
      "[CV 1/3; 6/27] START gamma=1.0, learning_rate=0.2, max_depth=7..................\n",
      "[CV 1/3; 4/27] END gamma=1.0, learning_rate=0.2, max_depth=5;, score=0.943 total time= 3.6min\n",
      "[CV 2/3; 6/27] START gamma=1.0, learning_rate=0.2, max_depth=7..................\n",
      "[CV 3/3; 4/27] END gamma=1.0, learning_rate=0.2, max_depth=5;, score=0.941 total time= 3.7min\n",
      "[CV 3/3; 6/27] START gamma=1.0, learning_rate=0.2, max_depth=7..................\n",
      "[CV 2/3; 5/27] END gamma=1.0, learning_rate=0.2, max_depth=6;, score=0.941 total time= 3.5min\n",
      "[CV 1/3; 7/27] START gamma=1.0, learning_rate=0.3, max_depth=5..................\n",
      "[CV 1/3; 5/27] END gamma=1.0, learning_rate=0.2, max_depth=6;, score=0.953 total time= 4.3min\n",
      "[CV 2/3; 7/27] START gamma=1.0, learning_rate=0.3, max_depth=5..................\n",
      "[CV 3/3; 2/27] END gamma=1.0, learning_rate=0.1, max_depth=6;, score=0.937 total time= 4.3min\n",
      "[CV 3/3; 7/27] START gamma=1.0, learning_rate=0.3, max_depth=5..................\n",
      "[CV 1/3; 3/27] END gamma=1.0, learning_rate=0.1, max_depth=7;, score=0.941 total time= 5.0min\n",
      "[CV 1/3; 8/27] START gamma=1.0, learning_rate=0.3, max_depth=6..................\n",
      "[CV 3/3; 5/27] END gamma=1.0, learning_rate=0.2, max_depth=6;, score=0.952 total time= 4.3min\n",
      "[CV 2/3; 8/27] START gamma=1.0, learning_rate=0.3, max_depth=6..................\n",
      "[CV 3/3; 3/27] END gamma=1.0, learning_rate=0.1, max_depth=7;, score=0.943 total time= 5.2min\n",
      "[CV 3/3; 8/27] START gamma=1.0, learning_rate=0.3, max_depth=6..................\n",
      "[CV 2/3; 3/27] END gamma=1.0, learning_rate=0.1, max_depth=7;, score=0.940 total time= 5.2min\n",
      "[CV 1/3; 9/27] START gamma=1.0, learning_rate=0.3, max_depth=7..................\n",
      "[CV 1/3; 7/27] END gamma=1.0, learning_rate=0.3, max_depth=5;, score=0.946 total time= 3.3min\n",
      "[CV 2/3; 9/27] START gamma=1.0, learning_rate=0.3, max_depth=7..................\n",
      "[CV 3/3; 7/27] END gamma=1.0, learning_rate=0.3, max_depth=5;, score=0.945 total time= 3.2min\n",
      "[CV 3/3; 9/27] START gamma=1.0, learning_rate=0.3, max_depth=7..................\n",
      "[CV 2/3; 7/27] END gamma=1.0, learning_rate=0.3, max_depth=5;, score=0.948 total time= 3.8min\n",
      "[CV 1/3; 10/27] START gamma=2.0, learning_rate=0.1, max_depth=5.................\n",
      "[CV 1/3; 6/27] END gamma=1.0, learning_rate=0.2, max_depth=7;, score=0.953 total time= 4.5min\n",
      "[CV 2/3; 10/27] START gamma=2.0, learning_rate=0.1, max_depth=5.................\n",
      "[CV 2/3; 8/27] END gamma=1.0, learning_rate=0.3, max_depth=6;, score=0.949 total time= 3.4min\n",
      "[CV 3/3; 10/27] START gamma=2.0, learning_rate=0.1, max_depth=5.................\n",
      "[CV 3/3; 8/27] END gamma=1.0, learning_rate=0.3, max_depth=6;, score=0.952 total time= 3.3min\n",
      "[CV 1/3; 11/27] START gamma=2.0, learning_rate=0.1, max_depth=6.................\n",
      "[CV 1/3; 9/27] END gamma=1.0, learning_rate=0.3, max_depth=7;, score=0.953 total time= 3.3min\n",
      "[CV 2/3; 11/27] START gamma=2.0, learning_rate=0.1, max_depth=6.................\n",
      "[CV 3/3; 6/27] END gamma=1.0, learning_rate=0.2, max_depth=7;, score=0.958 total time= 4.9min\n",
      "[CV 3/3; 11/27] START gamma=2.0, learning_rate=0.1, max_depth=6.................\n",
      "[CV 2/3; 6/27] END gamma=1.0, learning_rate=0.2, max_depth=7;, score=0.957 total time= 5.1min\n",
      "[CV 1/3; 12/27] START gamma=2.0, learning_rate=0.1, max_depth=7.................\n",
      "[CV 1/3; 8/27] END gamma=1.0, learning_rate=0.3, max_depth=6;, score=0.961 total time= 4.3min\n",
      "[CV 2/3; 12/27] START gamma=2.0, learning_rate=0.1, max_depth=7.................\n",
      "[CV 3/3; 9/27] END gamma=1.0, learning_rate=0.3, max_depth=7;, score=0.943 total time= 2.4min\n",
      "[CV 3/3; 12/27] START gamma=2.0, learning_rate=0.1, max_depth=7.................\n",
      "[CV 2/3; 9/27] END gamma=1.0, learning_rate=0.3, max_depth=7;, score=0.947 total time= 2.8min\n",
      "[CV 1/3; 13/27] START gamma=2.0, learning_rate=0.2, max_depth=5.................\n",
      "[CV 1/3; 10/27] END gamma=2.0, learning_rate=0.1, max_depth=5;, score=0.927 total time= 3.5min\n",
      "[CV 2/3; 13/27] START gamma=2.0, learning_rate=0.2, max_depth=5.................\n",
      "[CV 2/3; 10/27] END gamma=2.0, learning_rate=0.1, max_depth=5;, score=0.928 total time= 3.8min\n",
      "[CV 3/3; 13/27] START gamma=2.0, learning_rate=0.2, max_depth=5.................\n",
      "[CV 3/3; 10/27] END gamma=2.0, learning_rate=0.1, max_depth=5;, score=0.930 total time= 3.8min\n",
      "[CV 1/3; 14/27] START gamma=2.0, learning_rate=0.2, max_depth=6.................\n",
      "[CV 1/3; 11/27] END gamma=2.0, learning_rate=0.1, max_depth=6;, score=0.936 total time= 4.4min\n",
      "[CV 2/3; 14/27] START gamma=2.0, learning_rate=0.2, max_depth=6.................\n",
      "[CV 2/3; 11/27] END gamma=2.0, learning_rate=0.1, max_depth=6;, score=0.933 total time= 4.5min\n",
      "[CV 3/3; 14/27] START gamma=2.0, learning_rate=0.2, max_depth=6.................\n",
      "[CV 3/3; 11/27] END gamma=2.0, learning_rate=0.1, max_depth=6;, score=0.937 total time= 4.4min\n",
      "[CV 1/3; 15/27] START gamma=2.0, learning_rate=0.2, max_depth=7.................\n",
      "[CV 1/3; 13/27] END gamma=2.0, learning_rate=0.2, max_depth=5;, score=0.943 total time= 3.6min\n",
      "[CV 2/3; 15/27] START gamma=2.0, learning_rate=0.2, max_depth=7.................\n",
      "[CV 1/3; 12/27] END gamma=2.0, learning_rate=0.1, max_depth=7;, score=0.944 total time= 4.9min\n",
      "[CV 3/3; 15/27] START gamma=2.0, learning_rate=0.2, max_depth=7.................\n",
      "[CV 3/3; 12/27] END gamma=2.0, learning_rate=0.1, max_depth=7;, score=0.932 total time= 3.8min\n",
      "[CV 1/3; 16/27] START gamma=2.0, learning_rate=0.3, max_depth=5.................\n",
      "[CV 2/3; 12/27] END gamma=2.0, learning_rate=0.1, max_depth=7;, score=0.943 total time= 5.0min\n",
      "[CV 2/3; 16/27] START gamma=2.0, learning_rate=0.3, max_depth=5.................\n",
      "[CV 2/3; 13/27] END gamma=2.0, learning_rate=0.2, max_depth=5;, score=0.941 total time= 3.8min\n",
      "[CV 3/3; 16/27] START gamma=2.0, learning_rate=0.3, max_depth=5.................\n",
      "[CV 1/3; 16/27] END gamma=2.0, learning_rate=0.3, max_depth=5;, score=0.927 total time= 1.8min\n",
      "[CV 1/3; 17/27] START gamma=2.0, learning_rate=0.3, max_depth=6.................\n",
      "[CV 3/3; 13/27] END gamma=2.0, learning_rate=0.2, max_depth=5;, score=0.944 total time= 3.9min\n",
      "[CV 2/3; 17/27] START gamma=2.0, learning_rate=0.3, max_depth=6.................\n",
      "[CV 3/3; 14/27] END gamma=2.0, learning_rate=0.2, max_depth=6;, score=0.942 total time= 3.6min\n",
      "[CV 3/3; 17/27] START gamma=2.0, learning_rate=0.3, max_depth=6.................\n",
      "[CV 1/3; 14/27] END gamma=2.0, learning_rate=0.2, max_depth=6;, score=0.951 total time= 4.7min\n",
      "[CV 1/3; 18/27] START gamma=2.0, learning_rate=0.3, max_depth=7.................\n",
      "[CV 2/3; 14/27] END gamma=2.0, learning_rate=0.2, max_depth=6;, score=0.951 total time= 4.7min\n",
      "[CV 2/3; 18/27] START gamma=2.0, learning_rate=0.3, max_depth=7.................\n",
      "[CV 2/3; 16/27] END gamma=2.0, learning_rate=0.3, max_depth=5;, score=0.941 total time= 3.4min\n",
      "[CV 3/3; 18/27] START gamma=2.0, learning_rate=0.3, max_depth=7.................\n",
      "[CV 3/3; 15/27] END gamma=2.0, learning_rate=0.2, max_depth=7;, score=0.951 total time= 4.3min\n",
      "[CV 1/3; 19/27] START gamma=3.0, learning_rate=0.1, max_depth=5.................\n",
      "[CV 2/3; 15/27] END gamma=2.0, learning_rate=0.2, max_depth=7;, score=0.950 total time= 4.5min\n",
      "[CV 2/3; 19/27] START gamma=3.0, learning_rate=0.1, max_depth=5.................\n",
      "[CV 1/3; 15/27] END gamma=2.0, learning_rate=0.2, max_depth=7;, score=0.958 total time= 5.3min\n",
      "[CV 3/3; 19/27] START gamma=3.0, learning_rate=0.1, max_depth=5.................\n",
      "[CV 3/3; 16/27] END gamma=2.0, learning_rate=0.3, max_depth=5;, score=0.952 total time= 4.0min\n",
      "[CV 1/3; 20/27] START gamma=3.0, learning_rate=0.1, max_depth=6.................\n",
      "[CV 3/3; 18/27] END gamma=2.0, learning_rate=0.3, max_depth=7;, score=0.931 total time= 1.9min\n",
      "[CV 2/3; 20/27] START gamma=3.0, learning_rate=0.1, max_depth=6.................\n",
      "[CV 1/3; 17/27] END gamma=2.0, learning_rate=0.3, max_depth=6;, score=0.961 total time= 4.7min\n",
      "[CV 3/3; 20/27] START gamma=3.0, learning_rate=0.1, max_depth=6.................\n",
      "[CV 2/3; 17/27] END gamma=2.0, learning_rate=0.3, max_depth=6;, score=0.957 total time= 4.7min\n",
      "[CV 1/3; 21/27] START gamma=3.0, learning_rate=0.1, max_depth=7.................\n",
      "[CV 1/3; 18/27] END gamma=2.0, learning_rate=0.3, max_depth=7;, score=0.957 total time= 3.7min\n",
      "[CV 2/3; 21/27] START gamma=3.0, learning_rate=0.1, max_depth=7.................\n",
      "[CV 3/3; 17/27] END gamma=2.0, learning_rate=0.3, max_depth=6;, score=0.960 total time= 4.6min\n",
      "[CV 3/3; 21/27] START gamma=3.0, learning_rate=0.1, max_depth=7.................\n",
      "[CV 1/3; 19/27] END gamma=3.0, learning_rate=0.1, max_depth=5;, score=0.930 total time= 4.0min\n",
      "[CV 1/3; 22/27] START gamma=3.0, learning_rate=0.2, max_depth=5.................\n",
      "[CV 2/3; 19/27] END gamma=3.0, learning_rate=0.1, max_depth=5;, score=0.930 total time= 4.0min\n",
      "[CV 2/3; 22/27] START gamma=3.0, learning_rate=0.2, max_depth=5.................\n",
      "[CV 3/3; 19/27] END gamma=3.0, learning_rate=0.1, max_depth=5;, score=0.930 total time= 4.0min\n",
      "[CV 3/3; 22/27] START gamma=3.0, learning_rate=0.2, max_depth=5.................\n",
      "[CV 2/3; 18/27] END gamma=2.0, learning_rate=0.3, max_depth=7;, score=0.966 total time= 5.1min\n",
      "[CV 1/3; 23/27] START gamma=3.0, learning_rate=0.2, max_depth=6.................\n",
      "[CV 1/3; 20/27] END gamma=3.0, learning_rate=0.1, max_depth=6;, score=0.935 total time= 4.6min\n",
      "[CV 2/3; 23/27] START gamma=3.0, learning_rate=0.2, max_depth=6.................\n",
      "[CV 2/3; 20/27] END gamma=3.0, learning_rate=0.1, max_depth=6;, score=0.935 total time= 4.6min\n",
      "[CV 3/3; 23/27] START gamma=3.0, learning_rate=0.2, max_depth=6.................\n",
      "[CV 3/3; 20/27] END gamma=3.0, learning_rate=0.1, max_depth=6;, score=0.937 total time= 4.6min\n",
      "[CV 1/3; 24/27] START gamma=3.0, learning_rate=0.2, max_depth=7.................\n",
      "[CV 3/3; 21/27] END gamma=3.0, learning_rate=0.1, max_depth=7;, score=0.932 total time= 4.1min\n",
      "[CV 2/3; 24/27] START gamma=3.0, learning_rate=0.2, max_depth=7.................\n",
      "[CV 2/3; 22/27] END gamma=3.0, learning_rate=0.2, max_depth=5;, score=0.935 total time= 3.1min\n",
      "[CV 3/3; 24/27] START gamma=3.0, learning_rate=0.2, max_depth=7.................\n",
      "[CV 3/3; 22/27] END gamma=3.0, learning_rate=0.2, max_depth=5;, score=0.937 total time= 3.3min\n",
      "[CV 1/3; 25/27] START gamma=3.0, learning_rate=0.3, max_depth=5.................\n",
      "[CV 2/3; 21/27] END gamma=3.0, learning_rate=0.1, max_depth=7;, score=0.941 total time= 5.2min\n",
      "[CV 2/3; 25/27] START gamma=3.0, learning_rate=0.3, max_depth=5.................\n",
      "[CV 1/3; 22/27] END gamma=3.0, learning_rate=0.2, max_depth=5;, score=0.940 total time= 3.8min\n",
      "[CV 3/3; 25/27] START gamma=3.0, learning_rate=0.3, max_depth=5.................\n",
      "[CV 1/3; 21/27] END gamma=3.0, learning_rate=0.1, max_depth=7;, score=0.942 total time= 5.3min\n",
      "[CV 1/3; 26/27] START gamma=3.0, learning_rate=0.3, max_depth=6.................\n",
      "[CV 1/3; 23/27] END gamma=3.0, learning_rate=0.2, max_depth=6;, score=0.947 total time= 4.0min\n",
      "[CV 2/3; 26/27] START gamma=3.0, learning_rate=0.3, max_depth=6.................\n",
      "[CV 2/3; 23/27] END gamma=3.0, learning_rate=0.2, max_depth=6;, score=0.951 total time= 4.4min\n",
      "[CV 3/3; 26/27] START gamma=3.0, learning_rate=0.3, max_depth=6.................\n",
      "[CV 3/3; 23/27] END gamma=3.0, learning_rate=0.2, max_depth=6;, score=0.950 total time= 4.3min\n",
      "[CV 1/3; 27/27] START gamma=3.0, learning_rate=0.3, max_depth=7.................\n",
      "[CV 2/3; 25/27] END gamma=3.0, learning_rate=0.3, max_depth=5;, score=0.940 total time= 2.8min\n",
      "[CV 2/3; 27/27] START gamma=3.0, learning_rate=0.3, max_depth=7.................\n",
      "[CV 3/3; 25/27] END gamma=3.0, learning_rate=0.3, max_depth=5;, score=0.945 total time= 3.0min\n",
      "[CV 3/3; 27/27] START gamma=3.0, learning_rate=0.3, max_depth=7.................\n",
      "[CV 1/3; 25/27] END gamma=3.0, learning_rate=0.3, max_depth=5;, score=0.946 total time= 3.3min\n",
      "[CV 1/3; 26/27] END gamma=3.0, learning_rate=0.3, max_depth=6;, score=0.954 total time= 3.5min\n",
      "[CV 2/3; 26/27] END gamma=3.0, learning_rate=0.3, max_depth=6;, score=0.944 total time= 2.7min\n",
      "[CV 1/3; 24/27] END gamma=3.0, learning_rate=0.2, max_depth=7;, score=0.961 total time= 4.7min\n",
      "[CV 2/3; 24/27] END gamma=3.0, learning_rate=0.2, max_depth=7;, score=0.955 total time= 4.6min\n",
      "[CV 3/3; 24/27] END gamma=3.0, learning_rate=0.2, max_depth=7;, score=0.960 total time= 4.6min\n",
      "[CV 3/3; 27/27] END gamma=3.0, learning_rate=0.3, max_depth=7;, score=0.944 total time= 1.6min\n",
      "[CV 3/3; 26/27] END gamma=3.0, learning_rate=0.3, max_depth=6;, score=0.961 total time= 2.5min\n",
      "[CV 2/3; 27/27] END gamma=3.0, learning_rate=0.3, max_depth=7;, score=0.961 total time= 2.4min\n",
      "[CV 1/3; 27/27] END gamma=3.0, learning_rate=0.3, max_depth=7;, score=0.964 total time= 2.4min\n"
     ]
    },
    {
     "output_type": "execute_result",
     "data": {
      "text/plain": [
       "GridSearchCV(cv=3,\n",
       "             estimator=XGBClassifier(base_score=None, booster=None,\n",
       "                                     colsample_bylevel=None,\n",
       "                                     colsample_bynode=None,\n",
       "                                     colsample_bytree=None,\n",
       "                                     enable_categorical=False, gamma=None,\n",
       "                                     gpu_id=None, importance_type=None,\n",
       "                                     interaction_constraints=None,\n",
       "                                     learning_rate=None, max_delta_step=None,\n",
       "                                     max_depth=None, min_child_weight=None,\n",
       "                                     missing=nan, monotone_constraints=None,\n",
       "                                     n_estimators=100, n_jobs=None,\n",
       "                                     num_parallel_tree=None, predictor=None,\n",
       "                                     random_state=None, reg_alpha=None,\n",
       "                                     reg_lambda=None, scale_pos_weight=None,\n",
       "                                     subsample=0.9, tree_method=None,\n",
       "                                     use_label_encoder=False,\n",
       "                                     validate_parameters=None, verbosity=None),\n",
       "             n_jobs=10,\n",
       "             param_grid={'gamma': [1.0, 2.0, 3.0],\n",
       "                         'learning_rate': [0.1, 0.2, 0.3],\n",
       "                         'max_depth': [5, 6, 7]},\n",
       "             scoring='roc_auc', verbose=10)"
      ]
     },
     "metadata": {},
     "execution_count": 6
    }
   ],
   "metadata": {}
  },
  {
   "cell_type": "code",
   "execution_count": 7,
   "source": [
    "print(f\"best parameters: {optimal_params.best_params_},\\nROC_AUC score: {optimal_params.best_score_}\")"
   ],
   "outputs": [
    {
     "output_type": "stream",
     "name": "stdout",
     "text": [
      "best parameters: {'gamma': 2.0, 'learning_rate': 0.3, 'max_depth': 6},\n",
      "ROC_AUC score: 0.9595241207359106\n"
     ]
    }
   ],
   "metadata": {}
  },
  {
   "cell_type": "code",
   "execution_count": 91,
   "source": [
    "X_train"
   ],
   "outputs": [
    {
     "output_type": "execute_result",
     "data": {
      "text/html": [
       "<div>\n",
       "<style scoped>\n",
       "    .dataframe tbody tr th:only-of-type {\n",
       "        vertical-align: middle;\n",
       "    }\n",
       "\n",
       "    .dataframe tbody tr th {\n",
       "        vertical-align: top;\n",
       "    }\n",
       "\n",
       "    .dataframe thead th {\n",
       "        text-align: right;\n",
       "    }\n",
       "</style>\n",
       "<table border=\"1\" class=\"dataframe\">\n",
       "  <thead>\n",
       "    <tr style=\"text-align: right;\">\n",
       "      <th></th>\n",
       "      <th>test_week</th>\n",
       "      <th>cough</th>\n",
       "      <th>fever</th>\n",
       "      <th>sore_throat</th>\n",
       "      <th>shortness_of_breath</th>\n",
       "      <th>head_ache</th>\n",
       "      <th>test_indication_0</th>\n",
       "      <th>test_indication_1</th>\n",
       "      <th>test_indication_2</th>\n",
       "    </tr>\n",
       "  </thead>\n",
       "  <tbody>\n",
       "    <tr>\n",
       "      <th>74721</th>\n",
       "      <td>17</td>\n",
       "      <td>0</td>\n",
       "      <td>0</td>\n",
       "      <td>0</td>\n",
       "      <td>0</td>\n",
       "      <td>0</td>\n",
       "      <td>1</td>\n",
       "      <td>0</td>\n",
       "      <td>0</td>\n",
       "    </tr>\n",
       "    <tr>\n",
       "      <th>51756</th>\n",
       "      <td>17</td>\n",
       "      <td>0</td>\n",
       "      <td>0</td>\n",
       "      <td>0</td>\n",
       "      <td>0</td>\n",
       "      <td>0</td>\n",
       "      <td>1</td>\n",
       "      <td>0</td>\n",
       "      <td>0</td>\n",
       "    </tr>\n",
       "    <tr>\n",
       "      <th>52814</th>\n",
       "      <td>17</td>\n",
       "      <td>0</td>\n",
       "      <td>0</td>\n",
       "      <td>0</td>\n",
       "      <td>0</td>\n",
       "      <td>0</td>\n",
       "      <td>1</td>\n",
       "      <td>0</td>\n",
       "      <td>0</td>\n",
       "    </tr>\n",
       "    <tr>\n",
       "      <th>51845</th>\n",
       "      <td>17</td>\n",
       "      <td>1</td>\n",
       "      <td>0</td>\n",
       "      <td>0</td>\n",
       "      <td>0</td>\n",
       "      <td>0</td>\n",
       "      <td>1</td>\n",
       "      <td>0</td>\n",
       "      <td>0</td>\n",
       "    </tr>\n",
       "    <tr>\n",
       "      <th>159005</th>\n",
       "      <td>15</td>\n",
       "      <td>0</td>\n",
       "      <td>0</td>\n",
       "      <td>0</td>\n",
       "      <td>0</td>\n",
       "      <td>0</td>\n",
       "      <td>0</td>\n",
       "      <td>1</td>\n",
       "      <td>0</td>\n",
       "    </tr>\n",
       "    <tr>\n",
       "      <th>...</th>\n",
       "      <td>...</td>\n",
       "      <td>...</td>\n",
       "      <td>...</td>\n",
       "      <td>...</td>\n",
       "      <td>...</td>\n",
       "      <td>...</td>\n",
       "      <td>...</td>\n",
       "      <td>...</td>\n",
       "      <td>...</td>\n",
       "    </tr>\n",
       "    <tr>\n",
       "      <th>271790</th>\n",
       "      <td>11</td>\n",
       "      <td>0</td>\n",
       "      <td>0</td>\n",
       "      <td>1</td>\n",
       "      <td>0</td>\n",
       "      <td>0</td>\n",
       "      <td>1</td>\n",
       "      <td>0</td>\n",
       "      <td>0</td>\n",
       "    </tr>\n",
       "    <tr>\n",
       "      <th>238572</th>\n",
       "      <td>13</td>\n",
       "      <td>0</td>\n",
       "      <td>0</td>\n",
       "      <td>0</td>\n",
       "      <td>0</td>\n",
       "      <td>0</td>\n",
       "      <td>0</td>\n",
       "      <td>1</td>\n",
       "      <td>0</td>\n",
       "    </tr>\n",
       "    <tr>\n",
       "      <th>212349</th>\n",
       "      <td>14</td>\n",
       "      <td>0</td>\n",
       "      <td>0</td>\n",
       "      <td>0</td>\n",
       "      <td>0</td>\n",
       "      <td>0</td>\n",
       "      <td>0</td>\n",
       "      <td>1</td>\n",
       "      <td>0</td>\n",
       "    </tr>\n",
       "    <tr>\n",
       "      <th>255078</th>\n",
       "      <td>13</td>\n",
       "      <td>1</td>\n",
       "      <td>1</td>\n",
       "      <td>0</td>\n",
       "      <td>0</td>\n",
       "      <td>0</td>\n",
       "      <td>1</td>\n",
       "      <td>0</td>\n",
       "      <td>0</td>\n",
       "    </tr>\n",
       "    <tr>\n",
       "      <th>40155</th>\n",
       "      <td>17</td>\n",
       "      <td>0</td>\n",
       "      <td>0</td>\n",
       "      <td>0</td>\n",
       "      <td>0</td>\n",
       "      <td>0</td>\n",
       "      <td>1</td>\n",
       "      <td>0</td>\n",
       "      <td>0</td>\n",
       "    </tr>\n",
       "  </tbody>\n",
       "</table>\n",
       "<p>312010 rows × 9 columns</p>\n",
       "</div>"
      ],
      "text/plain": [
       "        test_week  cough  fever  sore_throat  shortness_of_breath  head_ache  \\\n",
       "74721          17      0      0            0                    0          0   \n",
       "51756          17      0      0            0                    0          0   \n",
       "52814          17      0      0            0                    0          0   \n",
       "51845          17      1      0            0                    0          0   \n",
       "159005         15      0      0            0                    0          0   \n",
       "...           ...    ...    ...          ...                  ...        ...   \n",
       "271790         11      0      0            1                    0          0   \n",
       "238572         13      0      0            0                    0          0   \n",
       "212349         14      0      0            0                    0          0   \n",
       "255078         13      1      1            0                    0          0   \n",
       "40155          17      0      0            0                    0          0   \n",
       "\n",
       "        test_indication_0  test_indication_1  test_indication_2  \n",
       "74721                   1                  0                  0  \n",
       "51756                   1                  0                  0  \n",
       "52814                   1                  0                  0  \n",
       "51845                   1                  0                  0  \n",
       "159005                  0                  1                  0  \n",
       "...                   ...                ...                ...  \n",
       "271790                  1                  0                  0  \n",
       "238572                  0                  1                  0  \n",
       "212349                  0                  1                  0  \n",
       "255078                  1                  0                  0  \n",
       "40155                   1                  0                  0  \n",
       "\n",
       "[312010 rows x 9 columns]"
      ]
     },
     "metadata": {},
     "execution_count": 91
    }
   ],
   "metadata": {}
  },
  {
   "cell_type": "markdown",
   "source": [
    "## Run the Xgboost again with the optimized hyperparameters:"
   ],
   "metadata": {}
  },
  {
   "cell_type": "code",
   "execution_count": 92,
   "source": [
    "xgb_post_val = xgb.XGBClassifier(objective='binary:logistic', learning_rate=0.3, max_depth=6, reg_lambda=0, gamma=2.0, scale_pos_weight=3)\n",
    "xgb_post_val.fit(X_train, y_train,verbose=True, early_stopping_rounds=10, eval_metric='aucpr', eval_set=[(X_val, y_val)])\n",
    "xgb_post_val_pred = xgb_post_val.predict(X_test)\n",
    "\n",
    "mh.model_evaluation(y_test, xgb_post_val_pred)"
   ],
   "outputs": [
    {
     "output_type": "stream",
     "name": "stderr",
     "text": [
      "/home/nirlalum/.local/lib/python3.8/site-packages/xgboost/sklearn.py:1224: UserWarning: The use of label encoder in XGBClassifier is deprecated and will be removed in a future release. To remove this warning, do the following: 1) Pass option use_label_encoder=False when constructing XGBClassifier object; and 2) Encode your labels (y) as integers starting with 0, i.e. 0, 1, 2, ..., [num_class - 1].\n",
      "  warnings.warn(label_encoder_deprecation_msg, UserWarning)\n"
     ]
    },
    {
     "output_type": "stream",
     "name": "stdout",
     "text": [
      "[0]\tvalidation_0-aucpr:0.65597\n",
      "[1]\tvalidation_0-aucpr:0.65229\n",
      "[2]\tvalidation_0-aucpr:0.66407\n",
      "[3]\tvalidation_0-aucpr:0.66872\n",
      "[4]\tvalidation_0-aucpr:0.67066\n",
      "[5]\tvalidation_0-aucpr:0.66995\n",
      "[6]\tvalidation_0-aucpr:0.67458\n",
      "[7]\tvalidation_0-aucpr:0.67752\n",
      "[8]\tvalidation_0-aucpr:0.68357\n",
      "[9]\tvalidation_0-aucpr:0.68685\n",
      "[10]\tvalidation_0-aucpr:0.68990\n",
      "[11]\tvalidation_0-aucpr:0.69172\n",
      "[12]\tvalidation_0-aucpr:0.69444\n",
      "[13]\tvalidation_0-aucpr:0.69430\n",
      "[14]\tvalidation_0-aucpr:0.69548\n",
      "[15]\tvalidation_0-aucpr:0.69660\n",
      "[16]\tvalidation_0-aucpr:0.69946\n",
      "[17]\tvalidation_0-aucpr:0.70136\n",
      "[18]\tvalidation_0-aucpr:0.70192\n",
      "[19]\tvalidation_0-aucpr:0.70586\n",
      "[20]\tvalidation_0-aucpr:0.70844\n",
      "[21]\tvalidation_0-aucpr:0.70920\n",
      "[22]\tvalidation_0-aucpr:0.71006\n",
      "[23]\tvalidation_0-aucpr:0.71006\n",
      "[24]\tvalidation_0-aucpr:0.71021\n",
      "[25]\tvalidation_0-aucpr:0.71074\n",
      "[26]\tvalidation_0-aucpr:0.71091\n",
      "[27]\tvalidation_0-aucpr:0.71114\n",
      "[28]\tvalidation_0-aucpr:0.71139\n",
      "[29]\tvalidation_0-aucpr:0.71233\n",
      "[30]\tvalidation_0-aucpr:0.71255\n",
      "[31]\tvalidation_0-aucpr:0.71276\n",
      "[32]\tvalidation_0-aucpr:0.71310\n",
      "[33]\tvalidation_0-aucpr:0.71282\n",
      "[34]\tvalidation_0-aucpr:0.71282\n",
      "[35]\tvalidation_0-aucpr:0.71319\n",
      "[36]\tvalidation_0-aucpr:0.71331\n",
      "[37]\tvalidation_0-aucpr:0.71326\n",
      "[38]\tvalidation_0-aucpr:0.71343\n",
      "[39]\tvalidation_0-aucpr:0.71347\n",
      "[40]\tvalidation_0-aucpr:0.71350\n",
      "[41]\tvalidation_0-aucpr:0.71357\n",
      "[42]\tvalidation_0-aucpr:0.71371\n",
      "[43]\tvalidation_0-aucpr:0.71323\n",
      "[44]\tvalidation_0-aucpr:0.71337\n",
      "[45]\tvalidation_0-aucpr:0.71318\n",
      "[46]\tvalidation_0-aucpr:0.71325\n",
      "[47]\tvalidation_0-aucpr:0.71346\n",
      "[48]\tvalidation_0-aucpr:0.71338\n",
      "[49]\tvalidation_0-aucpr:0.71293\n",
      "[50]\tvalidation_0-aucpr:0.71304\n",
      "[51]\tvalidation_0-aucpr:0.71304\n",
      "+-----------+---------------------+\n",
      "|   Metric  |        Score        |\n",
      "+-----------+---------------------+\n",
      "|  accuracy |  0.8709319257371678 |\n",
      "|   recall  |  0.8193263014630827 |\n",
      "|  f1 score |  0.4044679600235156 |\n",
      "| presicion | 0.26851025869759143 |\n",
      "+-----------+---------------------+\n"
     ]
    },
    {
     "output_type": "display_data",
     "data": {
      "image/png": "[encoded data removed]",
      "text/plain": [
       "<Figure size 576x576 with 2 Axes>"
      ]
     },
     "metadata": {
      "needs_background": "light"
     }
    }
   ],
   "metadata": {}
  },
  {
   "cell_type": "markdown",
   "source": [
    "# Check the missclassified examples:"
   ],
   "metadata": {}
  },
  {
   "cell_type": "markdown",
   "source": [
    "# false negative examples:"
   ],
   "metadata": {}
  },
  {
   "cell_type": "code",
   "execution_count": 93,
   "source": [
    "X_test_no_dummies = dataset.iloc[y_test.index] # so we will have the not hot encoded test indication feature\n",
    "\n",
    "y_test_aux = y_test.reset_index()\n",
    "X_test_aux = X_test_no_dummies.reset_index()\n",
    "\n",
    "# Get all indexes of the negative prediction of the classifier\n",
    "negative_indexes = xgb_post_val_pred == 0 \n",
    "\n",
    "# Get the examples that were predicted as negative\n",
    "negative_pred_exm = y_test_aux.iloc[negative_indexes] \n",
    "negative_pred_exm.drop(columns=['index'],inplace=True)\n",
    "\n",
    "# Get all the false negative examples\n",
    "false_neg_pred = X_test_no_dummies.iloc[negative_pred_exm[negative_pred_exm['corona_result']==1].index]"
   ],
   "outputs": [
    {
     "output_type": "stream",
     "name": "stderr",
     "text": [
      "/home/nirlalum/.local/lib/python3.8/site-packages/pandas/core/frame.py:4906: SettingWithCopyWarning: \n",
      "A value is trying to be set on a copy of a slice from a DataFrame\n",
      "\n",
      "See the caveats in the documentation: https://pandas.pydata.org/pandas-docs/stable/user_guide/indexing.html#returning-a-view-versus-a-copy\n",
      "  return super().drop(\n"
     ]
    }
   ],
   "metadata": {}
  },
  {
   "cell_type": "code",
   "execution_count": 94,
   "source": [
    "false_neg_pred.head()"
   ],
   "outputs": [
    {
     "output_type": "execute_result",
     "data": {
      "text/html": [
       "<div>\n",
       "<style scoped>\n",
       "    .dataframe tbody tr th:only-of-type {\n",
       "        vertical-align: middle;\n",
       "    }\n",
       "\n",
       "    .dataframe tbody tr th {\n",
       "        vertical-align: top;\n",
       "    }\n",
       "\n",
       "    .dataframe thead th {\n",
       "        text-align: right;\n",
       "    }\n",
       "</style>\n",
       "<table border=\"1\" class=\"dataframe\">\n",
       "  <thead>\n",
       "    <tr style=\"text-align: right;\">\n",
       "      <th></th>\n",
       "      <th>index</th>\n",
       "      <th>test_week</th>\n",
       "      <th>cough</th>\n",
       "      <th>fever</th>\n",
       "      <th>sore_throat</th>\n",
       "      <th>shortness_of_breath</th>\n",
       "      <th>head_ache</th>\n",
       "      <th>test_indication</th>\n",
       "      <th>corona_result</th>\n",
       "    </tr>\n",
       "  </thead>\n",
       "  <tbody>\n",
       "    <tr>\n",
       "      <th>145493</th>\n",
       "      <td>147760</td>\n",
       "      <td>15</td>\n",
       "      <td>0</td>\n",
       "      <td>0</td>\n",
       "      <td>0</td>\n",
       "      <td>0</td>\n",
       "      <td>0</td>\n",
       "      <td>0</td>\n",
       "      <td>1</td>\n",
       "    </tr>\n",
       "    <tr>\n",
       "      <th>197275</th>\n",
       "      <td>200180</td>\n",
       "      <td>14</td>\n",
       "      <td>0</td>\n",
       "      <td>0</td>\n",
       "      <td>0</td>\n",
       "      <td>0</td>\n",
       "      <td>0</td>\n",
       "      <td>0</td>\n",
       "      <td>1</td>\n",
       "    </tr>\n",
       "    <tr>\n",
       "      <th>183691</th>\n",
       "      <td>186308</td>\n",
       "      <td>14</td>\n",
       "      <td>0</td>\n",
       "      <td>0</td>\n",
       "      <td>0</td>\n",
       "      <td>0</td>\n",
       "      <td>0</td>\n",
       "      <td>0</td>\n",
       "      <td>1</td>\n",
       "    </tr>\n",
       "    <tr>\n",
       "      <th>202391</th>\n",
       "      <td>205367</td>\n",
       "      <td>14</td>\n",
       "      <td>0</td>\n",
       "      <td>0</td>\n",
       "      <td>0</td>\n",
       "      <td>0</td>\n",
       "      <td>0</td>\n",
       "      <td>0</td>\n",
       "      <td>1</td>\n",
       "    </tr>\n",
       "    <tr>\n",
       "      <th>221211</th>\n",
       "      <td>224347</td>\n",
       "      <td>13</td>\n",
       "      <td>0</td>\n",
       "      <td>0</td>\n",
       "      <td>0</td>\n",
       "      <td>0</td>\n",
       "      <td>0</td>\n",
       "      <td>0</td>\n",
       "      <td>1</td>\n",
       "    </tr>\n",
       "  </tbody>\n",
       "</table>\n",
       "</div>"
      ],
      "text/plain": [
       "         index  test_week  cough  fever  sore_throat  shortness_of_breath  \\\n",
       "145493  147760         15      0      0            0                    0   \n",
       "197275  200180         14      0      0            0                    0   \n",
       "183691  186308         14      0      0            0                    0   \n",
       "202391  205367         14      0      0            0                    0   \n",
       "221211  224347         13      0      0            0                    0   \n",
       "\n",
       "        head_ache  test_indication  corona_result  \n",
       "145493          0                0              1  \n",
       "197275          0                0              1  \n",
       "183691          0                0              1  \n",
       "202391          0                0              1  \n",
       "221211          0                0              1  "
      ]
     },
     "metadata": {},
     "execution_count": 94
    }
   ],
   "metadata": {}
  },
  {
   "cell_type": "code",
   "execution_count": 96,
   "source": [
    "hel.plot_dataset(false_neg_pred[false_neg_pred.columns[1:8]], sns.countplot, 'countplot')"
   ],
   "outputs": [
    {
     "output_type": "stream",
     "name": "stderr",
     "text": [
      "100%|██████████| 7/7 [00:00<00:00, 54.83it/s]\n"
     ]
    },
    {
     "output_type": "display_data",
     "data": {
      "image/png": "[encoded data removed]",
      "text/plain": [
       "<Figure size 1584x1152 with 8 Axes>"
      ]
     },
     "metadata": {
      "needs_background": "light"
     }
    }
   ],
   "metadata": {}
  },
  {
   "cell_type": "code",
   "execution_count": 97,
   "source": [
    "# count how many people are with no sympthoms at all and test_indication = other\n",
    "asympthomatic_exm = false_neg_pred.loc[(false_neg_pred['cough']==0) \n",
    "                                      & (false_neg_pred['fever']==0)\n",
    "                                      & (false_neg_pred['sore_throat']==0)\n",
    "                                      & (false_neg_pred['shortness_of_breath']==0)\n",
    "                                      & (false_neg_pred['head_ache']==0)\n",
    "                                      & (false_neg_pred['test_indication']==0)\n",
    "                                      ]\n",
    "\n",
    "asympthomatic_exm.head()\n",
    "len(asympthomatic_exm)\n",
    "\n",
    "print(f\"The percentage of the false negative without sympthoms and test indication is other is: {100*len(asympthomatic_exm)/len(false_neg_pred)}\")"
   ],
   "outputs": [
    {
     "output_type": "stream",
     "name": "stdout",
     "text": [
      "The percentage of the false negative without sympthoms and test indication is other is: 92.46704331450094\n"
     ]
    }
   ],
   "metadata": {}
  },
  {
   "cell_type": "markdown",
   "source": [
    "* It seems that most of the false negative are people without sympthoms. its makes sense that the model will infere that people with no sympthoms are not sick.\n",
    "* The problem with corona that many people who are sick have no sympthoms at all and I think that in this area AI models are prone to fail.\n",
    "* Also most oh the false negative made the test at the end of the corona wave so it decreases the chance to be sick"
   ],
   "metadata": {}
  },
  {
   "cell_type": "markdown",
   "source": [
    "## False positive examples:"
   ],
   "metadata": {}
  },
  {
   "cell_type": "code",
   "execution_count": 82,
   "source": [
    "X_test_no_dummies = dataset.iloc[y_test.index] # so we will have the not encoded test indication feature\n",
    "\n",
    "y_test_aux = y_test.reset_index()\n",
    "X_test_aux = X_test_no_dummies.reset_index()\n",
    "\n",
    "positive_indexes = xgb_post_val_pred == 1\n",
    "positive_pred_exm = y_test_aux.iloc[positive_indexes]\n",
    "\n",
    "positive_pred_exm.drop(columns=['index'],inplace=True)\n",
    "false_positive_pred = X_test_no_dummies.iloc[positive_pred_exm[positive_pred_exm['corona_result']==0].index]"
   ],
   "outputs": [
    {
     "output_type": "stream",
     "name": "stderr",
     "text": [
      "/home/nirlalum/.local/lib/python3.8/site-packages/pandas/core/frame.py:4906: SettingWithCopyWarning: \n",
      "A value is trying to be set on a copy of a slice from a DataFrame\n",
      "\n",
      "See the caveats in the documentation: https://pandas.pydata.org/pandas-docs/stable/user_guide/indexing.html#returning-a-view-versus-a-copy\n",
      "  return super().drop(\n"
     ]
    }
   ],
   "metadata": {}
  },
  {
   "cell_type": "code",
   "execution_count": 83,
   "source": [
    "len(false_positive_pred)"
   ],
   "outputs": [
    {
     "output_type": "execute_result",
     "data": {
      "text/plain": [
       "6822"
      ]
     },
     "metadata": {},
     "execution_count": 83
    }
   ],
   "metadata": {}
  },
  {
   "cell_type": "code",
   "execution_count": 84,
   "source": [
    "hel.plot_dataset(false_positive_pred[false_positive_pred.columns[1:8]], sns.countplot, 'countplot')"
   ],
   "outputs": [
    {
     "output_type": "stream",
     "name": "stderr",
     "text": [
      "100%|██████████| 7/7 [00:00<00:00, 47.82it/s]\n"
     ]
    },
    {
     "output_type": "display_data",
     "data": {
      "image/png": "[encoded data removed]",
      "text/plain": [
       "<Figure size 1584x1152 with 8 Axes>"
      ]
     },
     "metadata": {
      "needs_background": "light"
     }
    }
   ],
   "metadata": {}
  },
  {
   "cell_type": "code",
   "execution_count": 85,
   "source": [
    "cough_fever_gr = false_positive_pred.groupby(['cough', 'fever'])\n",
    "sub_group = cough_fever_gr.get_group((1,0))\n",
    "len(sub_group)\n"
   ],
   "outputs": [
    {
     "output_type": "execute_result",
     "data": {
      "text/plain": [
       "3670"
      ]
     },
     "metadata": {},
     "execution_count": 85
    }
   ],
   "metadata": {}
  },
  {
   "cell_type": "markdown",
   "source": [
    "## To do: (for reducing the false positive)\n",
    "\n",
    "## 1. It would be intresting to check the distribution of Pr('positive'|number of sympthoms) because here it seems that the model gave to much weight to people with cough (even to people who has only cough). The examine will be implemented in covid_data_pre_proccessing.ipynb.\n",
    "\n",
    "## 2. Finding an optimal ththreshold (it will be harder to predict positive so the false positive will be reduced)\n",
    "\n",
    "## NOTE: for now we will leave the false negative (think that there is not much to do there))."
   ],
   "metadata": {}
  },
  {
   "cell_type": "markdown",
   "source": [
    "## Try with new feature: number of sympthoms:\n"
   ],
   "metadata": {}
  },
  {
   "cell_type": "code",
   "execution_count": 123,
   "source": [
    "dataset2 = pd.read_pickle('data_for_tree2.pkl')\n",
    "X_train_raw, y_train_raw, X_test, y_test = mh.data_split(dataset2 ,n_splits=1, test_size=0.4, train_size=0.6)\n",
    "X_train, y_train = mh.up_down_sampling(X_train_raw, y_train_raw, ratio=1, up=True)\n",
    "\n",
    "data_test = pd.concat([X_test, y_test], axis=1)\n",
    "X_test, y_test, X_val, y_val = mh.data_split(data_test , n_splits=1, test_size=0.5, train_size=0.5)"
   ],
   "outputs": [],
   "metadata": {}
  },
  {
   "cell_type": "code",
   "execution_count": 126,
   "source": [
    "xgb_new_feature = xgb.XGBClassifier(objective='binary:logistic', learning_rate=0.3, max_depth=6, reg_lambda=0, gamma=2.0, scale_pos_weight=3)\n",
    "xgb_new_feature.fit(X_train, y_train,verbose=True, early_stopping_rounds=10, eval_metric='aucpr', eval_set=[(X_val, y_val)])\n",
    "xgb_new_feature_pred = xgb_new_feature.predict(X_test)\n",
    "\n",
    "mh.model_evaluation(y_test, xgb_new_feature_pred)"
   ],
   "outputs": [
    {
     "output_type": "stream",
     "name": "stdout",
     "text": [
      "[0]\tvalidation_0-aucpr:0.64040\n",
      "[1]\tvalidation_0-aucpr:0.63585\n",
      "[2]\tvalidation_0-aucpr:0.64214\n",
      "[3]\tvalidation_0-aucpr:0.65341\n",
      "[4]\tvalidation_0-aucpr:0.65991\n",
      "[5]\tvalidation_0-aucpr:0.66254\n",
      "[6]\tvalidation_0-aucpr:0.66725\n",
      "[7]\tvalidation_0-aucpr:0.66821\n",
      "[8]\tvalidation_0-aucpr:0.67045\n",
      "[9]\tvalidation_0-aucpr:0.67388\n",
      "[10]\tvalidation_0-aucpr:0.67592\n",
      "[11]\tvalidation_0-aucpr:0.67828\n",
      "[12]\tvalidation_0-aucpr:0.68234\n",
      "[13]\tvalidation_0-aucpr:0.68484\n",
      "[14]\tvalidation_0-aucpr:0.68708\n",
      "[15]\tvalidation_0-aucpr:0.68802\n",
      "[16]\tvalidation_0-aucpr:0.68779\n",
      "[17]\tvalidation_0-aucpr:0.68802\n",
      "[18]\tvalidation_0-aucpr:0.68891\n",
      "[19]\tvalidation_0-aucpr:0.68891\n",
      "[20]\tvalidation_0-aucpr:0.68996\n",
      "[21]\tvalidation_0-aucpr:0.69078\n",
      "[22]\tvalidation_0-aucpr:0.69202\n",
      "[23]\tvalidation_0-aucpr:0.69158\n",
      "[24]\tvalidation_0-aucpr:0.69101\n",
      "[25]\tvalidation_0-aucpr:0.69084\n",
      "[26]\tvalidation_0-aucpr:0.69053\n",
      "[27]\tvalidation_0-aucpr:0.69048\n",
      "[28]\tvalidation_0-aucpr:0.69095\n",
      "[29]\tvalidation_0-aucpr:0.69053\n",
      "[30]\tvalidation_0-aucpr:0.69101\n",
      "[31]\tvalidation_0-aucpr:0.69116\n",
      "[32]\tvalidation_0-aucpr:0.69142\n",
      "+-----------+---------------------+\n",
      "|   Metric  |        Score        |\n",
      "+-----------+---------------------+\n",
      "|  accuracy |  0.866963960684383  |\n",
      "|   recall  |  0.8339571282749234 |\n",
      "|  f1 score | 0.40144132339693717 |\n",
      "| presicion | 0.26434426229508196 |\n",
      "+-----------+---------------------+\n"
     ]
    },
    {
     "output_type": "display_data",
     "data": {
      "image/png": "[encoded data removed]",
      "text/plain": [
       "<Figure size 576x576 with 2 Axes>"
      ]
     },
     "metadata": {
      "needs_background": "light"
     }
    }
   ],
   "metadata": {}
  },
  {
   "cell_type": "code",
   "execution_count": 108,
   "source": [
    "xgb_new_feature = xgb.XGBClassifier(objective='binary:logistic', learning_rate=0.3, max_depth=6, reg_lambda=0, gamma=2.0, scale_pos_weight=3)\n",
    "xgb_new_feature.fit(X_train, y_train,verbose=True, early_stopping_rounds=10, eval_metric='aucpr', eval_set=[(X_val, y_val)])\n",
    "xgb_new_feature_pred = xgb_new_feature.predict_proba(X_test)[:,1] # take the probs only for positive\n",
    "\n",
    "\n",
    "\n",
    "\n"
   ],
   "outputs": [
    {
     "output_type": "stream",
     "name": "stderr",
     "text": [
      "/home/nirlalum/.local/lib/python3.8/site-packages/xgboost/sklearn.py:1224: UserWarning: The use of label encoder in XGBClassifier is deprecated and will be removed in a future release. To remove this warning, do the following: 1) Pass option use_label_encoder=False when constructing XGBClassifier object; and 2) Encode your labels (y) as integers starting with 0, i.e. 0, 1, 2, ..., [num_class - 1].\n",
      "  warnings.warn(label_encoder_deprecation_msg, UserWarning)\n"
     ]
    },
    {
     "output_type": "stream",
     "name": "stdout",
     "text": [
      "[0]\tvalidation_0-aucpr:0.68208\n",
      "[1]\tvalidation_0-aucpr:0.68397\n",
      "[2]\tvalidation_0-aucpr:0.68491\n",
      "[3]\tvalidation_0-aucpr:0.69056\n",
      "[4]\tvalidation_0-aucpr:0.69194\n",
      "[5]\tvalidation_0-aucpr:0.69280\n",
      "[6]\tvalidation_0-aucpr:0.69437\n",
      "[7]\tvalidation_0-aucpr:0.69529\n",
      "[8]\tvalidation_0-aucpr:0.69639\n",
      "[9]\tvalidation_0-aucpr:0.69733\n",
      "[10]\tvalidation_0-aucpr:0.69742\n",
      "[11]\tvalidation_0-aucpr:0.69728\n",
      "[12]\tvalidation_0-aucpr:0.69930\n",
      "[13]\tvalidation_0-aucpr:0.70012\n",
      "[14]\tvalidation_0-aucpr:0.70354\n",
      "[15]\tvalidation_0-aucpr:0.70397\n",
      "[16]\tvalidation_0-aucpr:0.70542\n",
      "[17]\tvalidation_0-aucpr:0.70569\n",
      "[18]\tvalidation_0-aucpr:0.70540\n",
      "[19]\tvalidation_0-aucpr:0.70543\n",
      "[20]\tvalidation_0-aucpr:0.70514\n",
      "[21]\tvalidation_0-aucpr:0.70631\n",
      "[22]\tvalidation_0-aucpr:0.70621\n",
      "[23]\tvalidation_0-aucpr:0.70618\n",
      "[24]\tvalidation_0-aucpr:0.70644\n",
      "[25]\tvalidation_0-aucpr:0.70674\n",
      "[26]\tvalidation_0-aucpr:0.70716\n",
      "[27]\tvalidation_0-aucpr:0.70736\n",
      "[28]\tvalidation_0-aucpr:0.70738\n",
      "[29]\tvalidation_0-aucpr:0.70684\n",
      "[30]\tvalidation_0-aucpr:0.70660\n",
      "[31]\tvalidation_0-aucpr:0.70639\n",
      "[32]\tvalidation_0-aucpr:0.70647\n",
      "[33]\tvalidation_0-aucpr:0.70650\n",
      "[34]\tvalidation_0-aucpr:0.70651\n",
      "[35]\tvalidation_0-aucpr:0.70635\n",
      "[36]\tvalidation_0-aucpr:0.70595\n",
      "[37]\tvalidation_0-aucpr:0.70604\n",
      "[38]\tvalidation_0-aucpr:0.70593\n"
     ]
    }
   ],
   "metadata": {}
  },
  {
   "cell_type": "code",
   "execution_count": 116,
   "source": [
    "threshold = 0.5\n",
    "\n",
    "\n",
    "xgb_new_feature_pred2 = 1*(xgb_new_feature_pred>threshold)\n",
    "\n",
    "\n",
    "mh.model_evaluation(y_test, xgb_new_feature_pred2)"
   ],
   "outputs": [
    {
     "output_type": "stream",
     "name": "stdout",
     "text": [
      "+-----------+---------------------+\n",
      "|   Metric  |        Score        |\n",
      "+-----------+---------------------+\n",
      "|  accuracy |  0.8706042955951948 |\n",
      "|   recall  |  0.8353181354202109 |\n",
      "|  f1 score | 0.40851984358099674 |\n",
      "| presicion | 0.27037444933920707 |\n",
      "+-----------+---------------------+\n"
     ]
    },
    {
     "output_type": "display_data",
     "data": {
      "image/png": "[encoded data removed]",
      "text/plain": [
       "<Figure size 576x576 with 2 Axes>"
      ]
     },
     "metadata": {
      "needs_background": "light"
     }
    }
   ],
   "metadata": {}
  },
  {
   "cell_type": "code",
   "execution_count": null,
   "source": [],
   "outputs": [],
   "metadata": {}
  }
 ],
 "metadata": {
  "orig_nbformat": 4,
  "language_info": {
   "name": "python",
   "version": "3.8.10",
   "mimetype": "text/x-python",
   "codemirror_mode": {
    "name": "ipython",
    "version": 3
   },
   "pygments_lexer": "ipython3",
   "nbconvert_exporter": "python",
   "file_extension": ".py"
  },
  "kernelspec": {
   "name": "python3",
   "display_name": "Python 3.8.10 64-bit"
  },
  "interpreter": {
   "hash": "916dbcbb3f70747c44a77c7bcd40155683ae19c65e1c03b4aa3499c5328201f1"
  }
 },
 "nbformat": 4,
 "nbformat_minor": 2
}