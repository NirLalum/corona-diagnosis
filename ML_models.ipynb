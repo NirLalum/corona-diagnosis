{
 "cells": [
  {
   "cell_type": "code",
   "execution_count": 4,
   "source": [
    "# ====== Packages =======\n",
    "import numpy as np\n",
    "import pandas as pd\n",
    "import matplotlib.pyplot as plt\n",
    "import seaborn as sns\n",
    "import sklearn as sk\n",
    "from tqdm import tqdm\n",
    "\n",
    "# ---- data manipulators ----\n",
    "from sklearn.model_selection import StratifiedShuffleSplit\n",
    "from sklearn.utils import resample\n",
    "\n",
    "# ---- algorithms ----\n",
    "from sklearn.dummy import DummyClassifier\n",
    "from sklearn.ensemble import RandomForestClassifier\n",
    "\n",
    "# ---- evaluation ------\n",
    "from sklearn.metrics import accuracy_score, f1_score, recall_score, precision_score, RocCurveDisplay\n",
    "\n",
    "\n",
    "\n",
    "\n",
    "# ---- user defined modules ----\n",
    "import pre_proccessing_helpers as hel\n",
    "import models_helpers as mh\n",
    "\n",
    "# This line makes matplotlib plot the figures inside the norebook\n",
    "%matplotlib inline\n",
    "\n",
    "plt.rcParams['figure.figsize'] = (8.0, 8.0)\n",
    "plt.rcParams['axes.grid'] = True\n",
    "plt.rcParams['font.size'] = 10"
   ],
   "outputs": [],
   "metadata": {}
  },
  {
   "cell_type": "code",
   "execution_count": 5,
   "source": [
    "dataset = pd.read_pickle('pre_proccessed_data.pkl')\n",
    "dataset"
   ],
   "outputs": [
    {
     "output_type": "execute_result",
     "data": {
      "text/html": [
       "<div>\n",
       "<style scoped>\n",
       "    .dataframe tbody tr th:only-of-type {\n",
       "        vertical-align: middle;\n",
       "    }\n",
       "\n",
       "    .dataframe tbody tr th {\n",
       "        vertical-align: top;\n",
       "    }\n",
       "\n",
       "    .dataframe thead th {\n",
       "        text-align: right;\n",
       "    }\n",
       "</style>\n",
       "<table border=\"1\" class=\"dataframe\">\n",
       "  <thead>\n",
       "    <tr style=\"text-align: right;\">\n",
       "      <th></th>\n",
       "      <th>test_week</th>\n",
       "      <th>cough</th>\n",
       "      <th>fever</th>\n",
       "      <th>sore_throat</th>\n",
       "      <th>shortness_of_breath</th>\n",
       "      <th>head_ache</th>\n",
       "      <th>test_indication</th>\n",
       "      <th>gender</th>\n",
       "      <th>corona_result</th>\n",
       "    </tr>\n",
       "  </thead>\n",
       "  <tbody>\n",
       "    <tr>\n",
       "      <th>0</th>\n",
       "      <td>18</td>\n",
       "      <td>no cough</td>\n",
       "      <td>no fever</td>\n",
       "      <td>no sore_throat</td>\n",
       "      <td>no shortness_of_breath</td>\n",
       "      <td>no head_ache</td>\n",
       "      <td>Other</td>\n",
       "      <td>female</td>\n",
       "      <td>0</td>\n",
       "    </tr>\n",
       "    <tr>\n",
       "      <th>1</th>\n",
       "      <td>18</td>\n",
       "      <td>cough</td>\n",
       "      <td>no fever</td>\n",
       "      <td>no sore_throat</td>\n",
       "      <td>no shortness_of_breath</td>\n",
       "      <td>no head_ache</td>\n",
       "      <td>Other</td>\n",
       "      <td>female</td>\n",
       "      <td>0</td>\n",
       "    </tr>\n",
       "    <tr>\n",
       "      <th>2</th>\n",
       "      <td>18</td>\n",
       "      <td>no cough</td>\n",
       "      <td>fever</td>\n",
       "      <td>no sore_throat</td>\n",
       "      <td>no shortness_of_breath</td>\n",
       "      <td>no head_ache</td>\n",
       "      <td>Other</td>\n",
       "      <td>male</td>\n",
       "      <td>0</td>\n",
       "    </tr>\n",
       "    <tr>\n",
       "      <th>3</th>\n",
       "      <td>18</td>\n",
       "      <td>cough</td>\n",
       "      <td>no fever</td>\n",
       "      <td>no sore_throat</td>\n",
       "      <td>no shortness_of_breath</td>\n",
       "      <td>no head_ache</td>\n",
       "      <td>Other</td>\n",
       "      <td>female</td>\n",
       "      <td>0</td>\n",
       "    </tr>\n",
       "    <tr>\n",
       "      <th>4</th>\n",
       "      <td>18</td>\n",
       "      <td>cough</td>\n",
       "      <td>no fever</td>\n",
       "      <td>no sore_throat</td>\n",
       "      <td>no shortness_of_breath</td>\n",
       "      <td>no head_ache</td>\n",
       "      <td>Other</td>\n",
       "      <td>male</td>\n",
       "      <td>0</td>\n",
       "    </tr>\n",
       "    <tr>\n",
       "      <th>...</th>\n",
       "      <td>...</td>\n",
       "      <td>...</td>\n",
       "      <td>...</td>\n",
       "      <td>...</td>\n",
       "      <td>...</td>\n",
       "      <td>...</td>\n",
       "      <td>...</td>\n",
       "      <td>...</td>\n",
       "      <td>...</td>\n",
       "    </tr>\n",
       "    <tr>\n",
       "      <th>278842</th>\n",
       "      <td>11</td>\n",
       "      <td>no cough</td>\n",
       "      <td>no fever</td>\n",
       "      <td>no sore_throat</td>\n",
       "      <td>no shortness_of_breath</td>\n",
       "      <td>no head_ache</td>\n",
       "      <td>Other</td>\n",
       "      <td>male</td>\n",
       "      <td>0</td>\n",
       "    </tr>\n",
       "    <tr>\n",
       "      <th>278843</th>\n",
       "      <td>11</td>\n",
       "      <td>no cough</td>\n",
       "      <td>no fever</td>\n",
       "      <td>no sore_throat</td>\n",
       "      <td>no shortness_of_breath</td>\n",
       "      <td>no head_ache</td>\n",
       "      <td>Other</td>\n",
       "      <td>female</td>\n",
       "      <td>0</td>\n",
       "    </tr>\n",
       "    <tr>\n",
       "      <th>278844</th>\n",
       "      <td>11</td>\n",
       "      <td>no cough</td>\n",
       "      <td>no fever</td>\n",
       "      <td>no sore_throat</td>\n",
       "      <td>no shortness_of_breath</td>\n",
       "      <td>no head_ache</td>\n",
       "      <td>Other</td>\n",
       "      <td>male</td>\n",
       "      <td>0</td>\n",
       "    </tr>\n",
       "    <tr>\n",
       "      <th>278845</th>\n",
       "      <td>11</td>\n",
       "      <td>no cough</td>\n",
       "      <td>no fever</td>\n",
       "      <td>no sore_throat</td>\n",
       "      <td>no shortness_of_breath</td>\n",
       "      <td>no head_ache</td>\n",
       "      <td>Contact with confirmed</td>\n",
       "      <td>female</td>\n",
       "      <td>1</td>\n",
       "    </tr>\n",
       "    <tr>\n",
       "      <th>278847</th>\n",
       "      <td>11</td>\n",
       "      <td>no cough</td>\n",
       "      <td>no fever</td>\n",
       "      <td>no sore_throat</td>\n",
       "      <td>no shortness_of_breath</td>\n",
       "      <td>no head_ache</td>\n",
       "      <td>Other</td>\n",
       "      <td>female</td>\n",
       "      <td>0</td>\n",
       "    </tr>\n",
       "  </tbody>\n",
       "</table>\n",
       "<p>274702 rows × 9 columns</p>\n",
       "</div>"
      ],
      "text/plain": [
       "        test_week     cough     fever     sore_throat     shortness_of_breath  \\\n",
       "0              18  no cough  no fever  no sore_throat  no shortness_of_breath   \n",
       "1              18     cough  no fever  no sore_throat  no shortness_of_breath   \n",
       "2              18  no cough     fever  no sore_throat  no shortness_of_breath   \n",
       "3              18     cough  no fever  no sore_throat  no shortness_of_breath   \n",
       "4              18     cough  no fever  no sore_throat  no shortness_of_breath   \n",
       "...           ...       ...       ...             ...                     ...   \n",
       "278842         11  no cough  no fever  no sore_throat  no shortness_of_breath   \n",
       "278843         11  no cough  no fever  no sore_throat  no shortness_of_breath   \n",
       "278844         11  no cough  no fever  no sore_throat  no shortness_of_breath   \n",
       "278845         11  no cough  no fever  no sore_throat  no shortness_of_breath   \n",
       "278847         11  no cough  no fever  no sore_throat  no shortness_of_breath   \n",
       "\n",
       "           head_ache         test_indication  gender  corona_result  \n",
       "0       no head_ache                   Other  female              0  \n",
       "1       no head_ache                   Other  female              0  \n",
       "2       no head_ache                   Other    male              0  \n",
       "3       no head_ache                   Other  female              0  \n",
       "4       no head_ache                   Other    male              0  \n",
       "...              ...                     ...     ...            ...  \n",
       "278842  no head_ache                   Other    male              0  \n",
       "278843  no head_ache                   Other  female              0  \n",
       "278844  no head_ache                   Other    male              0  \n",
       "278845  no head_ache  Contact with confirmed  female              1  \n",
       "278847  no head_ache                   Other  female              0  \n",
       "\n",
       "[274702 rows x 9 columns]"
      ]
     },
     "metadata": {},
     "execution_count": 5
    }
   ],
   "metadata": {}
  },
  {
   "cell_type": "markdown",
   "source": [
    "# MODEL"
   ],
   "metadata": {}
  },
  {
   "cell_type": "markdown",
   "source": [
    "## The first algo we'll use is RandodmForest (because all features are categorial) so the encoding will be as follow: (label1, label2, label3,.....) -> (0,1,2, .....).\n",
    "## This way we dont had more features (like in using one hot encoding) and also tree based algorithems are not sensetive to the magnitude of the labels.\n",
    "## Trees are good for imbalnced datasets"
   ],
   "metadata": {}
  },
  {
   "cell_type": "markdown",
   "source": [
    "### Encoding:"
   ],
   "metadata": {}
  },
  {
   "cell_type": "code",
   "execution_count": 6,
   "source": [
    "encode_dict = {\n",
    "                'cough': {'cough': 1, 'no cough': 0},\n",
    "                'fever': {'fever': 1, 'no fever': 0},\n",
    "                'sore_throat': {'sore_throat': 1, 'no sore_throat': 0},\n",
    "                'shortness_of_breath': {'shortness_of_breath': 1, 'no shortness_of_breath': 0},\n",
    "                'head_ache': {'head_ache': 1, 'no head_ache': 0},\n",
    "                'test_indication': {'Abroad': 2, 'Contact with confirmed': 1, 'Other': 0},\n",
    "                'gender': {'male': 1, 'female': 0}\n",
    "              }\n",
    "\n",
    "data_for_tree = dataset.replace(encode_dict)\n",
    "data_for_tree\n",
    "#hel.check_values_count(data_for_tree)"
   ],
   "outputs": [
    {
     "output_type": "execute_result",
     "data": {
      "text/html": [
       "<div>\n",
       "<style scoped>\n",
       "    .dataframe tbody tr th:only-of-type {\n",
       "        vertical-align: middle;\n",
       "    }\n",
       "\n",
       "    .dataframe tbody tr th {\n",
       "        vertical-align: top;\n",
       "    }\n",
       "\n",
       "    .dataframe thead th {\n",
       "        text-align: right;\n",
       "    }\n",
       "</style>\n",
       "<table border=\"1\" class=\"dataframe\">\n",
       "  <thead>\n",
       "    <tr style=\"text-align: right;\">\n",
       "      <th></th>\n",
       "      <th>test_week</th>\n",
       "      <th>cough</th>\n",
       "      <th>fever</th>\n",
       "      <th>sore_throat</th>\n",
       "      <th>shortness_of_breath</th>\n",
       "      <th>head_ache</th>\n",
       "      <th>test_indication</th>\n",
       "      <th>gender</th>\n",
       "      <th>corona_result</th>\n",
       "    </tr>\n",
       "  </thead>\n",
       "  <tbody>\n",
       "    <tr>\n",
       "      <th>0</th>\n",
       "      <td>18</td>\n",
       "      <td>0</td>\n",
       "      <td>0</td>\n",
       "      <td>0</td>\n",
       "      <td>0</td>\n",
       "      <td>0</td>\n",
       "      <td>0</td>\n",
       "      <td>0</td>\n",
       "      <td>0</td>\n",
       "    </tr>\n",
       "    <tr>\n",
       "      <th>1</th>\n",
       "      <td>18</td>\n",
       "      <td>1</td>\n",
       "      <td>0</td>\n",
       "      <td>0</td>\n",
       "      <td>0</td>\n",
       "      <td>0</td>\n",
       "      <td>0</td>\n",
       "      <td>0</td>\n",
       "      <td>0</td>\n",
       "    </tr>\n",
       "    <tr>\n",
       "      <th>2</th>\n",
       "      <td>18</td>\n",
       "      <td>0</td>\n",
       "      <td>1</td>\n",
       "      <td>0</td>\n",
       "      <td>0</td>\n",
       "      <td>0</td>\n",
       "      <td>0</td>\n",
       "      <td>1</td>\n",
       "      <td>0</td>\n",
       "    </tr>\n",
       "    <tr>\n",
       "      <th>3</th>\n",
       "      <td>18</td>\n",
       "      <td>1</td>\n",
       "      <td>0</td>\n",
       "      <td>0</td>\n",
       "      <td>0</td>\n",
       "      <td>0</td>\n",
       "      <td>0</td>\n",
       "      <td>0</td>\n",
       "      <td>0</td>\n",
       "    </tr>\n",
       "    <tr>\n",
       "      <th>4</th>\n",
       "      <td>18</td>\n",
       "      <td>1</td>\n",
       "      <td>0</td>\n",
       "      <td>0</td>\n",
       "      <td>0</td>\n",
       "      <td>0</td>\n",
       "      <td>0</td>\n",
       "      <td>1</td>\n",
       "      <td>0</td>\n",
       "    </tr>\n",
       "    <tr>\n",
       "      <th>...</th>\n",
       "      <td>...</td>\n",
       "      <td>...</td>\n",
       "      <td>...</td>\n",
       "      <td>...</td>\n",
       "      <td>...</td>\n",
       "      <td>...</td>\n",
       "      <td>...</td>\n",
       "      <td>...</td>\n",
       "      <td>...</td>\n",
       "    </tr>\n",
       "    <tr>\n",
       "      <th>278842</th>\n",
       "      <td>11</td>\n",
       "      <td>0</td>\n",
       "      <td>0</td>\n",
       "      <td>0</td>\n",
       "      <td>0</td>\n",
       "      <td>0</td>\n",
       "      <td>0</td>\n",
       "      <td>1</td>\n",
       "      <td>0</td>\n",
       "    </tr>\n",
       "    <tr>\n",
       "      <th>278843</th>\n",
       "      <td>11</td>\n",
       "      <td>0</td>\n",
       "      <td>0</td>\n",
       "      <td>0</td>\n",
       "      <td>0</td>\n",
       "      <td>0</td>\n",
       "      <td>0</td>\n",
       "      <td>0</td>\n",
       "      <td>0</td>\n",
       "    </tr>\n",
       "    <tr>\n",
       "      <th>278844</th>\n",
       "      <td>11</td>\n",
       "      <td>0</td>\n",
       "      <td>0</td>\n",
       "      <td>0</td>\n",
       "      <td>0</td>\n",
       "      <td>0</td>\n",
       "      <td>0</td>\n",
       "      <td>1</td>\n",
       "      <td>0</td>\n",
       "    </tr>\n",
       "    <tr>\n",
       "      <th>278845</th>\n",
       "      <td>11</td>\n",
       "      <td>0</td>\n",
       "      <td>0</td>\n",
       "      <td>0</td>\n",
       "      <td>0</td>\n",
       "      <td>0</td>\n",
       "      <td>1</td>\n",
       "      <td>0</td>\n",
       "      <td>1</td>\n",
       "    </tr>\n",
       "    <tr>\n",
       "      <th>278847</th>\n",
       "      <td>11</td>\n",
       "      <td>0</td>\n",
       "      <td>0</td>\n",
       "      <td>0</td>\n",
       "      <td>0</td>\n",
       "      <td>0</td>\n",
       "      <td>0</td>\n",
       "      <td>0</td>\n",
       "      <td>0</td>\n",
       "    </tr>\n",
       "  </tbody>\n",
       "</table>\n",
       "<p>274702 rows × 9 columns</p>\n",
       "</div>"
      ],
      "text/plain": [
       "        test_week  cough  fever  sore_throat  shortness_of_breath  head_ache  \\\n",
       "0              18      0      0            0                    0          0   \n",
       "1              18      1      0            0                    0          0   \n",
       "2              18      0      1            0                    0          0   \n",
       "3              18      1      0            0                    0          0   \n",
       "4              18      1      0            0                    0          0   \n",
       "...           ...    ...    ...          ...                  ...        ...   \n",
       "278842         11      0      0            0                    0          0   \n",
       "278843         11      0      0            0                    0          0   \n",
       "278844         11      0      0            0                    0          0   \n",
       "278845         11      0      0            0                    0          0   \n",
       "278847         11      0      0            0                    0          0   \n",
       "\n",
       "        test_indication  gender  corona_result  \n",
       "0                     0       0              0  \n",
       "1                     0       0              0  \n",
       "2                     0       1              0  \n",
       "3                     0       0              0  \n",
       "4                     0       1              0  \n",
       "...                 ...     ...            ...  \n",
       "278842                0       1              0  \n",
       "278843                0       0              0  \n",
       "278844                0       1              0  \n",
       "278845                1       0              1  \n",
       "278847                0       0              0  \n",
       "\n",
       "[274702 rows x 9 columns]"
      ]
     },
     "metadata": {},
     "execution_count": 6
    }
   ],
   "metadata": {}
  },
  {
   "cell_type": "markdown",
   "source": [
    "### Split the data to train and test (we will use cross validation instead of having a validation set because of the small number of 'positive number')\n",
    "### Because the data is imbalanced we'll use stratified random sampling so each set will represeent the whole data."
   ],
   "metadata": {}
  },
  {
   "cell_type": "code",
   "execution_count": 7,
   "source": [
    "spliter = StratifiedShuffleSplit(n_splits=1, test_size=0.2, train_size=0.8)\n",
    "X = data_for_tree.drop('corona_result', axis=1)\n",
    "y = data_for_tree['corona_result']\n",
    "train_index, test_index = next(spliter.split(X, y))\n",
    "X_train_raw, X_test = X.iloc[train_index], X.iloc[test_index]\n",
    "y_train_raw, y_test = y.iloc[train_index], y.iloc[test_index]"
   ],
   "outputs": [],
   "metadata": {}
  },
  {
   "cell_type": "markdown",
   "source": [
    "### Due to imblanced model we'll oversample the minority class:\n",
    "* Its important to oversample after spliting to train and test so same samples won't be in each set and cause to overfitting."
   ],
   "metadata": {}
  },
  {
   "cell_type": "code",
   "execution_count": 8,
   "source": [
    "# Concatenate our training data back together\n",
    "X = pd.concat([X_train_raw, y_train_raw], axis=1)\n",
    "\n",
    "# Separate minority and majority classes\n",
    "negative_samples = X[X['corona_result']==0]\n",
    "positive_samples = X[X['corona_result']==1]\n",
    "\n",
    "# Upsample the minotiry class\n",
    "ratio = 1.0\n",
    "upsampled_positive_samples = resample(positive_samples, replace=True, n_samples=int(len(negative_samples)*ratio), random_state=27)\n",
    "\n",
    "# Combine majority and upsampled minority\n",
    "X = pd.concat([negative_samples, upsampled_positive_samples])\n",
    "X['corona_result'].value_counts()\n",
    "\n",
    "# Split to X and y\n",
    "X_train = X.drop('corona_result', axis=1)\n",
    "y_train = X['corona_result']\n"
   ],
   "outputs": [],
   "metadata": {}
  },
  {
   "cell_type": "code",
   "execution_count": 9,
   "source": [
    "y_train_raw.value_counts()"
   ],
   "outputs": [
    {
     "output_type": "execute_result",
     "data": {
      "text/plain": [
       "0    208006\n",
       "1     11755\n",
       "Name: corona_result, dtype: int64"
      ]
     },
     "metadata": {},
     "execution_count": 9
    }
   ],
   "metadata": {}
  },
  {
   "cell_type": "code",
   "execution_count": 7,
   "source": [
    "## Trying SMOTE:\n",
    "#from imblearn.over_sampling import SMOTE\n",
    "\n",
    "#sm = SMOTE(1.0, random_state=27)\n",
    "#X_train, y_train = sm.fit_resample(X_train_raw, y_train_raw)\n",
    "\n",
    "\n",
    "\n",
    "\n"
   ],
   "outputs": [],
   "metadata": {}
  },
  {
   "cell_type": "code",
   "execution_count": 10,
   "source": [
    "y_train.value_counts()"
   ],
   "outputs": [
    {
     "output_type": "execute_result",
     "data": {
      "text/plain": [
       "0    208006\n",
       "1    208006\n",
       "Name: corona_result, dtype: int64"
      ]
     },
     "metadata": {},
     "execution_count": 10
    }
   ],
   "metadata": {}
  },
  {
   "cell_type": "code",
   "execution_count": 11,
   "source": [
    "## Dunmmy classifier: for getting a simple baseline to compare with other classifiers\n",
    "dummy_classifier = DummyClassifier(strategy='most_frequent')\n",
    "dummy_classifier.fit(X_train, y_train)\n",
    "y_pred = dummy_classifier.predict(X_test)\n",
    "mh.model_evaluation(y_test, y_pred)"
   ],
   "outputs": [
    {
     "output_type": "stream",
     "name": "stdout",
     "text": [
      "accuracy_score: 0.9465062521614095\n",
      " f1_score: 0.0\n",
      " recall_score: 0.0\n",
      "\n"
     ]
    },
    {
     "output_type": "display_data",
     "data": {
      "image/png": "[encoded data removed]",
      "text/plain": [
       "<Figure size 576x576 with 2 Axes>"
      ]
     },
     "metadata": {
      "needs_background": "light"
     }
    }
   ],
   "metadata": {}
  },
  {
   "cell_type": "code",
   "execution_count": 12,
   "source": [
    "# train model\n",
    "rfc = RandomForestClassifier(n_estimators=10, class_weight={0: 1, 1: 1})\n",
    "rfc.fit(X_train, y_train)\n",
    "\n",
    "# predict on test set\n",
    "rfc_pred = rfc.predict(X_test)\n",
    "\n",
    "mh.model_evaluation(y_test, rfc_pred)\n",
    "print(precision_score(y_test, rfc_pred))\n",
    "\n"
   ],
   "outputs": [
    {
     "output_type": "stream",
     "name": "stdout",
     "text": [
      "accuracy_score: 0.9277406672612439\n",
      " f1_score: 0.5426267281105991\n",
      " recall_score: 0.8012929567880231\n",
      "\n",
      "0.41020728096150494\n"
     ]
    },
    {
     "output_type": "display_data",
     "data": {
      "image/png": "[encoded data removed]",
      "text/plain": [
       "<Figure size 576x576 with 2 Axes>"
      ]
     },
     "metadata": {
      "needs_background": "light"
     }
    }
   ],
   "metadata": {}
  },
  {
   "cell_type": "code",
   "execution_count": 13,
   "source": [
    "\n",
    "RocCurveDisplay.from_estimator(rfc, X_train, y_train)\n",
    "\n",
    "# try to understand how to choose the right treshold. there is a method called roc_curve that return an array of thresholds and the thresholds are usable with predict_proba"
   ],
   "outputs": [
    {
     "output_type": "execute_result",
     "data": {
      "text/plain": [
       "<sklearn.metrics._plot.roc_curve.RocCurveDisplay at 0x7f828e81ad30>"
      ]
     },
     "metadata": {},
     "execution_count": 13
    },
    {
     "output_type": "display_data",
     "data": {
      "image/png": "[encoded data removed]",
      "text/plain": [
       "<Figure size 576x576 with 1 Axes>"
      ]
     },
     "metadata": {
      "needs_background": "light"
     }
    }
   ],
   "metadata": {}
  },
  {
   "cell_type": "markdown",
   "source": [
    "# Note: the most immportant thing is to reduce the False Negative becaue we dont want people with corona on the streets -> the more important metric is recall"
   ],
   "metadata": {}
  },
  {
   "cell_type": "markdown",
   "source": [
    "### Evaluation:"
   ],
   "metadata": {}
  }
 ],
 "metadata": {
  "orig_nbformat": 4,
  "language_info": {
   "name": "python",
   "version": "3.8.10",
   "mimetype": "text/x-python",
   "codemirror_mode": {
    "name": "ipython",
    "version": 3
   },
   "pygments_lexer": "ipython3",
   "nbconvert_exporter": "python",
   "file_extension": ".py"
  },
  "kernelspec": {
   "name": "python3",
   "display_name": "Python 3.8.10 64-bit"
  },
  "interpreter": {
   "hash": "916dbcbb3f70747c44a77c7bcd40155683ae19c65e1c03b4aa3499c5328201f1"
  }
 },
 "nbformat": 4,
 "nbformat_minor": 2
}